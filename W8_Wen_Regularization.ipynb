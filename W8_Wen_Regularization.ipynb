{
  "nbformat": 4,
  "nbformat_minor": 0,
  "metadata": {
    "colab": {
      "name": "W8_Wen_Regularization",
      "provenance": []
    },
    "kernelspec": {
      "name": "python3",
      "display_name": "Python 3"
    },
    "language_info": {
      "name": "python"
    },
    "accelerator": "GPU",
    "gpuClass": "standard"
  },
  "cells": [
    {
      "cell_type": "markdown",
      "source": [
        "# Regularization"
      ],
      "metadata": {
        "id": "1skjo_zsC9f8"
      }
    },
    {
      "cell_type": "markdown",
      "source": [
        "### Regularization과 Normalization"
      ],
      "metadata": {
        "id": "ou7Zp7aBC9jJ"
      }
    },
    {
      "cell_type": "markdown",
      "source": [
        "#### Regularization? Normalization?"
      ],
      "metadata": {
        "id": "nbCADHZBC9mI"
      }
    },
    {
      "cell_type": "markdown",
      "source": [
        "Regularization과 Normalization 이 두 개념은 서로 헷갈리는 경우가 많다. 한국어로 번역할 때 두 개념이 다 '정규화'로 번역될 때가 많아서 더욱 혼란스럽다. 우선 두 개념을 아래와 같이 정리해보겠다."
      ],
      "metadata": {
        "id": "MHSs_OJUC9rC"
      }
    },
    {
      "cell_type": "markdown",
      "source": [
        "Rgularization : 정칙화라고 불리며, 오버피팅(overfitting)을 해결하기 위한 방법 중의 하나이다. 오늘 우리가 가장 중요하게 다룰 주제이기도 하다. L1, L2 Regularization, Dropout, Batch normalization 등이 있다. 오버피팅은 한국어로 과적합이라고 하며, train set은 매우 잘 맞히지만, validation/test set은 맞히지 못하는 현상을 말한다. 비유하자면 오버피팅은 기출문제는 외워서 잘 맞히지만 새로운 응용 문제로 시험을 볼 때는 잘 풀지 못하는 경우라고 할 수 있다. 더 좋은 결과를 얻기 위해서는 새로운 시험, 즉 test set에서도 잘 맞혀야 된다. 그래서 사용하는 Regularization 기법들은 모델이 train set의 정답을 맞히지 못하도록 오버피팅을 방해(train loss가 증가) 하는 역활을 한다. 그래서 train loss는 약간 증가하지만 결과적으로, validation loss나 최종적인 test loss를 감소시키는 목적을 가지고 있다."
      ],
      "metadata": {
        "id": "7gKvYzURC9vX"
      }
    },
    {
      "cell_type": "markdown",
      "source": [
        "Normalization : 정규화라고 불리며, 이는 데이터의 형태를 좀 더 의미 있게, 혹은 트레이닝에 적합하게 전처리하는 과정이다. 데이터를 z-score로 바꾸거나 minmax scler를 사용하여 0과 1 사이의 값으로 분포를 조정하는 것들이 해당된다. 예를 들어, 금액과 같은 큰 범위의 값(10,000 ~ 10,000,000)과 시간(0-24)의 값이 들어가는 경우, 학습 초반에는 데이터 거리 간의 측정이 피쳐 값의 범위 분포 특성에 의해 왜곡되어 학습에 방해를 받게 되는 문제가 잇다. Normalization은 이를 모든 피처의 범위 분포를 동일하게 하여 모델이 풀어야 하는 문제를 좀 더 간다하게 바꾸어 주는 전처리 과정이다."
      ],
      "metadata": {
        "id": "hMp3E9TsC9x5"
      }
    },
    {
      "cell_type": "markdown",
      "source": [
        "즉, Regularization은 오버피팅을 막고자 하는 방법, Normalization은 트레이닝 할 때에 서로 범위가 다른 데이터들을 같은 범위로 바꿔주는 전처리 과정이다."
      ],
      "metadata": {
        "id": "Ya_6vD6SC90z"
      }
    },
    {
      "cell_type": "markdown",
      "source": [
        "Regularization와 Normalization의 간단한 예제로 Iris dataset의 회귀 문제를 풀면서 비교해 보겠다."
      ],
      "metadata": {
        "id": "cr4kOg3kC935"
      }
    },
    {
      "cell_type": "code",
      "source": [
        "from sklearn.datasets import load_iris\n",
        "import pandas as pd \n",
        "import matplotlib.pyplot as plt\n",
        "\n",
        "iris = load_iris()\n",
        "iris_df = pd.DataFrame(data=iris.data, columns=iris.feature_names)\n",
        "target_df = pd.DataFrame(data=iris.target, columns=['species'])\n",
        "\n",
        "# 0, 1, 2로 되어있는 target 데이터를 \n",
        "# 알아보기 쉽게 'setosa', 'versicolor', 'virginica'로 바꿉니다 \n",
        "def converter(species):\n",
        "    if species == 0:\n",
        "        return 'setosa'\n",
        "    elif species == 1:\n",
        "        return 'versicolor'\n",
        "    else:\n",
        "        return 'virginica'\n",
        "\n",
        "target_df['species'] = target_df['species'].apply(converter)\n",
        "\n",
        "iris_df = pd.concat([iris_df, target_df], axis=1)\n",
        "iris_df.head()"
      ],
      "metadata": {
        "colab": {
          "base_uri": "https://localhost:8080/",
          "height": 206
        },
        "id": "4yHYu38wHy3k",
        "outputId": "8ab5703c-4152-4d32-80de-797f6eb9e0a3"
      },
      "execution_count": 2,
      "outputs": [
        {
          "output_type": "execute_result",
          "data": {
            "text/plain": [
              "   sepal length (cm)  sepal width (cm)  petal length (cm)  petal width (cm)  \\\n",
              "0                5.1               3.5                1.4               0.2   \n",
              "1                4.9               3.0                1.4               0.2   \n",
              "2                4.7               3.2                1.3               0.2   \n",
              "3                4.6               3.1                1.5               0.2   \n",
              "4                5.0               3.6                1.4               0.2   \n",
              "\n",
              "  species  \n",
              "0  setosa  \n",
              "1  setosa  \n",
              "2  setosa  \n",
              "3  setosa  \n",
              "4  setosa  "
            ],
            "text/html": [
              "\n",
              "  <div id=\"df-81fa9613-cfbb-4da9-be18-0a34e282bbd4\">\n",
              "    <div class=\"colab-df-container\">\n",
              "      <div>\n",
              "<style scoped>\n",
              "    .dataframe tbody tr th:only-of-type {\n",
              "        vertical-align: middle;\n",
              "    }\n",
              "\n",
              "    .dataframe tbody tr th {\n",
              "        vertical-align: top;\n",
              "    }\n",
              "\n",
              "    .dataframe thead th {\n",
              "        text-align: right;\n",
              "    }\n",
              "</style>\n",
              "<table border=\"1\" class=\"dataframe\">\n",
              "  <thead>\n",
              "    <tr style=\"text-align: right;\">\n",
              "      <th></th>\n",
              "      <th>sepal length (cm)</th>\n",
              "      <th>sepal width (cm)</th>\n",
              "      <th>petal length (cm)</th>\n",
              "      <th>petal width (cm)</th>\n",
              "      <th>species</th>\n",
              "    </tr>\n",
              "  </thead>\n",
              "  <tbody>\n",
              "    <tr>\n",
              "      <th>0</th>\n",
              "      <td>5.1</td>\n",
              "      <td>3.5</td>\n",
              "      <td>1.4</td>\n",
              "      <td>0.2</td>\n",
              "      <td>setosa</td>\n",
              "    </tr>\n",
              "    <tr>\n",
              "      <th>1</th>\n",
              "      <td>4.9</td>\n",
              "      <td>3.0</td>\n",
              "      <td>1.4</td>\n",
              "      <td>0.2</td>\n",
              "      <td>setosa</td>\n",
              "    </tr>\n",
              "    <tr>\n",
              "      <th>2</th>\n",
              "      <td>4.7</td>\n",
              "      <td>3.2</td>\n",
              "      <td>1.3</td>\n",
              "      <td>0.2</td>\n",
              "      <td>setosa</td>\n",
              "    </tr>\n",
              "    <tr>\n",
              "      <th>3</th>\n",
              "      <td>4.6</td>\n",
              "      <td>3.1</td>\n",
              "      <td>1.5</td>\n",
              "      <td>0.2</td>\n",
              "      <td>setosa</td>\n",
              "    </tr>\n",
              "    <tr>\n",
              "      <th>4</th>\n",
              "      <td>5.0</td>\n",
              "      <td>3.6</td>\n",
              "      <td>1.4</td>\n",
              "      <td>0.2</td>\n",
              "      <td>setosa</td>\n",
              "    </tr>\n",
              "  </tbody>\n",
              "</table>\n",
              "</div>\n",
              "      <button class=\"colab-df-convert\" onclick=\"convertToInteractive('df-81fa9613-cfbb-4da9-be18-0a34e282bbd4')\"\n",
              "              title=\"Convert this dataframe to an interactive table.\"\n",
              "              style=\"display:none;\">\n",
              "        \n",
              "  <svg xmlns=\"http://www.w3.org/2000/svg\" height=\"24px\"viewBox=\"0 0 24 24\"\n",
              "       width=\"24px\">\n",
              "    <path d=\"M0 0h24v24H0V0z\" fill=\"none\"/>\n",
              "    <path d=\"M18.56 5.44l.94 2.06.94-2.06 2.06-.94-2.06-.94-.94-2.06-.94 2.06-2.06.94zm-11 1L8.5 8.5l.94-2.06 2.06-.94-2.06-.94L8.5 2.5l-.94 2.06-2.06.94zm10 10l.94 2.06.94-2.06 2.06-.94-2.06-.94-.94-2.06-.94 2.06-2.06.94z\"/><path d=\"M17.41 7.96l-1.37-1.37c-.4-.4-.92-.59-1.43-.59-.52 0-1.04.2-1.43.59L10.3 9.45l-7.72 7.72c-.78.78-.78 2.05 0 2.83L4 21.41c.39.39.9.59 1.41.59.51 0 1.02-.2 1.41-.59l7.78-7.78 2.81-2.81c.8-.78.8-2.07 0-2.86zM5.41 20L4 18.59l7.72-7.72 1.47 1.35L5.41 20z\"/>\n",
              "  </svg>\n",
              "      </button>\n",
              "      \n",
              "  <style>\n",
              "    .colab-df-container {\n",
              "      display:flex;\n",
              "      flex-wrap:wrap;\n",
              "      gap: 12px;\n",
              "    }\n",
              "\n",
              "    .colab-df-convert {\n",
              "      background-color: #E8F0FE;\n",
              "      border: none;\n",
              "      border-radius: 50%;\n",
              "      cursor: pointer;\n",
              "      display: none;\n",
              "      fill: #1967D2;\n",
              "      height: 32px;\n",
              "      padding: 0 0 0 0;\n",
              "      width: 32px;\n",
              "    }\n",
              "\n",
              "    .colab-df-convert:hover {\n",
              "      background-color: #E2EBFA;\n",
              "      box-shadow: 0px 1px 2px rgba(60, 64, 67, 0.3), 0px 1px 3px 1px rgba(60, 64, 67, 0.15);\n",
              "      fill: #174EA6;\n",
              "    }\n",
              "\n",
              "    [theme=dark] .colab-df-convert {\n",
              "      background-color: #3B4455;\n",
              "      fill: #D2E3FC;\n",
              "    }\n",
              "\n",
              "    [theme=dark] .colab-df-convert:hover {\n",
              "      background-color: #434B5C;\n",
              "      box-shadow: 0px 1px 3px 1px rgba(0, 0, 0, 0.15);\n",
              "      filter: drop-shadow(0px 1px 2px rgba(0, 0, 0, 0.3));\n",
              "      fill: #FFFFFF;\n",
              "    }\n",
              "  </style>\n",
              "\n",
              "      <script>\n",
              "        const buttonEl =\n",
              "          document.querySelector('#df-81fa9613-cfbb-4da9-be18-0a34e282bbd4 button.colab-df-convert');\n",
              "        buttonEl.style.display =\n",
              "          google.colab.kernel.accessAllowed ? 'block' : 'none';\n",
              "\n",
              "        async function convertToInteractive(key) {\n",
              "          const element = document.querySelector('#df-81fa9613-cfbb-4da9-be18-0a34e282bbd4');\n",
              "          const dataTable =\n",
              "            await google.colab.kernel.invokeFunction('convertToInteractive',\n",
              "                                                     [key], {});\n",
              "          if (!dataTable) return;\n",
              "\n",
              "          const docLinkHtml = 'Like what you see? Visit the ' +\n",
              "            '<a target=\"_blank\" href=https://colab.research.google.com/notebooks/data_table.ipynb>data table notebook</a>'\n",
              "            + ' to learn more about interactive tables.';\n",
              "          element.innerHTML = '';\n",
              "          dataTable['output_type'] = 'display_data';\n",
              "          await google.colab.output.renderOutput(dataTable, element);\n",
              "          const docLink = document.createElement('div');\n",
              "          docLink.innerHTML = docLinkHtml;\n",
              "          element.appendChild(docLink);\n",
              "        }\n",
              "      </script>\n",
              "    </div>\n",
              "  </div>\n",
              "  "
            ]
          },
          "metadata": {},
          "execution_count": 2
        }
      ]
    },
    {
      "cell_type": "markdown",
      "source": [
        "Iris data 중 virginica라는 종의 petal length(꽃잎 길이)를 X, sepal length(꽃받침의 길이)를 Y로 두고 print 해보겠다."
      ],
      "metadata": {
        "id": "dB4LvVS8C96u"
      }
    },
    {
      "cell_type": "code",
      "source": [
        "X = [iris_df['petal length (cm)'][a] for a in iris_df.index if iris_df['species'][a]=='virginica']\n",
        "Y = [iris_df['sepal length (cm)'][a] for a in iris_df.index if iris_df['species'][a]=='virginica']\n",
        "\n",
        "print(X)\n",
        "print(Y)"
      ],
      "metadata": {
        "colab": {
          "base_uri": "https://localhost:8080/"
        },
        "id": "PPPTRQU7IRBr",
        "outputId": "91e4ed22-e390-4f44-d30a-a206ef42fdf2"
      },
      "execution_count": 3,
      "outputs": [
        {
          "output_type": "stream",
          "name": "stdout",
          "text": [
            "[6.0, 5.1, 5.9, 5.6, 5.8, 6.6, 4.5, 6.3, 5.8, 6.1, 5.1, 5.3, 5.5, 5.0, 5.1, 5.3, 5.5, 6.7, 6.9, 5.0, 5.7, 4.9, 6.7, 4.9, 5.7, 6.0, 4.8, 4.9, 5.6, 5.8, 6.1, 6.4, 5.6, 5.1, 5.6, 6.1, 5.6, 5.5, 4.8, 5.4, 5.6, 5.1, 5.1, 5.9, 5.7, 5.2, 5.0, 5.2, 5.4, 5.1]\n",
            "[6.3, 5.8, 7.1, 6.3, 6.5, 7.6, 4.9, 7.3, 6.7, 7.2, 6.5, 6.4, 6.8, 5.7, 5.8, 6.4, 6.5, 7.7, 7.7, 6.0, 6.9, 5.6, 7.7, 6.3, 6.7, 7.2, 6.2, 6.1, 6.4, 7.2, 7.4, 7.9, 6.4, 6.3, 6.1, 7.7, 6.3, 6.4, 6.0, 6.9, 6.7, 6.9, 5.8, 6.8, 6.7, 6.7, 6.3, 6.5, 6.2, 5.9]\n"
          ]
        }
      ]
    },
    {
      "cell_type": "markdown",
      "source": [
        "값으로만 보니 직관적으로 잘 와닿지 않는다. 산점도로 그려보자\n",
        "\n",
        "아직 Normalization을 하지 않았기 때문에 x축과 y축은 각각의 최솟값과 최댓값의 범위로 그려진다."
      ],
      "metadata": {
        "id": "hLFR61j2C9-P"
      }
    },
    {
      "cell_type": "code",
      "source": [
        "plt.figure(figsize=(5,5))\n",
        "plt.scatter(X,Y)\n",
        "plt.title('petal-sepal scatter before normalization') \n",
        "plt.xlabel('petal length (cm)')\n",
        "plt.ylabel('sepal length (cm)')\n",
        "plt.grid()\n",
        "plt.show()"
      ],
      "metadata": {
        "colab": {
          "base_uri": "https://localhost:8080/",
          "height": 350
        },
        "id": "4zYVXynkIoSE",
        "outputId": "2fd30672-f12a-45e1-fd7f-e4c7edfe3b62"
      },
      "execution_count": 4,
      "outputs": [
        {
          "output_type": "display_data",
          "data": {
            "text/plain": [
              "<Figure size 360x360 with 1 Axes>"
            ],
            "image/png": "[encoded data removed]"
          },
          "metadata": {
            "needs_background": "light"
          }
        }
      ]
    },
    {
      "cell_type": "markdown",
      "source": [
        "그래프의 축을 잘 살펴보자.\n",
        "\n",
        "이제 0~1로 normalization을 해주는 minmax_scale를 이용해서 산점도를 다시 한 번 그려보자."
      ],
      "metadata": {
        "id": "xdLiiQzOC-Ci"
      }
    },
    {
      "cell_type": "code",
      "source": [
        "from sklearn.preprocessing import minmax_scale\n",
        "\n",
        "X_scale = minmax_scale(X)\n",
        "Y_scale = minmax_scale(Y)\n",
        "\n",
        "plt.figure(figsize=(5,5))\n",
        "plt.scatter(X_scale,Y_scale)\n",
        "plt.title('petal-sepal scatter after normalization') \n",
        "plt.xlabel('petal length (cm)')\n",
        "plt.ylabel('sepal length (cm)')\n",
        "plt.grid()\n",
        "plt.show()"
      ],
      "metadata": {
        "colab": {
          "base_uri": "https://localhost:8080/",
          "height": 350
        },
        "id": "mj1eIpFPI0CN",
        "outputId": "a8a7a53f-4fd9-488f-891b-6859dcdf2d67"
      },
      "execution_count": 5,
      "outputs": [
        {
          "output_type": "display_data",
          "data": {
            "text/plain": [
              "<Figure size 360x360 with 1 Axes>"
            ],
            "image/png": "[encoded data removed]"
          },
          "metadata": {
            "needs_background": "light"
          }
        }
      ]
    },
    {
      "cell_type": "markdown",
      "source": [
        "결과를 비교해 보면, 가장 큰 값을 1, 가장 작은 값을 0으로 하여 축 범위가 바뀜을 확인할 수 있다. 데이터의 상대적인 분포는 바뀌지 않지만, 피처의 스케일이 0과 1 사이로 변환되었으므로 이후 X,Y의 관계를 다루기 용이해졌다."
      ],
      "metadata": {
        "id": "EJDaBnsdC-Fj"
      }
    },
    {
      "cell_type": "markdown",
      "source": [
        "이번엔 같은 데이터로 간단한 회귀 문제를 풀면서 Regularization에 대해 알아보겠다.\n",
        "\n",
        "sklearn.linear_model에 포함된 LinerRegression 모델을 사용하여 X-Y 관계를 선형으로 모델링 해보겠다. 이 sklearn.linear_model에는 L1, L2 Regression인 LAsso와 Ridge 모델도 함께 포함되어 있으므로, 이들의 차이점을 먼저 직관적으로 이해해보겠다."
      ],
      "metadata": {
        "id": "vGRENJ90C-Ht"
      }
    },
    {
      "cell_type": "code",
      "source": [
        "from sklearn.linear_model import LinearRegression\n",
        "import numpy as np \n",
        "\n",
        "X = np.array(X)\n",
        "Y = np.array(Y)\n",
        "\n",
        "# Iris Dataset을 Linear Regression으로 학습합니다. \n",
        "linear= LinearRegression()\n",
        "linear.fit(X.reshape(-1,1), Y)\n",
        "\n",
        "# Linear Regression의 기울기와 절편을 확인합니다. \n",
        "a, b=linear.coef_, linear.intercept_\n",
        "print(\"기울기 : %0.2f, 절편 : %0.2f\" %(a,b))"
      ],
      "metadata": {
        "colab": {
          "base_uri": "https://localhost:8080/"
        },
        "id": "ZCzDrEv4JhFy",
        "outputId": "9040d34f-3f41-42a5-efa2-a4ce1c0b6e3e"
      },
      "execution_count": 6,
      "outputs": [
        {
          "output_type": "stream",
          "name": "stdout",
          "text": [
            "기울기 : 1.00, 절편 : 1.06\n"
          ]
        }
      ]
    },
    {
      "cell_type": "markdown",
      "source": [
        "위에서 Linear regression으로 구한 기울기와 절편을 가지고 일차함수를 만들어 산점도와 함께 그려보겠다."
      ],
      "metadata": {
        "id": "xJKKA17KC-KC"
      }
    },
    {
      "cell_type": "code",
      "source": [
        "plt.figure(figsize=(5,5))\n",
        "plt.scatter(X,Y)\n",
        "plt.plot(X,linear.predict(X.reshape(-1,1)),'-b')\n",
        "plt.title('petal-sepal scatter with linear regression') \n",
        "plt.xlabel('petal length (cm)')\n",
        "plt.ylabel('sepal length (cm)')\n",
        "plt.grid()\n",
        "plt.show()"
      ],
      "metadata": {
        "colab": {
          "base_uri": "https://localhost:8080/",
          "height": 350
        },
        "id": "f1N4-SMbJz-f",
        "outputId": "eb083169-24d3-4243-f6e2-abbb1c21721e"
      },
      "execution_count": 7,
      "outputs": [
        {
          "output_type": "display_data",
          "data": {
            "text/plain": [
              "<Figure size 360x360 with 1 Axes>"
            ],
            "image/png": "[encoded data removed]"
          },
          "metadata": {
            "needs_background": "light"
          }
        }
      ]
    },
    {
      "cell_type": "markdown",
      "source": [
        "이번에는 L1, L2 Regularization으로 Regression을 해보겠다. 이는 Lasso, Ridge라고 부른다.\n",
        "\n",
        "먼저 L1 regularization인 Lasso로 문제를 풀어보겠다."
      ],
      "metadata": {
        "id": "NFfM3dh3C-Oq"
      }
    },
    {
      "cell_type": "code",
      "source": [
        "#L1 regularization은 Lasso로 import 합니다.\n",
        "from sklearn.linear_model import Lasso\n",
        "\n",
        "L1 = Lasso()\n",
        "L1.fit(X.reshape(-1,1), Y)\n",
        "a, b=L1.coef_, L1.intercept_\n",
        "print(\"기울기 : %0.2f, 절편 : %0.2f\" %(a,b))\n",
        "\n",
        "plt.figure(figsize=(5,5))\n",
        "plt.scatter(X,Y)\n",
        "plt.plot(X,L1.predict(X.reshape(-1,1)),'-b')\n",
        "plt.title('petal-sepal scatter with L1 regularization(Lasso)') \n",
        "plt.xlabel('petal length (cm)')\n",
        "plt.ylabel('sepal length (cm)')\n",
        "plt.grid()\n",
        "plt.show()"
      ],
      "metadata": {
        "colab": {
          "base_uri": "https://localhost:8080/",
          "height": 368
        },
        "id": "0wEfTlvFKD1l",
        "outputId": "7844d721-f5fd-40fc-dfa7-bf7f23921f37"
      },
      "execution_count": 8,
      "outputs": [
        {
          "output_type": "stream",
          "name": "stdout",
          "text": [
            "기울기 : 0.00, 절편 : 6.59\n"
          ]
        },
        {
          "output_type": "display_data",
          "data": {
            "text/plain": [
              "<Figure size 360x360 with 1 Axes>"
            ],
            "image/png": "[encoded data removed]"
          },
          "metadata": {
            "needs_background": "light"
          }
        }
      ]
    },
    {
      "cell_type": "markdown",
      "source": [
        "기울기가 0이 나온다. Lasso 방법은 제대로 문제를 풀어내지 못하는 것 같다.\n",
        "\n",
        "이제 같은 데이터셋으로 L2 regularization인 Ridge로 문제를 풀어보고 서로 비교해 보겠다."
      ],
      "metadata": {
        "id": "a5nQfkH9KHPe"
      }
    },
    {
      "cell_type": "code",
      "source": [
        "#L2 regularization은 Ridge로 import 합니다. \n",
        "from sklearn.linear_model import Ridge\n",
        "\n",
        "L2 = Ridge()\n",
        "L2.fit(X.reshape(-1,1), Y)\n",
        "a, b = L2.coef_, L2.intercept_\n",
        "print(\"기울기 : %0.2f, 절편 : %0.2f\" %(a,b))\n",
        "\n",
        "plt.figure(figsize=(5,5))\n",
        "plt.scatter(X,Y)\n",
        "plt.plot(X,L2.predict(X.reshape(-1,1)),'-b')\n",
        "plt.title('petal-sepal scatter with L2 regularization(Ridge)') \n",
        "plt.xlabel('petal length (cm)')\n",
        "plt.ylabel('sepal length (cm)')\n",
        "plt.grid()\n",
        "plt.show()"
      ],
      "metadata": {
        "colab": {
          "base_uri": "https://localhost:8080/",
          "height": 368
        },
        "id": "JKb7w8mkKUjb",
        "outputId": "367f6564-175f-412a-c354-0524750934d7"
      },
      "execution_count": 9,
      "outputs": [
        {
          "output_type": "stream",
          "name": "stdout",
          "text": [
            "기울기 : 0.93, 절편 : 1.41\n"
          ]
        },
        {
          "output_type": "display_data",
          "data": {
            "text/plain": [
              "<Figure size 360x360 with 1 Axes>"
            ],
            "image/png": "[encoded data removed]"
          },
          "metadata": {
            "needs_background": "light"
          }
        }
      ]
    },
    {
      "cell_type": "markdown",
      "source": [
        "다시 다루겠지만, Linear Regression이 L2 Norm과 관련이 있다. 그래서 L2 Regularization을 쓰는 Ridge 방법으로는 앞서 Linear Regression과 큰 차이는 없는 결과가 나온다.\n",
        "\n",
        "그러나 왜 L1 Regularization을 쓰는 Lass에서는 답이 나오지 않을까?"
      ],
      "metadata": {
        "id": "xWDDAbzWC-Q_"
      }
    },
    {
      "cell_type": "markdown",
      "source": [
        "### L1 Regularization"
      ],
      "metadata": {
        "id": "VGEqCq2WK6MS"
      }
    },
    {
      "cell_type": "code",
      "source": [
        "from sklearn.datasets import load_iris\n",
        "import pandas as pd \n",
        "import matplotlib.pyplot as plt\n",
        "\n",
        "iris = load_iris()\n",
        "iris_df = pd.DataFrame(data=iris.data, columns=iris.feature_names)\n",
        "target_df = pd.DataFrame(data=iris.target, columns=['species'])\n",
        "\n",
        "def converter(species):\n",
        "    if species == 0:\n",
        "        return 'setosa'\n",
        "    elif species == 1:\n",
        "        return 'versicolor'\n",
        "    else:\n",
        "        return 'virginica'\n",
        "\n",
        "target_df['species'] = target_df['species'].apply(converter)\n",
        "\n",
        "iris_df = pd.concat([iris_df, target_df], axis=1)\n",
        "iris_df.head()"
      ],
      "metadata": {
        "colab": {
          "base_uri": "https://localhost:8080/",
          "height": 206
        },
        "id": "PgTh2hmtLQCQ",
        "outputId": "79a3431a-c752-48a4-d6d0-e1212aadf66e"
      },
      "execution_count": 10,
      "outputs": [
        {
          "output_type": "execute_result",
          "data": {
            "text/plain": [
              "   sepal length (cm)  sepal width (cm)  petal length (cm)  petal width (cm)  \\\n",
              "0                5.1               3.5                1.4               0.2   \n",
              "1                4.9               3.0                1.4               0.2   \n",
              "2                4.7               3.2                1.3               0.2   \n",
              "3                4.6               3.1                1.5               0.2   \n",
              "4                5.0               3.6                1.4               0.2   \n",
              "\n",
              "  species  \n",
              "0  setosa  \n",
              "1  setosa  \n",
              "2  setosa  \n",
              "3  setosa  \n",
              "4  setosa  "
            ],
            "text/html": [
              "\n",
              "  <div id=\"df-5fca5054-9050-44af-8907-8a2bcd7caa26\">\n",
              "    <div class=\"colab-df-container\">\n",
              "      <div>\n",
              "<style scoped>\n",
              "    .dataframe tbody tr th:only-of-type {\n",
              "        vertical-align: middle;\n",
              "    }\n",
              "\n",
              "    .dataframe tbody tr th {\n",
              "        vertical-align: top;\n",
              "    }\n",
              "\n",
              "    .dataframe thead th {\n",
              "        text-align: right;\n",
              "    }\n",
              "</style>\n",
              "<table border=\"1\" class=\"dataframe\">\n",
              "  <thead>\n",
              "    <tr style=\"text-align: right;\">\n",
              "      <th></th>\n",
              "      <th>sepal length (cm)</th>\n",
              "      <th>sepal width (cm)</th>\n",
              "      <th>petal length (cm)</th>\n",
              "      <th>petal width (cm)</th>\n",
              "      <th>species</th>\n",
              "    </tr>\n",
              "  </thead>\n",
              "  <tbody>\n",
              "    <tr>\n",
              "      <th>0</th>\n",
              "      <td>5.1</td>\n",
              "      <td>3.5</td>\n",
              "      <td>1.4</td>\n",
              "      <td>0.2</td>\n",
              "      <td>setosa</td>\n",
              "    </tr>\n",
              "    <tr>\n",
              "      <th>1</th>\n",
              "      <td>4.9</td>\n",
              "      <td>3.0</td>\n",
              "      <td>1.4</td>\n",
              "      <td>0.2</td>\n",
              "      <td>setosa</td>\n",
              "    </tr>\n",
              "    <tr>\n",
              "      <th>2</th>\n",
              "      <td>4.7</td>\n",
              "      <td>3.2</td>\n",
              "      <td>1.3</td>\n",
              "      <td>0.2</td>\n",
              "      <td>setosa</td>\n",
              "    </tr>\n",
              "    <tr>\n",
              "      <th>3</th>\n",
              "      <td>4.6</td>\n",
              "      <td>3.1</td>\n",
              "      <td>1.5</td>\n",
              "      <td>0.2</td>\n",
              "      <td>setosa</td>\n",
              "    </tr>\n",
              "    <tr>\n",
              "      <th>4</th>\n",
              "      <td>5.0</td>\n",
              "      <td>3.6</td>\n",
              "      <td>1.4</td>\n",
              "      <td>0.2</td>\n",
              "      <td>setosa</td>\n",
              "    </tr>\n",
              "  </tbody>\n",
              "</table>\n",
              "</div>\n",
              "      <button class=\"colab-df-convert\" onclick=\"convertToInteractive('df-5fca5054-9050-44af-8907-8a2bcd7caa26')\"\n",
              "              title=\"Convert this dataframe to an interactive table.\"\n",
              "              style=\"display:none;\">\n",
              "        \n",
              "  <svg xmlns=\"http://www.w3.org/2000/svg\" height=\"24px\"viewBox=\"0 0 24 24\"\n",
              "       width=\"24px\">\n",
              "    <path d=\"M0 0h24v24H0V0z\" fill=\"none\"/>\n",
              "    <path d=\"M18.56 5.44l.94 2.06.94-2.06 2.06-.94-2.06-.94-.94-2.06-.94 2.06-2.06.94zm-11 1L8.5 8.5l.94-2.06 2.06-.94-2.06-.94L8.5 2.5l-.94 2.06-2.06.94zm10 10l.94 2.06.94-2.06 2.06-.94-2.06-.94-.94-2.06-.94 2.06-2.06.94z\"/><path d=\"M17.41 7.96l-1.37-1.37c-.4-.4-.92-.59-1.43-.59-.52 0-1.04.2-1.43.59L10.3 9.45l-7.72 7.72c-.78.78-.78 2.05 0 2.83L4 21.41c.39.39.9.59 1.41.59.51 0 1.02-.2 1.41-.59l7.78-7.78 2.81-2.81c.8-.78.8-2.07 0-2.86zM5.41 20L4 18.59l7.72-7.72 1.47 1.35L5.41 20z\"/>\n",
              "  </svg>\n",
              "      </button>\n",
              "      \n",
              "  <style>\n",
              "    .colab-df-container {\n",
              "      display:flex;\n",
              "      flex-wrap:wrap;\n",
              "      gap: 12px;\n",
              "    }\n",
              "\n",
              "    .colab-df-convert {\n",
              "      background-color: #E8F0FE;\n",
              "      border: none;\n",
              "      border-radius: 50%;\n",
              "      cursor: pointer;\n",
              "      display: none;\n",
              "      fill: #1967D2;\n",
              "      height: 32px;\n",
              "      padding: 0 0 0 0;\n",
              "      width: 32px;\n",
              "    }\n",
              "\n",
              "    .colab-df-convert:hover {\n",
              "      background-color: #E2EBFA;\n",
              "      box-shadow: 0px 1px 2px rgba(60, 64, 67, 0.3), 0px 1px 3px 1px rgba(60, 64, 67, 0.15);\n",
              "      fill: #174EA6;\n",
              "    }\n",
              "\n",
              "    [theme=dark] .colab-df-convert {\n",
              "      background-color: #3B4455;\n",
              "      fill: #D2E3FC;\n",
              "    }\n",
              "\n",
              "    [theme=dark] .colab-df-convert:hover {\n",
              "      background-color: #434B5C;\n",
              "      box-shadow: 0px 1px 3px 1px rgba(0, 0, 0, 0.15);\n",
              "      filter: drop-shadow(0px 1px 2px rgba(0, 0, 0, 0.3));\n",
              "      fill: #FFFFFF;\n",
              "    }\n",
              "  </style>\n",
              "\n",
              "      <script>\n",
              "        const buttonEl =\n",
              "          document.querySelector('#df-5fca5054-9050-44af-8907-8a2bcd7caa26 button.colab-df-convert');\n",
              "        buttonEl.style.display =\n",
              "          google.colab.kernel.accessAllowed ? 'block' : 'none';\n",
              "\n",
              "        async function convertToInteractive(key) {\n",
              "          const element = document.querySelector('#df-5fca5054-9050-44af-8907-8a2bcd7caa26');\n",
              "          const dataTable =\n",
              "            await google.colab.kernel.invokeFunction('convertToInteractive',\n",
              "                                                     [key], {});\n",
              "          if (!dataTable) return;\n",
              "\n",
              "          const docLinkHtml = 'Like what you see? Visit the ' +\n",
              "            '<a target=\"_blank\" href=https://colab.research.google.com/notebooks/data_table.ipynb>data table notebook</a>'\n",
              "            + ' to learn more about interactive tables.';\n",
              "          element.innerHTML = '';\n",
              "          dataTable['output_type'] = 'display_data';\n",
              "          await google.colab.output.renderOutput(dataTable, element);\n",
              "          const docLink = document.createElement('div');\n",
              "          docLink.innerHTML = docLinkHtml;\n",
              "          element.appendChild(docLink);\n",
              "        }\n",
              "      </script>\n",
              "    </div>\n",
              "  </div>\n",
              "  "
            ]
          },
          "metadata": {},
          "execution_count": 10
        }
      ]
    },
    {
      "cell_type": "code",
      "source": [
        "X = [iris_df['petal length (cm)'][a] for a in iris_df.index if iris_df['species'][a]=='virginica']\n",
        "Y = [iris_df['sepal length (cm)'][a] for a in iris_df.index if iris_df['species'][a]=='virginica']\n",
        "\n",
        "X = np.array(X)\n",
        "Y = np.array(Y)\n",
        "\n",
        "plt.figure(figsize=(5,5))\n",
        "plt.scatter(X,Y)\n",
        "plt.xlabel('petal length (cm)')\n",
        "plt.ylabel('sepal length (cm)')\n",
        "plt.grid()\n",
        "plt.show()"
      ],
      "metadata": {
        "colab": {
          "base_uri": "https://localhost:8080/",
          "height": 334
        },
        "id": "PzFUq-OsLQHM",
        "outputId": "6b7d7b79-d630-4087-e665-8ee246466a5e"
      },
      "execution_count": 11,
      "outputs": [
        {
          "output_type": "display_data",
          "data": {
            "text/plain": [
              "<Figure size 360x360 with 1 Axes>"
            ],
            "image/png": "[encoded data removed]"
          },
          "metadata": {
            "needs_background": "light"
          }
        }
      ]
    },
    {
      "cell_type": "code",
      "source": [
        "from sklearn.linear_model import Lasso\n",
        "\n",
        "L1 = Lasso()\n",
        "L1.fit(X.reshape(-1,1), Y)\n",
        "a, b = L1.coef_, L1.intercept_\n",
        "print(\"기울기 : %0.2f, 절편 : %0.2f\" %(a,b))\n",
        "\n",
        "plt.figure(figsize=(5,5))\n",
        "plt.scatter(X,Y)\n",
        "plt.plot(X,L1.predict(X.reshape(-1,1)),'-b')\n",
        "plt.xlabel('petal length (cm)')\n",
        "plt.ylabel('sepal length (cm)')\n",
        "plt.grid()\n",
        "plt.show()"
      ],
      "metadata": {
        "colab": {
          "base_uri": "https://localhost:8080/",
          "height": 352
        },
        "id": "wI7wNdfrLQME",
        "outputId": "a9e18dab-c8eb-488d-e617-3fc62ce0ad29"
      },
      "execution_count": 12,
      "outputs": [
        {
          "output_type": "stream",
          "name": "stdout",
          "text": [
            "기울기 : 0.00, 절편 : 6.59\n"
          ]
        },
        {
          "output_type": "display_data",
          "data": {
            "text/plain": [
              "<Figure size 360x360 with 1 Axes>"
            ],
            "image/png": "[encoded data removed]"
          },
          "metadata": {
            "needs_background": "light"
          }
        }
      ]
    },
    {
      "cell_type": "markdown",
      "source": [
        "#### L1 Regularization은 왜 답이 나오지 않을까?"
      ],
      "metadata": {
        "id": "gm2LpfQOK6Pe"
      }
    },
    {
      "cell_type": "markdown",
      "source": [
        "X가 1차원 값인 선형회귀분석 같은 경우에는 L1 Regularization이 의미가 없다. \n",
        "\n",
        "그러므로, L1 Regularization을 사용할 때는 X가 2차원 이상인 여러 칼럼 값이 있는 데이터일 대 실제 효과를 볼 수 있다."
      ],
      "metadata": {
        "id": "zMkoUTUSK6Tq"
      }
    },
    {
      "cell_type": "markdown",
      "source": [
        "#### 칼럼 수가 많은 데이터에서의 L1 regularization 비교"
      ],
      "metadata": {
        "id": "GBg2DEDqK6Xx"
      }
    },
    {
      "cell_type": "markdown",
      "source": [
        "Iris 데이터는 특성이 총 4개로 컬럼 수가 너무 적으니 wine dataset을 이용해 보겠다.\n",
        "\n",
        "총 13개의 값을 갖는 데이터다."
      ],
      "metadata": {
        "id": "uaXZii3pK6ae"
      }
    },
    {
      "cell_type": "code",
      "source": [
        "from sklearn.datasets import load_wine\n",
        "\n",
        "wine = load_wine()\n",
        "wine_df = pd.DataFrame(data=wine.data, columns=wine.feature_names)\n",
        "target_df = pd.DataFrame(data=wine.target, columns=['Y'])"
      ],
      "metadata": {
        "id": "LwN9ozSbMGHn"
      },
      "execution_count": 13,
      "outputs": []
    },
    {
      "cell_type": "code",
      "source": [
        "# 데이터 예시\n",
        "\n",
        "wine_df.head(5)"
      ],
      "metadata": {
        "colab": {
          "base_uri": "https://localhost:8080/",
          "height": 270
        },
        "id": "EMTcEGQ0MGKP",
        "outputId": "3c63d821-8d16-49f0-c30e-dfd27494760e"
      },
      "execution_count": 14,
      "outputs": [
        {
          "output_type": "execute_result",
          "data": {
            "text/plain": [
              "   alcohol  malic_acid   ash  alcalinity_of_ash  magnesium  total_phenols  \\\n",
              "0    14.23        1.71  2.43               15.6      127.0           2.80   \n",
              "1    13.20        1.78  2.14               11.2      100.0           2.65   \n",
              "2    13.16        2.36  2.67               18.6      101.0           2.80   \n",
              "3    14.37        1.95  2.50               16.8      113.0           3.85   \n",
              "4    13.24        2.59  2.87               21.0      118.0           2.80   \n",
              "\n",
              "   flavanoids  nonflavanoid_phenols  proanthocyanins  color_intensity   hue  \\\n",
              "0        3.06                  0.28             2.29             5.64  1.04   \n",
              "1        2.76                  0.26             1.28             4.38  1.05   \n",
              "2        3.24                  0.30             2.81             5.68  1.03   \n",
              "3        3.49                  0.24             2.18             7.80  0.86   \n",
              "4        2.69                  0.39             1.82             4.32  1.04   \n",
              "\n",
              "   od280/od315_of_diluted_wines  proline  \n",
              "0                          3.92   1065.0  \n",
              "1                          3.40   1050.0  \n",
              "2                          3.17   1185.0  \n",
              "3                          3.45   1480.0  \n",
              "4                          2.93    735.0  "
            ],
            "text/html": [
              "\n",
              "  <div id=\"df-adf41551-ff82-4b5e-bfc8-b77971fd93df\">\n",
              "    <div class=\"colab-df-container\">\n",
              "      <div>\n",
              "<style scoped>\n",
              "    .dataframe tbody tr th:only-of-type {\n",
              "        vertical-align: middle;\n",
              "    }\n",
              "\n",
              "    .dataframe tbody tr th {\n",
              "        vertical-align: top;\n",
              "    }\n",
              "\n",
              "    .dataframe thead th {\n",
              "        text-align: right;\n",
              "    }\n",
              "</style>\n",
              "<table border=\"1\" class=\"dataframe\">\n",
              "  <thead>\n",
              "    <tr style=\"text-align: right;\">\n",
              "      <th></th>\n",
              "      <th>alcohol</th>\n",
              "      <th>malic_acid</th>\n",
              "      <th>ash</th>\n",
              "      <th>alcalinity_of_ash</th>\n",
              "      <th>magnesium</th>\n",
              "      <th>total_phenols</th>\n",
              "      <th>flavanoids</th>\n",
              "      <th>nonflavanoid_phenols</th>\n",
              "      <th>proanthocyanins</th>\n",
              "      <th>color_intensity</th>\n",
              "      <th>hue</th>\n",
              "      <th>od280/od315_of_diluted_wines</th>\n",
              "      <th>proline</th>\n",
              "    </tr>\n",
              "  </thead>\n",
              "  <tbody>\n",
              "    <tr>\n",
              "      <th>0</th>\n",
              "      <td>14.23</td>\n",
              "      <td>1.71</td>\n",
              "      <td>2.43</td>\n",
              "      <td>15.6</td>\n",
              "      <td>127.0</td>\n",
              "      <td>2.80</td>\n",
              "      <td>3.06</td>\n",
              "      <td>0.28</td>\n",
              "      <td>2.29</td>\n",
              "      <td>5.64</td>\n",
              "      <td>1.04</td>\n",
              "      <td>3.92</td>\n",
              "      <td>1065.0</td>\n",
              "    </tr>\n",
              "    <tr>\n",
              "      <th>1</th>\n",
              "      <td>13.20</td>\n",
              "      <td>1.78</td>\n",
              "      <td>2.14</td>\n",
              "      <td>11.2</td>\n",
              "      <td>100.0</td>\n",
              "      <td>2.65</td>\n",
              "      <td>2.76</td>\n",
              "      <td>0.26</td>\n",
              "      <td>1.28</td>\n",
              "      <td>4.38</td>\n",
              "      <td>1.05</td>\n",
              "      <td>3.40</td>\n",
              "      <td>1050.0</td>\n",
              "    </tr>\n",
              "    <tr>\n",
              "      <th>2</th>\n",
              "      <td>13.16</td>\n",
              "      <td>2.36</td>\n",
              "      <td>2.67</td>\n",
              "      <td>18.6</td>\n",
              "      <td>101.0</td>\n",
              "      <td>2.80</td>\n",
              "      <td>3.24</td>\n",
              "      <td>0.30</td>\n",
              "      <td>2.81</td>\n",
              "      <td>5.68</td>\n",
              "      <td>1.03</td>\n",
              "      <td>3.17</td>\n",
              "      <td>1185.0</td>\n",
              "    </tr>\n",
              "    <tr>\n",
              "      <th>3</th>\n",
              "      <td>14.37</td>\n",
              "      <td>1.95</td>\n",
              "      <td>2.50</td>\n",
              "      <td>16.8</td>\n",
              "      <td>113.0</td>\n",
              "      <td>3.85</td>\n",
              "      <td>3.49</td>\n",
              "      <td>0.24</td>\n",
              "      <td>2.18</td>\n",
              "      <td>7.80</td>\n",
              "      <td>0.86</td>\n",
              "      <td>3.45</td>\n",
              "      <td>1480.0</td>\n",
              "    </tr>\n",
              "    <tr>\n",
              "      <th>4</th>\n",
              "      <td>13.24</td>\n",
              "      <td>2.59</td>\n",
              "      <td>2.87</td>\n",
              "      <td>21.0</td>\n",
              "      <td>118.0</td>\n",
              "      <td>2.80</td>\n",
              "      <td>2.69</td>\n",
              "      <td>0.39</td>\n",
              "      <td>1.82</td>\n",
              "      <td>4.32</td>\n",
              "      <td>1.04</td>\n",
              "      <td>2.93</td>\n",
              "      <td>735.0</td>\n",
              "    </tr>\n",
              "  </tbody>\n",
              "</table>\n",
              "</div>\n",
              "      <button class=\"colab-df-convert\" onclick=\"convertToInteractive('df-adf41551-ff82-4b5e-bfc8-b77971fd93df')\"\n",
              "              title=\"Convert this dataframe to an interactive table.\"\n",
              "              style=\"display:none;\">\n",
              "        \n",
              "  <svg xmlns=\"http://www.w3.org/2000/svg\" height=\"24px\"viewBox=\"0 0 24 24\"\n",
              "       width=\"24px\">\n",
              "    <path d=\"M0 0h24v24H0V0z\" fill=\"none\"/>\n",
              "    <path d=\"M18.56 5.44l.94 2.06.94-2.06 2.06-.94-2.06-.94-.94-2.06-.94 2.06-2.06.94zm-11 1L8.5 8.5l.94-2.06 2.06-.94-2.06-.94L8.5 2.5l-.94 2.06-2.06.94zm10 10l.94 2.06.94-2.06 2.06-.94-2.06-.94-.94-2.06-.94 2.06-2.06.94z\"/><path d=\"M17.41 7.96l-1.37-1.37c-.4-.4-.92-.59-1.43-.59-.52 0-1.04.2-1.43.59L10.3 9.45l-7.72 7.72c-.78.78-.78 2.05 0 2.83L4 21.41c.39.39.9.59 1.41.59.51 0 1.02-.2 1.41-.59l7.78-7.78 2.81-2.81c.8-.78.8-2.07 0-2.86zM5.41 20L4 18.59l7.72-7.72 1.47 1.35L5.41 20z\"/>\n",
              "  </svg>\n",
              "      </button>\n",
              "      \n",
              "  <style>\n",
              "    .colab-df-container {\n",
              "      display:flex;\n",
              "      flex-wrap:wrap;\n",
              "      gap: 12px;\n",
              "    }\n",
              "\n",
              "    .colab-df-convert {\n",
              "      background-color: #E8F0FE;\n",
              "      border: none;\n",
              "      border-radius: 50%;\n",
              "      cursor: pointer;\n",
              "      display: none;\n",
              "      fill: #1967D2;\n",
              "      height: 32px;\n",
              "      padding: 0 0 0 0;\n",
              "      width: 32px;\n",
              "    }\n",
              "\n",
              "    .colab-df-convert:hover {\n",
              "      background-color: #E2EBFA;\n",
              "      box-shadow: 0px 1px 2px rgba(60, 64, 67, 0.3), 0px 1px 3px 1px rgba(60, 64, 67, 0.15);\n",
              "      fill: #174EA6;\n",
              "    }\n",
              "\n",
              "    [theme=dark] .colab-df-convert {\n",
              "      background-color: #3B4455;\n",
              "      fill: #D2E3FC;\n",
              "    }\n",
              "\n",
              "    [theme=dark] .colab-df-convert:hover {\n",
              "      background-color: #434B5C;\n",
              "      box-shadow: 0px 1px 3px 1px rgba(0, 0, 0, 0.15);\n",
              "      filter: drop-shadow(0px 1px 2px rgba(0, 0, 0, 0.3));\n",
              "      fill: #FFFFFF;\n",
              "    }\n",
              "  </style>\n",
              "\n",
              "      <script>\n",
              "        const buttonEl =\n",
              "          document.querySelector('#df-adf41551-ff82-4b5e-bfc8-b77971fd93df button.colab-df-convert');\n",
              "        buttonEl.style.display =\n",
              "          google.colab.kernel.accessAllowed ? 'block' : 'none';\n",
              "\n",
              "        async function convertToInteractive(key) {\n",
              "          const element = document.querySelector('#df-adf41551-ff82-4b5e-bfc8-b77971fd93df');\n",
              "          const dataTable =\n",
              "            await google.colab.kernel.invokeFunction('convertToInteractive',\n",
              "                                                     [key], {});\n",
              "          if (!dataTable) return;\n",
              "\n",
              "          const docLinkHtml = 'Like what you see? Visit the ' +\n",
              "            '<a target=\"_blank\" href=https://colab.research.google.com/notebooks/data_table.ipynb>data table notebook</a>'\n",
              "            + ' to learn more about interactive tables.';\n",
              "          element.innerHTML = '';\n",
              "          dataTable['output_type'] = 'display_data';\n",
              "          await google.colab.output.renderOutput(dataTable, element);\n",
              "          const docLink = document.createElement('div');\n",
              "          docLink.innerHTML = docLinkHtml;\n",
              "          element.appendChild(docLink);\n",
              "        }\n",
              "      </script>\n",
              "    </div>\n",
              "  </div>\n",
              "  "
            ]
          },
          "metadata": {},
          "execution_count": 14
        }
      ]
    },
    {
      "cell_type": "code",
      "source": [
        "wine_df.head(5)"
      ],
      "metadata": {
        "colab": {
          "base_uri": "https://localhost:8080/",
          "height": 270
        },
        "id": "YUnt9moTMGM8",
        "outputId": "3a8a0e12-0cae-4cc2-d38a-fb68d9cb2b63"
      },
      "execution_count": 15,
      "outputs": [
        {
          "output_type": "execute_result",
          "data": {
            "text/plain": [
              "   alcohol  malic_acid   ash  alcalinity_of_ash  magnesium  total_phenols  \\\n",
              "0    14.23        1.71  2.43               15.6      127.0           2.80   \n",
              "1    13.20        1.78  2.14               11.2      100.0           2.65   \n",
              "2    13.16        2.36  2.67               18.6      101.0           2.80   \n",
              "3    14.37        1.95  2.50               16.8      113.0           3.85   \n",
              "4    13.24        2.59  2.87               21.0      118.0           2.80   \n",
              "\n",
              "   flavanoids  nonflavanoid_phenols  proanthocyanins  color_intensity   hue  \\\n",
              "0        3.06                  0.28             2.29             5.64  1.04   \n",
              "1        2.76                  0.26             1.28             4.38  1.05   \n",
              "2        3.24                  0.30             2.81             5.68  1.03   \n",
              "3        3.49                  0.24             2.18             7.80  0.86   \n",
              "4        2.69                  0.39             1.82             4.32  1.04   \n",
              "\n",
              "   od280/od315_of_diluted_wines  proline  \n",
              "0                          3.92   1065.0  \n",
              "1                          3.40   1050.0  \n",
              "2                          3.17   1185.0  \n",
              "3                          3.45   1480.0  \n",
              "4                          2.93    735.0  "
            ],
            "text/html": [
              "\n",
              "  <div id=\"df-64ba3d7f-b644-4560-9cff-51839a2cca28\">\n",
              "    <div class=\"colab-df-container\">\n",
              "      <div>\n",
              "<style scoped>\n",
              "    .dataframe tbody tr th:only-of-type {\n",
              "        vertical-align: middle;\n",
              "    }\n",
              "\n",
              "    .dataframe tbody tr th {\n",
              "        vertical-align: top;\n",
              "    }\n",
              "\n",
              "    .dataframe thead th {\n",
              "        text-align: right;\n",
              "    }\n",
              "</style>\n",
              "<table border=\"1\" class=\"dataframe\">\n",
              "  <thead>\n",
              "    <tr style=\"text-align: right;\">\n",
              "      <th></th>\n",
              "      <th>alcohol</th>\n",
              "      <th>malic_acid</th>\n",
              "      <th>ash</th>\n",
              "      <th>alcalinity_of_ash</th>\n",
              "      <th>magnesium</th>\n",
              "      <th>total_phenols</th>\n",
              "      <th>flavanoids</th>\n",
              "      <th>nonflavanoid_phenols</th>\n",
              "      <th>proanthocyanins</th>\n",
              "      <th>color_intensity</th>\n",
              "      <th>hue</th>\n",
              "      <th>od280/od315_of_diluted_wines</th>\n",
              "      <th>proline</th>\n",
              "    </tr>\n",
              "  </thead>\n",
              "  <tbody>\n",
              "    <tr>\n",
              "      <th>0</th>\n",
              "      <td>14.23</td>\n",
              "      <td>1.71</td>\n",
              "      <td>2.43</td>\n",
              "      <td>15.6</td>\n",
              "      <td>127.0</td>\n",
              "      <td>2.80</td>\n",
              "      <td>3.06</td>\n",
              "      <td>0.28</td>\n",
              "      <td>2.29</td>\n",
              "      <td>5.64</td>\n",
              "      <td>1.04</td>\n",
              "      <td>3.92</td>\n",
              "      <td>1065.0</td>\n",
              "    </tr>\n",
              "    <tr>\n",
              "      <th>1</th>\n",
              "      <td>13.20</td>\n",
              "      <td>1.78</td>\n",
              "      <td>2.14</td>\n",
              "      <td>11.2</td>\n",
              "      <td>100.0</td>\n",
              "      <td>2.65</td>\n",
              "      <td>2.76</td>\n",
              "      <td>0.26</td>\n",
              "      <td>1.28</td>\n",
              "      <td>4.38</td>\n",
              "      <td>1.05</td>\n",
              "      <td>3.40</td>\n",
              "      <td>1050.0</td>\n",
              "    </tr>\n",
              "    <tr>\n",
              "      <th>2</th>\n",
              "      <td>13.16</td>\n",
              "      <td>2.36</td>\n",
              "      <td>2.67</td>\n",
              "      <td>18.6</td>\n",
              "      <td>101.0</td>\n",
              "      <td>2.80</td>\n",
              "      <td>3.24</td>\n",
              "      <td>0.30</td>\n",
              "      <td>2.81</td>\n",
              "      <td>5.68</td>\n",
              "      <td>1.03</td>\n",
              "      <td>3.17</td>\n",
              "      <td>1185.0</td>\n",
              "    </tr>\n",
              "    <tr>\n",
              "      <th>3</th>\n",
              "      <td>14.37</td>\n",
              "      <td>1.95</td>\n",
              "      <td>2.50</td>\n",
              "      <td>16.8</td>\n",
              "      <td>113.0</td>\n",
              "      <td>3.85</td>\n",
              "      <td>3.49</td>\n",
              "      <td>0.24</td>\n",
              "      <td>2.18</td>\n",
              "      <td>7.80</td>\n",
              "      <td>0.86</td>\n",
              "      <td>3.45</td>\n",
              "      <td>1480.0</td>\n",
              "    </tr>\n",
              "    <tr>\n",
              "      <th>4</th>\n",
              "      <td>13.24</td>\n",
              "      <td>2.59</td>\n",
              "      <td>2.87</td>\n",
              "      <td>21.0</td>\n",
              "      <td>118.0</td>\n",
              "      <td>2.80</td>\n",
              "      <td>2.69</td>\n",
              "      <td>0.39</td>\n",
              "      <td>1.82</td>\n",
              "      <td>4.32</td>\n",
              "      <td>1.04</td>\n",
              "      <td>2.93</td>\n",
              "      <td>735.0</td>\n",
              "    </tr>\n",
              "  </tbody>\n",
              "</table>\n",
              "</div>\n",
              "      <button class=\"colab-df-convert\" onclick=\"convertToInteractive('df-64ba3d7f-b644-4560-9cff-51839a2cca28')\"\n",
              "              title=\"Convert this dataframe to an interactive table.\"\n",
              "              style=\"display:none;\">\n",
              "        \n",
              "  <svg xmlns=\"http://www.w3.org/2000/svg\" height=\"24px\"viewBox=\"0 0 24 24\"\n",
              "       width=\"24px\">\n",
              "    <path d=\"M0 0h24v24H0V0z\" fill=\"none\"/>\n",
              "    <path d=\"M18.56 5.44l.94 2.06.94-2.06 2.06-.94-2.06-.94-.94-2.06-.94 2.06-2.06.94zm-11 1L8.5 8.5l.94-2.06 2.06-.94-2.06-.94L8.5 2.5l-.94 2.06-2.06.94zm10 10l.94 2.06.94-2.06 2.06-.94-2.06-.94-.94-2.06-.94 2.06-2.06.94z\"/><path d=\"M17.41 7.96l-1.37-1.37c-.4-.4-.92-.59-1.43-.59-.52 0-1.04.2-1.43.59L10.3 9.45l-7.72 7.72c-.78.78-.78 2.05 0 2.83L4 21.41c.39.39.9.59 1.41.59.51 0 1.02-.2 1.41-.59l7.78-7.78 2.81-2.81c.8-.78.8-2.07 0-2.86zM5.41 20L4 18.59l7.72-7.72 1.47 1.35L5.41 20z\"/>\n",
              "  </svg>\n",
              "      </button>\n",
              "      \n",
              "  <style>\n",
              "    .colab-df-container {\n",
              "      display:flex;\n",
              "      flex-wrap:wrap;\n",
              "      gap: 12px;\n",
              "    }\n",
              "\n",
              "    .colab-df-convert {\n",
              "      background-color: #E8F0FE;\n",
              "      border: none;\n",
              "      border-radius: 50%;\n",
              "      cursor: pointer;\n",
              "      display: none;\n",
              "      fill: #1967D2;\n",
              "      height: 32px;\n",
              "      padding: 0 0 0 0;\n",
              "      width: 32px;\n",
              "    }\n",
              "\n",
              "    .colab-df-convert:hover {\n",
              "      background-color: #E2EBFA;\n",
              "      box-shadow: 0px 1px 2px rgba(60, 64, 67, 0.3), 0px 1px 3px 1px rgba(60, 64, 67, 0.15);\n",
              "      fill: #174EA6;\n",
              "    }\n",
              "\n",
              "    [theme=dark] .colab-df-convert {\n",
              "      background-color: #3B4455;\n",
              "      fill: #D2E3FC;\n",
              "    }\n",
              "\n",
              "    [theme=dark] .colab-df-convert:hover {\n",
              "      background-color: #434B5C;\n",
              "      box-shadow: 0px 1px 3px 1px rgba(0, 0, 0, 0.15);\n",
              "      filter: drop-shadow(0px 1px 2px rgba(0, 0, 0, 0.3));\n",
              "      fill: #FFFFFF;\n",
              "    }\n",
              "  </style>\n",
              "\n",
              "      <script>\n",
              "        const buttonEl =\n",
              "          document.querySelector('#df-64ba3d7f-b644-4560-9cff-51839a2cca28 button.colab-df-convert');\n",
              "        buttonEl.style.display =\n",
              "          google.colab.kernel.accessAllowed ? 'block' : 'none';\n",
              "\n",
              "        async function convertToInteractive(key) {\n",
              "          const element = document.querySelector('#df-64ba3d7f-b644-4560-9cff-51839a2cca28');\n",
              "          const dataTable =\n",
              "            await google.colab.kernel.invokeFunction('convertToInteractive',\n",
              "                                                     [key], {});\n",
              "          if (!dataTable) return;\n",
              "\n",
              "          const docLinkHtml = 'Like what you see? Visit the ' +\n",
              "            '<a target=\"_blank\" href=https://colab.research.google.com/notebooks/data_table.ipynb>data table notebook</a>'\n",
              "            + ' to learn more about interactive tables.';\n",
              "          element.innerHTML = '';\n",
              "          dataTable['output_type'] = 'display_data';\n",
              "          await google.colab.output.renderOutput(dataTable, element);\n",
              "          const docLink = document.createElement('div');\n",
              "          docLink.innerHTML = docLinkHtml;\n",
              "          element.appendChild(docLink);\n",
              "        }\n",
              "      </script>\n",
              "    </div>\n",
              "  </div>\n",
              "  "
            ]
          },
          "metadata": {},
          "execution_count": 15
        }
      ]
    },
    {
      "cell_type": "code",
      "source": [
        "target_df.head(5)"
      ],
      "metadata": {
        "colab": {
          "base_uri": "https://localhost:8080/",
          "height": 206
        },
        "id": "jXignqnAMGQb",
        "outputId": "5710b9bb-806c-44be-8f3a-4e04cc14fa9f"
      },
      "execution_count": 16,
      "outputs": [
        {
          "output_type": "execute_result",
          "data": {
            "text/plain": [
              "   Y\n",
              "0  0\n",
              "1  0\n",
              "2  0\n",
              "3  0\n",
              "4  0"
            ],
            "text/html": [
              "\n",
              "  <div id=\"df-f6cb5037-2937-46a4-ac6d-721e3e2467c6\">\n",
              "    <div class=\"colab-df-container\">\n",
              "      <div>\n",
              "<style scoped>\n",
              "    .dataframe tbody tr th:only-of-type {\n",
              "        vertical-align: middle;\n",
              "    }\n",
              "\n",
              "    .dataframe tbody tr th {\n",
              "        vertical-align: top;\n",
              "    }\n",
              "\n",
              "    .dataframe thead th {\n",
              "        text-align: right;\n",
              "    }\n",
              "</style>\n",
              "<table border=\"1\" class=\"dataframe\">\n",
              "  <thead>\n",
              "    <tr style=\"text-align: right;\">\n",
              "      <th></th>\n",
              "      <th>Y</th>\n",
              "    </tr>\n",
              "  </thead>\n",
              "  <tbody>\n",
              "    <tr>\n",
              "      <th>0</th>\n",
              "      <td>0</td>\n",
              "    </tr>\n",
              "    <tr>\n",
              "      <th>1</th>\n",
              "      <td>0</td>\n",
              "    </tr>\n",
              "    <tr>\n",
              "      <th>2</th>\n",
              "      <td>0</td>\n",
              "    </tr>\n",
              "    <tr>\n",
              "      <th>3</th>\n",
              "      <td>0</td>\n",
              "    </tr>\n",
              "    <tr>\n",
              "      <th>4</th>\n",
              "      <td>0</td>\n",
              "    </tr>\n",
              "  </tbody>\n",
              "</table>\n",
              "</div>\n",
              "      <button class=\"colab-df-convert\" onclick=\"convertToInteractive('df-f6cb5037-2937-46a4-ac6d-721e3e2467c6')\"\n",
              "              title=\"Convert this dataframe to an interactive table.\"\n",
              "              style=\"display:none;\">\n",
              "        \n",
              "  <svg xmlns=\"http://www.w3.org/2000/svg\" height=\"24px\"viewBox=\"0 0 24 24\"\n",
              "       width=\"24px\">\n",
              "    <path d=\"M0 0h24v24H0V0z\" fill=\"none\"/>\n",
              "    <path d=\"M18.56 5.44l.94 2.06.94-2.06 2.06-.94-2.06-.94-.94-2.06-.94 2.06-2.06.94zm-11 1L8.5 8.5l.94-2.06 2.06-.94-2.06-.94L8.5 2.5l-.94 2.06-2.06.94zm10 10l.94 2.06.94-2.06 2.06-.94-2.06-.94-.94-2.06-.94 2.06-2.06.94z\"/><path d=\"M17.41 7.96l-1.37-1.37c-.4-.4-.92-.59-1.43-.59-.52 0-1.04.2-1.43.59L10.3 9.45l-7.72 7.72c-.78.78-.78 2.05 0 2.83L4 21.41c.39.39.9.59 1.41.59.51 0 1.02-.2 1.41-.59l7.78-7.78 2.81-2.81c.8-.78.8-2.07 0-2.86zM5.41 20L4 18.59l7.72-7.72 1.47 1.35L5.41 20z\"/>\n",
              "  </svg>\n",
              "      </button>\n",
              "      \n",
              "  <style>\n",
              "    .colab-df-container {\n",
              "      display:flex;\n",
              "      flex-wrap:wrap;\n",
              "      gap: 12px;\n",
              "    }\n",
              "\n",
              "    .colab-df-convert {\n",
              "      background-color: #E8F0FE;\n",
              "      border: none;\n",
              "      border-radius: 50%;\n",
              "      cursor: pointer;\n",
              "      display: none;\n",
              "      fill: #1967D2;\n",
              "      height: 32px;\n",
              "      padding: 0 0 0 0;\n",
              "      width: 32px;\n",
              "    }\n",
              "\n",
              "    .colab-df-convert:hover {\n",
              "      background-color: #E2EBFA;\n",
              "      box-shadow: 0px 1px 2px rgba(60, 64, 67, 0.3), 0px 1px 3px 1px rgba(60, 64, 67, 0.15);\n",
              "      fill: #174EA6;\n",
              "    }\n",
              "\n",
              "    [theme=dark] .colab-df-convert {\n",
              "      background-color: #3B4455;\n",
              "      fill: #D2E3FC;\n",
              "    }\n",
              "\n",
              "    [theme=dark] .colab-df-convert:hover {\n",
              "      background-color: #434B5C;\n",
              "      box-shadow: 0px 1px 3px 1px rgba(0, 0, 0, 0.15);\n",
              "      filter: drop-shadow(0px 1px 2px rgba(0, 0, 0, 0.3));\n",
              "      fill: #FFFFFF;\n",
              "    }\n",
              "  </style>\n",
              "\n",
              "      <script>\n",
              "        const buttonEl =\n",
              "          document.querySelector('#df-f6cb5037-2937-46a4-ac6d-721e3e2467c6 button.colab-df-convert');\n",
              "        buttonEl.style.display =\n",
              "          google.colab.kernel.accessAllowed ? 'block' : 'none';\n",
              "\n",
              "        async function convertToInteractive(key) {\n",
              "          const element = document.querySelector('#df-f6cb5037-2937-46a4-ac6d-721e3e2467c6');\n",
              "          const dataTable =\n",
              "            await google.colab.kernel.invokeFunction('convertToInteractive',\n",
              "                                                     [key], {});\n",
              "          if (!dataTable) return;\n",
              "\n",
              "          const docLinkHtml = 'Like what you see? Visit the ' +\n",
              "            '<a target=\"_blank\" href=https://colab.research.google.com/notebooks/data_table.ipynb>data table notebook</a>'\n",
              "            + ' to learn more about interactive tables.';\n",
              "          element.innerHTML = '';\n",
              "          dataTable['output_type'] = 'display_data';\n",
              "          await google.colab.output.renderOutput(dataTable, element);\n",
              "          const docLink = document.createElement('div');\n",
              "          docLink.innerHTML = docLinkHtml;\n",
              "          element.appendChild(docLink);\n",
              "        }\n",
              "      </script>\n",
              "    </div>\n",
              "  </div>\n",
              "  "
            ]
          },
          "metadata": {},
          "execution_count": 16
        }
      ]
    },
    {
      "cell_type": "markdown",
      "source": [
        "먼저 Linear regression으로 문제를 풀고, 그 계수(coefficient)와 절대 오차(mean absolute error), 제곱 오차(mean squared error), 평균 제곱값 오차(root mean squared error)를 출력해 보겠다."
      ],
      "metadata": {
        "id": "2qbWNQszK6dJ"
      }
    },
    {
      "cell_type": "code",
      "source": [
        "from sklearn.model_selection import train_test_split\n",
        "from sklearn.linear_model import LinearRegression\n",
        "from sklearn.metrics import mean_absolute_error, mean_squared_error\n",
        "\n",
        "# 데이터를 준비하고\n",
        "X_train, X_test, y_train, y_test = train_test_split(wine_df, target_df, test_size=0.3, random_state=101)\n",
        "\n",
        "# 모델을 훈련시킵니다.\n",
        "model = LinearRegression()\n",
        "model.fit(X_train, y_train)\n",
        "\n",
        "# 테스트를 해볼까요?\n",
        "model.predict(X_test)\n",
        "pred = model.predict(X_test)\n",
        "\n",
        "# 테스트 결과는 이렇습니다!\n",
        "print(\"result of linear regression\")\n",
        "print('Mean Absolute Error:', mean_absolute_error(y_test, pred))\n",
        "print('Mean Squared Error:', mean_squared_error(y_test, pred))\n",
        "print('Mean Root Squared Error:', np.sqrt(mean_squared_error(y_test, pred)))\n",
        "\n",
        "print(\"\\n\\n coefficient linear regression\")\n",
        "print(model.coef_)"
      ],
      "metadata": {
        "colab": {
          "base_uri": "https://localhost:8080/"
        },
        "id": "BjTQCu4fMsmS",
        "outputId": "10c3d8a1-104e-4830-fa26-0113f0f5a904"
      },
      "execution_count": 17,
      "outputs": [
        {
          "output_type": "stream",
          "name": "stdout",
          "text": [
            "result of linear regression\n",
            "Mean Absolute Error: 0.2512897393972262\n",
            "Mean Squared Error: 0.10624587409525563\n",
            "Mean Root Squared Error: 0.3259537913497182\n",
            "\n",
            "\n",
            " coefficient linear regression\n",
            "[[-8.09017190e-02  4.34817880e-02 -1.18857931e-01  3.65705449e-02\n",
            "  -4.68014203e-04  1.41423581e-01 -4.54107854e-01 -5.13172664e-01\n",
            "   9.69318443e-02  5.34311136e-02 -1.27626604e-01 -2.91381844e-01\n",
            "  -5.72238959e-04]]\n"
          ]
        }
      ]
    },
    {
      "cell_type": "markdown",
      "source": [
        "이번에는 L1 regularization으로 문제를 풀어보겠다."
      ],
      "metadata": {
        "id": "4xq008fuMzoT"
      }
    },
    {
      "cell_type": "code",
      "source": [
        "from sklearn.linear_model import Lasso\n",
        "from sklearn.metrics import mean_absolute_error, mean_squared_error\n",
        "\n",
        "# 모델을 준비하고 훈련시킵니다.\n",
        "L1 = Lasso(alpha=0.05)\n",
        "L1.fit(X_train, y_train)\n",
        "\n",
        "# 테스트를 해봅시다.\n",
        "pred = L1.predict(X_test)\n",
        "\n",
        "# 모델 성능은 얼마나 좋을까요?\n",
        "print(\"result of Lasso\")\n",
        "print('Mean Absolute Error:', mean_absolute_error(y_test, pred))\n",
        "print('Mean Squared Error:', mean_squared_error(y_test, pred))\n",
        "print('Mean Root Squared Error:', np.sqrt(mean_squared_error(y_test, pred)))\n",
        "\n",
        "print(\"\\n\\n coefficient of Lasso\")\n",
        "print(L1.coef_)"
      ],
      "metadata": {
        "colab": {
          "base_uri": "https://localhost:8080/"
        },
        "id": "zDZmy1h1My9z",
        "outputId": "9007f48f-ecdc-41d0-d2fd-e97ce07b8af6"
      },
      "execution_count": 18,
      "outputs": [
        {
          "output_type": "stream",
          "name": "stdout",
          "text": [
            "result of Lasso\n",
            "Mean Absolute Error: 0.24233731936122138\n",
            "Mean Squared Error: 0.0955956894578189\n",
            "Mean Root Squared Error: 0.3091855259513597\n",
            "\n",
            "\n",
            " coefficient of Lasso\n",
            "[-0.          0.01373795 -0.          0.03065716  0.00154719 -0.\n",
            " -0.34143614 -0.          0.          0.06755943 -0.         -0.14558153\n",
            " -0.00089635]\n"
          ]
        }
      ]
    },
    {
      "cell_type": "markdown",
      "source": [
        "#### 결과 분석"
      ],
      "metadata": {
        "id": "1N5ybkivK6f8"
      }
    },
    {
      "cell_type": "markdown",
      "source": [
        "coefficient 부분을 보면 Liear Regression과 L1 Regularization의 차이가 좀 더 두드러짐을 알 수 있다. Liner Regression에서는 모든 컬럼의 가중치를 탐색하여 구하는 반면, L1 Regularization에서는 총 13개 중 7개를 제외한 나머지의 값들이 모두 0임을 확인할 수 있다. Error 부분에서는 큰 차이가 없었지만, 우리가 어떤 컬럼이 결과에 영향을 더 크게 미치는지 확실히 확인할 수 있다. 이러한 경우 다른 문제에서도 error의 차이가 크게 나지 않는다면, 차원 축소와 비슷한 개념으로 변수의 값을 7개만 남겨도 충분히 결과를 예측할 수 있다. 다만 Linear Regression과 L1, L2 Regularization의 차이 중 하나는 a라는 하이퍼파라미터(수식에서는 ㅅ)가 하나 더 들어간다는 것이고, 그 값에 따라 error에 영향을 미친다는 점이다. "
      ],
      "metadata": {
        "id": "NmsiCqYHK6iW"
      }
    },
    {
      "cell_type": "markdown",
      "source": [
        "### L2 Regularization"
      ],
      "metadata": {
        "id": "VfVOJY_rK6km"
      }
    },
    {
      "cell_type": "markdown",
      "source": [
        "#### L2 Regularization 정의"
      ],
      "metadata": {
        "id": "E4JJ31pfOQI0"
      }
    },
    {
      "cell_type": "markdown",
      "source": [
        "∑\n",
        "p\n",
        "​\n",
        " β \n",
        "j\n",
        "2\n",
        "​\n",
        "  이 부분이 이전 스텝에서 설명드린 L2 Norm의 형태와 똑같다."
      ],
      "metadata": {
        "id": "rFmiE27COKkH"
      }
    },
    {
      "cell_type": "markdown",
      "source": [
        "### L1/L2 Regularization의 차이점"
      ],
      "metadata": {
        "id": "rVw122Z1K6nB"
      }
    },
    {
      "cell_type": "markdown",
      "source": [
        "![image.png](data:image/png;base64,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)"
      ],
      "metadata": {
        "id": "4HHqv0zZK6rQ"
      }
    },
    {
      "cell_type": "markdown",
      "source": [
        "수식 없이 직관적인 이해를 좀 더 요구하는 그림이다. L1 Regularization(Lasso)는 |B|를 이용하여 마름모 형태의 제약조건이 생긴다. 그리고 위의 등고선처럼 보이는 내용은 우리가 풀어야 하는 문제이다. 이 문제가 제약조건과 만나는 지점이 해가 된다. 그래서 L1 Regularization에서는 몇 개의 축에서 B값을 0으로 보낸다. coefficient를 비교하면서 알 수 있었다.\n",
        "\n",
        "이와 다르게 L2 Regularization은 Bxx2이므로 원의 형태로 나타나게 된다. 그러므로 0에 가지는 않고 0에 가깝게 감을 확인할 수 있다. 또한 제곱이 들어가 있기 때문에 절대값으로 L1 Norm을 쓰는 Lasso보다는 수렴이 빠르다는 장점이 있다. 이는 이전의 같은 문제에서 iteration을 제약조건으로 주며 실험해보겠다."
      ],
      "metadata": {
        "id": "-Wr8bWNtK6uc"
      }
    },
    {
      "cell_type": "code",
      "source": [
        "from sklearn.datasets import load_wine\n",
        "import pandas as pd\n",
        "import numpy as np\n",
        "from sklearn.model_selection import train_test_split\n",
        "from sklearn.metrics import mean_absolute_error, mean_squared_error\n",
        "\n",
        "wine = load_wine()\n",
        "wine_df = pd.DataFrame(data=wine.data, columns=wine.feature_names)\n",
        "target_df = pd.DataFrame(data=wine.target, columns=['Y'])\n",
        "X_train, X_test, y_train, y_test = train_test_split(wine_df, target_df, test_size= 0.3, random_state=101)\n",
        "print('=3')"
      ],
      "metadata": {
        "colab": {
          "base_uri": "https://localhost:8080/"
        },
        "id": "YpmZ2JOYRQns",
        "outputId": "210a4fca-16a1-468d-b4a9-bc547ea2f9a5"
      },
      "execution_count": 19,
      "outputs": [
        {
          "output_type": "stream",
          "name": "stdout",
          "text": [
            "=3\n"
          ]
        }
      ]
    },
    {
      "cell_type": "markdown",
      "source": [
        "L1 Regularization으로 iteration 횟수를 5회로 두고 문제를 풀어보겠다."
      ],
      "metadata": {
        "id": "_x5ilWw5K6xU"
      }
    },
    {
      "cell_type": "code",
      "source": [
        "from sklearn.linear_model import Lasso\n",
        "\n",
        "L1 = Lasso(alpha=0.05, max_iter=5)\n",
        "L1.fit(X_train, y_train)\n",
        "pred = L1.predict(X_test)\n",
        "\n",
        "print(\"result of Lasso\")\n",
        "print('Mean Absolute Error:', mean_absolute_error(y_test, pred))\n",
        "print('Mean Squared Error:', mean_squared_error(y_test, pred))\n",
        "print('Mean Root Squared Error:', np.sqrt(mean_squared_error(y_test, pred)))\n",
        "\n",
        "print(\"\\n\\n coefficient of Lasso\")\n",
        "print(L1.coef_)\n"
      ],
      "metadata": {
        "colab": {
          "base_uri": "https://localhost:8080/"
        },
        "id": "rfeZUNGxRftb",
        "outputId": "e91cc528-0a6d-464b-8184-d5d71aa7dbbd"
      },
      "execution_count": 20,
      "outputs": [
        {
          "output_type": "stream",
          "name": "stdout",
          "text": [
            "result of Lasso\n",
            "Mean Absolute Error: 0.24845768841769433\n",
            "Mean Squared Error: 0.10262989110341268\n",
            "Mean Root Squared Error: 0.32035900346862844\n",
            "\n",
            "\n",
            " coefficient of Lasso\n",
            "[-0.          0.         -0.          0.03295564  0.00109495  0.\n",
            " -0.4027847   0.          0.          0.06023131 -0.         -0.12001119\n",
            " -0.00078971]\n"
          ]
        },
        {
          "output_type": "stream",
          "name": "stderr",
          "text": [
            "/usr/local/lib/python3.7/dist-packages/sklearn/linear_model/_coordinate_descent.py:648: ConvergenceWarning: Objective did not converge. You might want to increase the number of iterations, check the scale of the features or consider increasing regularisation. Duality gap: 3.924e+00, tolerance: 7.480e-03\n",
            "  coef_, l1_reg, l2_reg, X, y, max_iter, tol, rng, random, positive\n"
          ]
        }
      ]
    },
    {
      "cell_type": "markdown",
      "source": [
        "L2 Regularization도 같은 제약조건을 두고 문제를 풀어보겠다."
      ],
      "metadata": {
        "id": "UQk9IX3fK6zw"
      }
    },
    {
      "cell_type": "code",
      "source": [
        "from sklearn.linear_model import Ridge\n",
        "\n",
        "L2 = Ridge(alpha=0.05,max_iter=5)\n",
        "L2.fit(X_train, y_train)\n",
        "pred = L2.predict(X_test)\n",
        "\n",
        "print(\"result of Ridge\")\n",
        "print('Mean Absolute Error:', mean_absolute_error(y_test, pred))\n",
        "print('Mean Squared Error:', mean_squared_error(y_test, pred))\n",
        "print('Mean Root Squared Error:', np.sqrt(mean_squared_error(y_test, pred)))\n",
        "\n",
        "print(\"\\n\\n coefficient of Ridge\")\n",
        "print(L2.coef_)"
      ],
      "metadata": {
        "colab": {
          "base_uri": "https://localhost:8080/"
        },
        "id": "oqMam_Z_RoH1",
        "outputId": "79c50fe3-9e07-4241-d2e3-02fde1f87a80"
      },
      "execution_count": 21,
      "outputs": [
        {
          "output_type": "stream",
          "name": "stdout",
          "text": [
            "result of Ridge\n",
            "Mean Absolute Error: 0.251146695993643\n",
            "Mean Squared Error: 0.10568076460795564\n",
            "Mean Root Squared Error: 0.3250857803841251\n",
            "\n",
            "\n",
            " coefficient of Ridge\n",
            "[[-8.12456257e-02  4.35541496e-02 -1.21661565e-01  3.65979773e-02\n",
            "  -3.94014013e-04  1.39168707e-01 -4.50691113e-01 -4.87216747e-01\n",
            "   9.54111059e-02  5.37077039e-02 -1.28602933e-01 -2.89832790e-01\n",
            "  -5.73136185e-04]]\n"
          ]
        }
      ]
    },
    {
      "cell_type": "markdown",
      "source": [
        "iteration 값을 5로만 설정해 보아도, L2 Rregularization의 문제는 Linear Regression과 같은 값이 나오지만, L1 Regularization에서는 앞 step과 같은 값을 확인할 수는 없었다. 심지어 수렴하지 않았다는 경고까지 나온다. 이는 아직 다른 조건들을 만족하는 답을 찾지 못하였다는 뜻이다."
      ],
      "metadata": {
        "id": "4sf4nSO9K61u"
      }
    },
    {
      "cell_type": "markdown",
      "source": [
        "정리하면, L1 Regularization은 가중치가 적은 벡터에 해당하는 계수를 0으로 보내면서 차원 축소와 비슷한 역할을 하는 것이 특징이며, L2 Regularization은 0이 아닌 0에 가깝게 보내지만 제곱 텀이 있기 때문에 L1 Regularization보다는 수렴 속도가 빠르다는 장점이 있다. \n",
        "\n",
        "예를 들어, A = {1,1,1,1,1}, B = {5,0,0,0,0}의 경우 L1-norm은 같지만, L2-norm은 같지 않다. 즉, 제곱 텀에서 결과에 큰 영향을 미치는 값은 더 크게, 결과에 영향이 적은 값들은 더 작게 보내면서 수렴 속도가 빨라지는 것이다.\n",
        "\n",
        "그러므로, 데이터에 따라 적절한 Regularization 방법을 활용하는 것이 좋다."
      ],
      "metadata": {
        "id": "kW8CdKPyK632"
      }
    },
    {
      "cell_type": "markdown",
      "source": [
        "### Extra : Lp norm"
      ],
      "metadata": {
        "id": "_cCPfYaBK667"
      }
    },
    {
      "cell_type": "markdown",
      "source": [
        "Norm이라는 개념은 벡터뿐만 아니라 함수, 행렬에 대해서 크기를 구하는 것으로, 딥러닝을 배우는 과정에서는 주로 벡터, 좀 더 어렵게는 행렬의 Norm 정도만 알면 된다."
      ],
      "metadata": {
        "id": "4H9_XpE3K69j"
      }
    },
    {
      "cell_type": "markdown",
      "source": [
        "#### vector norm"
      ],
      "metadata": {
        "id": "dNXSOjkJK7AB"
      }
    },
    {
      "cell_type": "code",
      "source": [
        "x=np.array([1,10,1,1,1])\n",
        "p=5\n",
        "norm_x=np.linalg.norm(x, ord=p)\n",
        "making_norm = (sum(x**p))**(1/p)\n",
        "print(\"result of numpy package norm function : %0.5f \"%norm_x) \n",
        "print(\"result of making norm : %0.5f \"%making_norm)"
      ],
      "metadata": {
        "colab": {
          "base_uri": "https://localhost:8080/"
        },
        "id": "M6lc1yhv6xWz",
        "outputId": "4c1b39c6-111e-4d41-f271-9d75ddf57009"
      },
      "execution_count": 22,
      "outputs": [
        {
          "output_type": "stream",
          "name": "stdout",
          "text": [
            "result of numpy package norm function : 10.00008 \n",
            "result of making norm : 10.00008 \n"
          ]
        }
      ]
    },
    {
      "cell_type": "markdown",
      "source": [
        "그러면, 이제 p가 우리가 생각하는 자연수가 아닌 경우에 어떻게 될까요?\n",
        "\n",
        "p=∞인 Infinity norm의 경우는 가장 큰 숫자를 출력한다."
      ],
      "metadata": {
        "id": "jyiBGkSx276J"
      }
    },
    {
      "cell_type": "code",
      "source": [
        "norm_x=np.linalg.norm(x, ord=np.inf)\n",
        "print(\"result of infinite norm : %0.5f \"%norm_x)"
      ],
      "metadata": {
        "colab": {
          "base_uri": "https://localhost:8080/"
        },
        "id": "Xpz2h5Ra7H1B",
        "outputId": "caeea274-59db-40e9-8b2b-91790f8c9c10"
      },
      "execution_count": 23,
      "outputs": [
        {
          "output_type": "stream",
          "name": "stdout",
          "text": [
            "result of infinite norm : 10.00000 \n"
          ]
        }
      ]
    },
    {
      "cell_type": "markdown",
      "source": [
        "#### matrix norm"
      ],
      "metadata": {
        "id": "-iU3ATru27-L"
      }
    },
    {
      "cell_type": "markdown",
      "source": [
        "행렬의 norm인 경우는 벡터와 조금 다르며, 주로 p = 1, ∞인 경우만 알면 된다.\n",
        "\n",
        "p = 1인 경우에는 컬럼의 합이 가장 큰 값이 출력되고, p = ∞인 경우에는 로우의 합이 가장 큰 값이 출력된다."
      ],
      "metadata": {
        "id": "kKUT-xZW28Bx"
      }
    },
    {
      "cell_type": "code",
      "source": [
        "A=np.array([[1,2,3],[1,2,3],[4,6,8]])\n",
        "inf_norm_A=np.linalg.norm(A, ord=np.inf)\n",
        "print(\"result inf norm of A :\", inf_norm_A)\n",
        "one_norm_A=np.linalg.norm(A, ord=1)\n",
        "print(\"result one norm of A :\", one_norm_A)"
      ],
      "metadata": {
        "colab": {
          "base_uri": "https://localhost:8080/"
        },
        "id": "9HiSGGZc7c_S",
        "outputId": "aec6e299-9e65-4227-8034-8776d1cf2a6e"
      },
      "execution_count": 25,
      "outputs": [
        {
          "output_type": "stream",
          "name": "stdout",
          "text": [
            "result inf norm of A : 18.0\n",
            "result one norm of A : 14.0\n"
          ]
        }
      ]
    },
    {
      "cell_type": "markdown",
      "source": [
        "### Dropout"
      ],
      "metadata": {
        "id": "w_Lt5W-S7q0w"
      }
    },
    {
      "cell_type": "markdown",
      "source": [
        "드롭아웃 기법이 나오기 전의 신경망은 fully connected architecture로 모든 뉴런들이 연결되어 있었다. 그러나 드롭아웃이 나오면서 확률적으로 랜덤하게 몇 가지의 뉴럴만 선택하여 정보를 전달하는 과정이다. 이름 그대로 몇 가지의 값들을 모든 뉴런에 전달하는 것이 아닌 확률적으로 버리면서 전달하는 기법이다. 드롭아웃은 오버피팅을 막는 Regularization layer 중 하나이다. 확률이 너무 높으면, 제대로 전달되지 않으므로 학습이 잘되지 않고, 확률을 너무 낮추는 경우는 fully connected layer와 같다. fully connected layer에서 오버피팅이 생기는 경우에 주로 Dropout layer를 추가한다."
      ],
      "metadata": {
        "id": "8VjLl_2g7q5B"
      }
    },
    {
      "cell_type": "markdown",
      "source": [
        "#### 실습 (not overfitting)"
      ],
      "metadata": {
        "id": "I21I4Z2v7q-C"
      }
    },
    {
      "cell_type": "markdown",
      "source": [
        "fashion mnist라는 데이터 셋을 불러와서 학습을 시키도록 하겠다. 총 10개의 클래스로 이루어져 있다. 이 데이터셋은 간단한 편이기도 하여 5 epoch에서도 어느 정도 결과가 나오게 된다. 드롭아웃 레이어를 중간에 추가하여 확률을 1에 가깝게 주면 어떻게 되는지 살펴보도록 하겠다."
      ],
      "metadata": {
        "id": "-GFuzUdI7rCF"
      }
    },
    {
      "cell_type": "code",
      "source": [
        "import tensorflow as tf\n",
        "from tensorflow import keras\n",
        "import numpy as np\n",
        "import matplotlib.pyplot as plt\n",
        "from sklearn.model_selection import train_test_split\n",
        "\n",
        "fashion_mnist = keras.datasets.fashion_mnist\n",
        "print('=3')"
      ],
      "metadata": {
        "colab": {
          "base_uri": "https://localhost:8080/"
        },
        "id": "98EZRKn58tRB",
        "outputId": "949a7233-5b56-4045-aa78-1874edef6806"
      },
      "execution_count": 26,
      "outputs": [
        {
          "output_type": "stream",
          "name": "stdout",
          "text": [
            "=3\n"
          ]
        }
      ]
    },
    {
      "cell_type": "code",
      "source": [
        "(train_images, train_labels), (test_images, test_labels) = fashion_mnist.load_data()\n",
        "class_names = ['T-shirt/top', 'Trouser', 'Pullover', 'Dress', 'Coat',\n",
        "               'Sandal', 'Shirt', 'Sneaker', 'Bag', 'Ankle boot']\n",
        "\n",
        "train_images = train_images / 255.0\n",
        "test_images = test_images / 255.0"
      ],
      "metadata": {
        "colab": {
          "base_uri": "https://localhost:8080/"
        },
        "id": "cgA29TPO8uef",
        "outputId": "c3e0b836-1d32-4c9c-ccdf-3ca8f713d530"
      },
      "execution_count": 27,
      "outputs": [
        {
          "output_type": "stream",
          "name": "stdout",
          "text": [
            "Downloading data from https://storage.googleapis.com/tensorflow/tf-keras-datasets/train-labels-idx1-ubyte.gz\n",
            "32768/29515 [=================================] - 0s 0us/step\n",
            "40960/29515 [=========================================] - 0s 0us/step\n",
            "Downloading data from https://storage.googleapis.com/tensorflow/tf-keras-datasets/train-images-idx3-ubyte.gz\n",
            "26427392/26421880 [==============================] - 1s 0us/step\n",
            "26435584/26421880 [==============================] - 1s 0us/step\n",
            "Downloading data from https://storage.googleapis.com/tensorflow/tf-keras-datasets/t10k-labels-idx1-ubyte.gz\n",
            "16384/5148 [===============================================================================================] - 0s 0us/step\n",
            "Downloading data from https://storage.googleapis.com/tensorflow/tf-keras-datasets/t10k-images-idx3-ubyte.gz\n",
            "4423680/4422102 [==============================] - 0s 0us/step\n",
            "4431872/4422102 [==============================] - 0s 0us/step\n"
          ]
        }
      ]
    },
    {
      "cell_type": "markdown",
      "source": [
        "dropout의 확률을 0.9로 주었을 때 결과를 살펴보도록 하겠다."
      ],
      "metadata": {
        "id": "A1BdusV87rFE"
      }
    },
    {
      "cell_type": "code",
      "source": [
        "model = keras.Sequential([\n",
        "    keras.layers.Flatten(input_shape=(28, 28)),\n",
        "    keras.layers.Dense(128, activation='relu'),\n",
        "    # 여기에 dropout layer를 추가해보았습니다. 나머지 layer는 아래의 실습과 같습니다.\n",
        "    keras.layers.Dropout(0.9),\n",
        "    keras.layers.Dense(10, activation='softmax')\n",
        "])\n",
        "\n",
        "model.compile(optimizer='adam',loss='sparse_categorical_crossentropy',\n",
        "              metrics=['accuracy'])\n",
        "\n",
        "history= model.fit(train_images, train_labels, epochs=5)"
      ],
      "metadata": {
        "colab": {
          "base_uri": "https://localhost:8080/"
        },
        "id": "NBWRI1rD86Bz",
        "outputId": "5218c6e4-51bd-4ca6-f476-6e4b7dbeea1e"
      },
      "execution_count": 28,
      "outputs": [
        {
          "output_type": "stream",
          "name": "stdout",
          "text": [
            "Epoch 1/5\n",
            "1875/1875 [==============================] - 10s 3ms/step - loss: 1.3471 - accuracy: 0.4824\n",
            "Epoch 2/5\n",
            "1875/1875 [==============================] - 5s 3ms/step - loss: 1.1088 - accuracy: 0.5574\n",
            "Epoch 3/5\n",
            "1875/1875 [==============================] - 5s 3ms/step - loss: 1.0668 - accuracy: 0.5749\n",
            "Epoch 4/5\n",
            "1875/1875 [==============================] - 5s 3ms/step - loss: 1.0404 - accuracy: 0.5841\n",
            "Epoch 5/5\n",
            "1875/1875 [==============================] - 5s 3ms/step - loss: 1.0157 - accuracy: 0.5906\n"
          ]
        }
      ]
    },
    {
      "cell_type": "markdown",
      "source": [
        "dropout이 없을 때 실습을 해보면, 5 epoch 정도만 돌려도 충분히 높은 정확도를 볼 수 있다."
      ],
      "metadata": {
        "id": "HEjiDCHm7rcu"
      }
    },
    {
      "cell_type": "code",
      "source": [
        "model = keras.Sequential([\n",
        "    keras.layers.Flatten(input_shape=(28, 28)),\n",
        "    # 이번에는 dropout layer가 없습니다. \n",
        "    keras.layers.Dense(128, activation='relu'),\n",
        "    keras.layers.Dense(10, activation='softmax')\n",
        "])\n",
        "\n",
        "model.compile(optimizer='adam',loss='sparse_categorical_crossentropy',\n",
        "              metrics=['accuracy'])\n",
        "\n",
        "history = model.fit(train_images, train_labels, epochs=5)"
      ],
      "metadata": {
        "colab": {
          "base_uri": "https://localhost:8080/"
        },
        "id": "1t0quFzj9MKp",
        "outputId": "8c348e80-bcd6-4fab-c5d2-95a36ed8854e"
      },
      "execution_count": 29,
      "outputs": [
        {
          "output_type": "stream",
          "name": "stdout",
          "text": [
            "Epoch 1/5\n",
            "1875/1875 [==============================] - 6s 3ms/step - loss: 0.4993 - accuracy: 0.8264\n",
            "Epoch 2/5\n",
            "1875/1875 [==============================] - 5s 3ms/step - loss: 0.3759 - accuracy: 0.8646\n",
            "Epoch 3/5\n",
            "1875/1875 [==============================] - 5s 3ms/step - loss: 0.3368 - accuracy: 0.8774\n",
            "Epoch 4/5\n",
            "1875/1875 [==============================] - 5s 3ms/step - loss: 0.3140 - accuracy: 0.8837\n",
            "Epoch 5/5\n",
            "1875/1875 [==============================] - 5s 3ms/step - loss: 0.2948 - accuracy: 0.8903\n"
          ]
        }
      ]
    },
    {
      "cell_type": "markdown",
      "source": [
        "현재 데이터 셋은 학습이 잘 되는 데이터 셋으로, fully connected layer에서도 결과가 잘 나옴을 확인할 수 있다. 일부로 중간에 Dropout layer을 추가하여 확률 값을 주니 학습이 안 됨을 확인하였다. 다음은 overfitting이 나는 환경에서의 Dropout의 중요성을 알아보도록 하겠다."
      ],
      "metadata": {
        "id": "r6CkzYts7rg5"
      }
    },
    {
      "cell_type": "markdown",
      "source": [
        "#### 실습 (overfitting)"
      ],
      "metadata": {
        "id": "YSlydGKy9dWZ"
      }
    },
    {
      "cell_type": "markdown",
      "source": [
        "overfitting이 되는지 확인해 보려면 train set과 validation set의 loss function을 그려보는 것이 가장 첫번째 시도이다. 우리는 우의 데이터를 이제 train:valid=99:1로 split 한 뒤에 loss function의 값을 그려보고, overfitting이 나는 fully connected layer를 만들어보도록 하자. overfitting이 되게 하기 위해 의도적으로 train set을 99%로 늘리고 validation set을 줄이겠다."
      ],
      "metadata": {
        "id": "Xj02ENE99dZW"
      }
    },
    {
      "cell_type": "code",
      "source": [
        "X_train, X_valid, y_train, y_valid = train_test_split(train_images, train_labels, test_size=0.01, random_state=101)\n",
        "X_train = X_train / 255.0\n",
        "X_valid = X_valid / 255.0\n",
        "\n",
        "#Dense layer만으로 만들어 낸 classification 모델입니다.\n",
        "model = keras.Sequential([\n",
        "    keras.layers.Flatten(input_shape=(28, 28)),\n",
        "    keras.layers.Dense(256, activation='relu'),\n",
        "    keras.layers.Dense(10, activation='softmax')\n",
        "])\n",
        "\n",
        "model.compile(optimizer='adam',loss='sparse_categorical_crossentropy',\n",
        "              metrics=['accuracy'])\n",
        "\n",
        "history= model.fit(X_train, y_train, epochs=200, batch_size=512, validation_data=(X_valid, y_valid))"
      ],
      "metadata": {
        "colab": {
          "base_uri": "https://localhost:8080/"
        },
        "id": "wBvVqG8F-C7u",
        "outputId": "39eb1a0a-ce13-4608-e990-4b2342d0a3c5"
      },
      "execution_count": 30,
      "outputs": [
        {
          "output_type": "stream",
          "name": "stdout",
          "text": [
            "Epoch 1/200\n",
            "117/117 [==============================] - 2s 11ms/step - loss: 2.0522 - accuracy: 0.5624 - val_loss: 1.6443 - val_accuracy: 0.5950\n",
            "Epoch 2/200\n",
            "117/117 [==============================] - 1s 8ms/step - loss: 1.4051 - accuracy: 0.6096 - val_loss: 1.1836 - val_accuracy: 0.6517\n",
            "Epoch 3/200\n",
            "117/117 [==============================] - 1s 5ms/step - loss: 1.0839 - accuracy: 0.6732 - val_loss: 0.9658 - val_accuracy: 0.7200\n",
            "Epoch 4/200\n",
            "117/117 [==============================] - 1s 4ms/step - loss: 0.9076 - accuracy: 0.7168 - val_loss: 0.8281 - val_accuracy: 0.7483\n",
            "Epoch 5/200\n",
            "117/117 [==============================] - 0s 4ms/step - loss: 0.7995 - accuracy: 0.7340 - val_loss: 0.7520 - val_accuracy: 0.7767\n",
            "Epoch 6/200\n",
            "117/117 [==============================] - 1s 4ms/step - loss: 0.7323 - accuracy: 0.7474 - val_loss: 0.6909 - val_accuracy: 0.7700\n",
            "Epoch 7/200\n",
            "117/117 [==============================] - 1s 4ms/step - loss: 0.6872 - accuracy: 0.7571 - val_loss: 0.6582 - val_accuracy: 0.7767\n",
            "Epoch 8/200\n",
            "117/117 [==============================] - 0s 4ms/step - loss: 0.6539 - accuracy: 0.7672 - val_loss: 0.6341 - val_accuracy: 0.7750\n",
            "Epoch 9/200\n",
            "117/117 [==============================] - 0s 4ms/step - loss: 0.6292 - accuracy: 0.7740 - val_loss: 0.6085 - val_accuracy: 0.7867\n",
            "Epoch 10/200\n",
            "117/117 [==============================] - 1s 4ms/step - loss: 0.6060 - accuracy: 0.7832 - val_loss: 0.5884 - val_accuracy: 0.7950\n",
            "Epoch 11/200\n",
            "117/117 [==============================] - 0s 4ms/step - loss: 0.5878 - accuracy: 0.7906 - val_loss: 0.5755 - val_accuracy: 0.7933\n",
            "Epoch 12/200\n",
            "117/117 [==============================] - 1s 4ms/step - loss: 0.5711 - accuracy: 0.7975 - val_loss: 0.5597 - val_accuracy: 0.7950\n",
            "Epoch 13/200\n",
            "117/117 [==============================] - 1s 4ms/step - loss: 0.5569 - accuracy: 0.8039 - val_loss: 0.5486 - val_accuracy: 0.8000\n",
            "Epoch 14/200\n",
            "117/117 [==============================] - 1s 4ms/step - loss: 0.5445 - accuracy: 0.8079 - val_loss: 0.5405 - val_accuracy: 0.8000\n",
            "Epoch 15/200\n",
            "117/117 [==============================] - 0s 4ms/step - loss: 0.5338 - accuracy: 0.8122 - val_loss: 0.5271 - val_accuracy: 0.8117\n",
            "Epoch 16/200\n",
            "117/117 [==============================] - 0s 4ms/step - loss: 0.5234 - accuracy: 0.8159 - val_loss: 0.5177 - val_accuracy: 0.8067\n",
            "Epoch 17/200\n",
            "117/117 [==============================] - 1s 4ms/step - loss: 0.5141 - accuracy: 0.8197 - val_loss: 0.5091 - val_accuracy: 0.8133\n",
            "Epoch 18/200\n",
            "117/117 [==============================] - 1s 4ms/step - loss: 0.5061 - accuracy: 0.8224 - val_loss: 0.5029 - val_accuracy: 0.8200\n",
            "Epoch 19/200\n",
            "117/117 [==============================] - 0s 4ms/step - loss: 0.4990 - accuracy: 0.8250 - val_loss: 0.4931 - val_accuracy: 0.8133\n",
            "Epoch 20/200\n",
            "117/117 [==============================] - 0s 4ms/step - loss: 0.4923 - accuracy: 0.8273 - val_loss: 0.4933 - val_accuracy: 0.8183\n",
            "Epoch 21/200\n",
            "117/117 [==============================] - 1s 4ms/step - loss: 0.4859 - accuracy: 0.8304 - val_loss: 0.4842 - val_accuracy: 0.8200\n",
            "Epoch 22/200\n",
            "117/117 [==============================] - 1s 4ms/step - loss: 0.4820 - accuracy: 0.8318 - val_loss: 0.4807 - val_accuracy: 0.8183\n",
            "Epoch 23/200\n",
            "117/117 [==============================] - 0s 4ms/step - loss: 0.4760 - accuracy: 0.8334 - val_loss: 0.4761 - val_accuracy: 0.8233\n",
            "Epoch 24/200\n",
            "117/117 [==============================] - 0s 4ms/step - loss: 0.4709 - accuracy: 0.8350 - val_loss: 0.4750 - val_accuracy: 0.8283\n",
            "Epoch 25/200\n",
            "117/117 [==============================] - 0s 4ms/step - loss: 0.4663 - accuracy: 0.8367 - val_loss: 0.4674 - val_accuracy: 0.8317\n",
            "Epoch 26/200\n",
            "117/117 [==============================] - 0s 4ms/step - loss: 0.4626 - accuracy: 0.8380 - val_loss: 0.4630 - val_accuracy: 0.8183\n",
            "Epoch 27/200\n",
            "117/117 [==============================] - 0s 4ms/step - loss: 0.4595 - accuracy: 0.8401 - val_loss: 0.4579 - val_accuracy: 0.8250\n",
            "Epoch 28/200\n",
            "117/117 [==============================] - 0s 4ms/step - loss: 0.4541 - accuracy: 0.8413 - val_loss: 0.4587 - val_accuracy: 0.8317\n",
            "Epoch 29/200\n",
            "117/117 [==============================] - 0s 4ms/step - loss: 0.4520 - accuracy: 0.8410 - val_loss: 0.4505 - val_accuracy: 0.8300\n",
            "Epoch 30/200\n",
            "117/117 [==============================] - 0s 4ms/step - loss: 0.4475 - accuracy: 0.8442 - val_loss: 0.4498 - val_accuracy: 0.8350\n",
            "Epoch 31/200\n",
            "117/117 [==============================] - 0s 4ms/step - loss: 0.4450 - accuracy: 0.8444 - val_loss: 0.4446 - val_accuracy: 0.8333\n",
            "Epoch 32/200\n",
            "117/117 [==============================] - 0s 4ms/step - loss: 0.4420 - accuracy: 0.8449 - val_loss: 0.4401 - val_accuracy: 0.8317\n",
            "Epoch 33/200\n",
            "117/117 [==============================] - 0s 4ms/step - loss: 0.4388 - accuracy: 0.8464 - val_loss: 0.4388 - val_accuracy: 0.8367\n",
            "Epoch 34/200\n",
            "117/117 [==============================] - 0s 4ms/step - loss: 0.4365 - accuracy: 0.8473 - val_loss: 0.4341 - val_accuracy: 0.8300\n",
            "Epoch 35/200\n",
            "117/117 [==============================] - 0s 4ms/step - loss: 0.4336 - accuracy: 0.8487 - val_loss: 0.4357 - val_accuracy: 0.8350\n",
            "Epoch 36/200\n",
            "117/117 [==============================] - 1s 4ms/step - loss: 0.4314 - accuracy: 0.8487 - val_loss: 0.4316 - val_accuracy: 0.8367\n",
            "Epoch 37/200\n",
            "117/117 [==============================] - 0s 4ms/step - loss: 0.4284 - accuracy: 0.8499 - val_loss: 0.4312 - val_accuracy: 0.8333\n",
            "Epoch 38/200\n",
            "117/117 [==============================] - 1s 4ms/step - loss: 0.4255 - accuracy: 0.8506 - val_loss: 0.4271 - val_accuracy: 0.8367\n",
            "Epoch 39/200\n",
            "117/117 [==============================] - 0s 4ms/step - loss: 0.4235 - accuracy: 0.8522 - val_loss: 0.4214 - val_accuracy: 0.8433\n",
            "Epoch 40/200\n",
            "117/117 [==============================] - 0s 4ms/step - loss: 0.4221 - accuracy: 0.8528 - val_loss: 0.4196 - val_accuracy: 0.8383\n",
            "Epoch 41/200\n",
            "117/117 [==============================] - 0s 4ms/step - loss: 0.4189 - accuracy: 0.8537 - val_loss: 0.4189 - val_accuracy: 0.8350\n",
            "Epoch 42/200\n",
            "117/117 [==============================] - 0s 4ms/step - loss: 0.4178 - accuracy: 0.8534 - val_loss: 0.4177 - val_accuracy: 0.8400\n",
            "Epoch 43/200\n",
            "117/117 [==============================] - 0s 4ms/step - loss: 0.4154 - accuracy: 0.8539 - val_loss: 0.4156 - val_accuracy: 0.8367\n",
            "Epoch 44/200\n",
            "117/117 [==============================] - 0s 4ms/step - loss: 0.4131 - accuracy: 0.8545 - val_loss: 0.4164 - val_accuracy: 0.8250\n",
            "Epoch 45/200\n",
            "117/117 [==============================] - 0s 4ms/step - loss: 0.4118 - accuracy: 0.8549 - val_loss: 0.4103 - val_accuracy: 0.8383\n",
            "Epoch 46/200\n",
            "117/117 [==============================] - 1s 4ms/step - loss: 0.4093 - accuracy: 0.8569 - val_loss: 0.4139 - val_accuracy: 0.8383\n",
            "Epoch 47/200\n",
            "117/117 [==============================] - 0s 4ms/step - loss: 0.4075 - accuracy: 0.8574 - val_loss: 0.4100 - val_accuracy: 0.8350\n",
            "Epoch 48/200\n",
            "117/117 [==============================] - 0s 4ms/step - loss: 0.4059 - accuracy: 0.8580 - val_loss: 0.4127 - val_accuracy: 0.8333\n",
            "Epoch 49/200\n",
            "117/117 [==============================] - 0s 4ms/step - loss: 0.4046 - accuracy: 0.8577 - val_loss: 0.4084 - val_accuracy: 0.8383\n",
            "Epoch 50/200\n",
            "117/117 [==============================] - 0s 4ms/step - loss: 0.4023 - accuracy: 0.8590 - val_loss: 0.4048 - val_accuracy: 0.8367\n",
            "Epoch 51/200\n",
            "117/117 [==============================] - 1s 4ms/step - loss: 0.4011 - accuracy: 0.8594 - val_loss: 0.4028 - val_accuracy: 0.8317\n",
            "Epoch 52/200\n",
            "117/117 [==============================] - 0s 4ms/step - loss: 0.3994 - accuracy: 0.8595 - val_loss: 0.4019 - val_accuracy: 0.8417\n",
            "Epoch 53/200\n",
            "117/117 [==============================] - 0s 4ms/step - loss: 0.3975 - accuracy: 0.8602 - val_loss: 0.4047 - val_accuracy: 0.8333\n",
            "Epoch 54/200\n",
            "117/117 [==============================] - 0s 4ms/step - loss: 0.3958 - accuracy: 0.8614 - val_loss: 0.4006 - val_accuracy: 0.8383\n",
            "Epoch 55/200\n",
            "117/117 [==============================] - 1s 4ms/step - loss: 0.3950 - accuracy: 0.8607 - val_loss: 0.3955 - val_accuracy: 0.8383\n",
            "Epoch 56/200\n",
            "117/117 [==============================] - 0s 4ms/step - loss: 0.3927 - accuracy: 0.8621 - val_loss: 0.3946 - val_accuracy: 0.8417\n",
            "Epoch 57/200\n",
            "117/117 [==============================] - 1s 4ms/step - loss: 0.3913 - accuracy: 0.8625 - val_loss: 0.3945 - val_accuracy: 0.8367\n",
            "Epoch 58/200\n",
            "117/117 [==============================] - 0s 4ms/step - loss: 0.3904 - accuracy: 0.8631 - val_loss: 0.3967 - val_accuracy: 0.8433\n",
            "Epoch 59/200\n",
            "117/117 [==============================] - 0s 4ms/step - loss: 0.3892 - accuracy: 0.8634 - val_loss: 0.3907 - val_accuracy: 0.8417\n",
            "Epoch 60/200\n",
            "117/117 [==============================] - 0s 4ms/step - loss: 0.3881 - accuracy: 0.8641 - val_loss: 0.3894 - val_accuracy: 0.8433\n",
            "Epoch 61/200\n",
            "117/117 [==============================] - 0s 4ms/step - loss: 0.3869 - accuracy: 0.8633 - val_loss: 0.3894 - val_accuracy: 0.8400\n",
            "Epoch 62/200\n",
            "117/117 [==============================] - 0s 4ms/step - loss: 0.3847 - accuracy: 0.8641 - val_loss: 0.3881 - val_accuracy: 0.8417\n",
            "Epoch 63/200\n",
            "117/117 [==============================] - 0s 4ms/step - loss: 0.3842 - accuracy: 0.8646 - val_loss: 0.3880 - val_accuracy: 0.8450\n",
            "Epoch 64/200\n",
            "117/117 [==============================] - 0s 4ms/step - loss: 0.3820 - accuracy: 0.8648 - val_loss: 0.3942 - val_accuracy: 0.8417\n",
            "Epoch 65/200\n",
            "117/117 [==============================] - 0s 4ms/step - loss: 0.3813 - accuracy: 0.8651 - val_loss: 0.3896 - val_accuracy: 0.8383\n",
            "Epoch 66/200\n",
            "117/117 [==============================] - 0s 4ms/step - loss: 0.3796 - accuracy: 0.8670 - val_loss: 0.3809 - val_accuracy: 0.8467\n",
            "Epoch 67/200\n",
            "117/117 [==============================] - 1s 4ms/step - loss: 0.3784 - accuracy: 0.8664 - val_loss: 0.3841 - val_accuracy: 0.8383\n",
            "Epoch 68/200\n",
            "117/117 [==============================] - 0s 4ms/step - loss: 0.3773 - accuracy: 0.8674 - val_loss: 0.3858 - val_accuracy: 0.8383\n",
            "Epoch 69/200\n",
            "117/117 [==============================] - 0s 4ms/step - loss: 0.3761 - accuracy: 0.8672 - val_loss: 0.3808 - val_accuracy: 0.8450\n",
            "Epoch 70/200\n",
            "117/117 [==============================] - 0s 4ms/step - loss: 0.3753 - accuracy: 0.8679 - val_loss: 0.3824 - val_accuracy: 0.8467\n",
            "Epoch 71/200\n",
            "117/117 [==============================] - 1s 4ms/step - loss: 0.3739 - accuracy: 0.8687 - val_loss: 0.3794 - val_accuracy: 0.8433\n",
            "Epoch 72/200\n",
            "117/117 [==============================] - 1s 4ms/step - loss: 0.3725 - accuracy: 0.8686 - val_loss: 0.3793 - val_accuracy: 0.8467\n",
            "Epoch 73/200\n",
            "117/117 [==============================] - 1s 4ms/step - loss: 0.3722 - accuracy: 0.8688 - val_loss: 0.3780 - val_accuracy: 0.8483\n",
            "Epoch 74/200\n",
            "117/117 [==============================] - 0s 4ms/step - loss: 0.3707 - accuracy: 0.8687 - val_loss: 0.3782 - val_accuracy: 0.8500\n",
            "Epoch 75/200\n",
            "117/117 [==============================] - 1s 4ms/step - loss: 0.3696 - accuracy: 0.8701 - val_loss: 0.3789 - val_accuracy: 0.8450\n",
            "Epoch 76/200\n",
            "117/117 [==============================] - 0s 4ms/step - loss: 0.3681 - accuracy: 0.8702 - val_loss: 0.3774 - val_accuracy: 0.8533\n",
            "Epoch 77/200\n",
            "117/117 [==============================] - 0s 4ms/step - loss: 0.3673 - accuracy: 0.8698 - val_loss: 0.3746 - val_accuracy: 0.8450\n",
            "Epoch 78/200\n",
            "117/117 [==============================] - 0s 4ms/step - loss: 0.3668 - accuracy: 0.8699 - val_loss: 0.3734 - val_accuracy: 0.8467\n",
            "Epoch 79/200\n",
            "117/117 [==============================] - 0s 4ms/step - loss: 0.3649 - accuracy: 0.8711 - val_loss: 0.3725 - val_accuracy: 0.8450\n",
            "Epoch 80/200\n",
            "117/117 [==============================] - 0s 4ms/step - loss: 0.3639 - accuracy: 0.8710 - val_loss: 0.3785 - val_accuracy: 0.8450\n",
            "Epoch 81/200\n",
            "117/117 [==============================] - 0s 4ms/step - loss: 0.3654 - accuracy: 0.8702 - val_loss: 0.3750 - val_accuracy: 0.8517\n",
            "Epoch 82/200\n",
            "117/117 [==============================] - 0s 4ms/step - loss: 0.3625 - accuracy: 0.8722 - val_loss: 0.3705 - val_accuracy: 0.8517\n",
            "Epoch 83/200\n",
            "117/117 [==============================] - 0s 4ms/step - loss: 0.3618 - accuracy: 0.8722 - val_loss: 0.3689 - val_accuracy: 0.8483\n",
            "Epoch 84/200\n",
            "117/117 [==============================] - 1s 4ms/step - loss: 0.3608 - accuracy: 0.8722 - val_loss: 0.3695 - val_accuracy: 0.8550\n",
            "Epoch 85/200\n",
            "117/117 [==============================] - 0s 4ms/step - loss: 0.3590 - accuracy: 0.8731 - val_loss: 0.3704 - val_accuracy: 0.8550\n",
            "Epoch 86/200\n",
            "117/117 [==============================] - 1s 4ms/step - loss: 0.3589 - accuracy: 0.8727 - val_loss: 0.3674 - val_accuracy: 0.8550\n",
            "Epoch 87/200\n",
            "117/117 [==============================] - 0s 4ms/step - loss: 0.3580 - accuracy: 0.8730 - val_loss: 0.3660 - val_accuracy: 0.8533\n",
            "Epoch 88/200\n",
            "117/117 [==============================] - 1s 4ms/step - loss: 0.3567 - accuracy: 0.8739 - val_loss: 0.3638 - val_accuracy: 0.8517\n",
            "Epoch 89/200\n",
            "117/117 [==============================] - 0s 4ms/step - loss: 0.3554 - accuracy: 0.8744 - val_loss: 0.3651 - val_accuracy: 0.8583\n",
            "Epoch 90/200\n",
            "117/117 [==============================] - 1s 4ms/step - loss: 0.3544 - accuracy: 0.8741 - val_loss: 0.3667 - val_accuracy: 0.8533\n",
            "Epoch 91/200\n",
            "117/117 [==============================] - 1s 4ms/step - loss: 0.3544 - accuracy: 0.8749 - val_loss: 0.3638 - val_accuracy: 0.8483\n",
            "Epoch 92/200\n",
            "117/117 [==============================] - 1s 4ms/step - loss: 0.3533 - accuracy: 0.8754 - val_loss: 0.3640 - val_accuracy: 0.8550\n",
            "Epoch 93/200\n",
            "117/117 [==============================] - 0s 4ms/step - loss: 0.3517 - accuracy: 0.8751 - val_loss: 0.3612 - val_accuracy: 0.8550\n",
            "Epoch 94/200\n",
            "117/117 [==============================] - 0s 4ms/step - loss: 0.3508 - accuracy: 0.8757 - val_loss: 0.3628 - val_accuracy: 0.8567\n",
            "Epoch 95/200\n",
            "117/117 [==============================] - 1s 4ms/step - loss: 0.3500 - accuracy: 0.8762 - val_loss: 0.3620 - val_accuracy: 0.8533\n",
            "Epoch 96/200\n",
            "117/117 [==============================] - 1s 4ms/step - loss: 0.3492 - accuracy: 0.8762 - val_loss: 0.3620 - val_accuracy: 0.8517\n",
            "Epoch 97/200\n",
            "117/117 [==============================] - 0s 4ms/step - loss: 0.3482 - accuracy: 0.8762 - val_loss: 0.3628 - val_accuracy: 0.8500\n",
            "Epoch 98/200\n",
            "117/117 [==============================] - 1s 4ms/step - loss: 0.3478 - accuracy: 0.8766 - val_loss: 0.3594 - val_accuracy: 0.8533\n",
            "Epoch 99/200\n",
            "117/117 [==============================] - 1s 4ms/step - loss: 0.3479 - accuracy: 0.8762 - val_loss: 0.3615 - val_accuracy: 0.8583\n",
            "Epoch 100/200\n",
            "117/117 [==============================] - 1s 4ms/step - loss: 0.3460 - accuracy: 0.8775 - val_loss: 0.3595 - val_accuracy: 0.8567\n",
            "Epoch 101/200\n",
            "117/117 [==============================] - 1s 4ms/step - loss: 0.3460 - accuracy: 0.8775 - val_loss: 0.3633 - val_accuracy: 0.8500\n",
            "Epoch 102/200\n",
            "117/117 [==============================] - 1s 4ms/step - loss: 0.3456 - accuracy: 0.8780 - val_loss: 0.3575 - val_accuracy: 0.8450\n",
            "Epoch 103/200\n",
            "117/117 [==============================] - 0s 4ms/step - loss: 0.3438 - accuracy: 0.8779 - val_loss: 0.3561 - val_accuracy: 0.8583\n",
            "Epoch 104/200\n",
            "117/117 [==============================] - 1s 4ms/step - loss: 0.3425 - accuracy: 0.8788 - val_loss: 0.3560 - val_accuracy: 0.8550\n",
            "Epoch 105/200\n",
            "117/117 [==============================] - 0s 4ms/step - loss: 0.3430 - accuracy: 0.8781 - val_loss: 0.3620 - val_accuracy: 0.8533\n",
            "Epoch 106/200\n",
            "117/117 [==============================] - 1s 4ms/step - loss: 0.3415 - accuracy: 0.8792 - val_loss: 0.3573 - val_accuracy: 0.8517\n",
            "Epoch 107/200\n",
            "117/117 [==============================] - 0s 4ms/step - loss: 0.3415 - accuracy: 0.8793 - val_loss: 0.3611 - val_accuracy: 0.8567\n",
            "Epoch 108/200\n",
            "117/117 [==============================] - 0s 4ms/step - loss: 0.3400 - accuracy: 0.8801 - val_loss: 0.3560 - val_accuracy: 0.8567\n",
            "Epoch 109/200\n",
            "117/117 [==============================] - 1s 4ms/step - loss: 0.3388 - accuracy: 0.8802 - val_loss: 0.3541 - val_accuracy: 0.8600\n",
            "Epoch 110/200\n",
            "117/117 [==============================] - 1s 4ms/step - loss: 0.3383 - accuracy: 0.8796 - val_loss: 0.3538 - val_accuracy: 0.8550\n",
            "Epoch 111/200\n",
            "117/117 [==============================] - 0s 4ms/step - loss: 0.3379 - accuracy: 0.8798 - val_loss: 0.3563 - val_accuracy: 0.8500\n",
            "Epoch 112/200\n",
            "117/117 [==============================] - 1s 4ms/step - loss: 0.3364 - accuracy: 0.8809 - val_loss: 0.3501 - val_accuracy: 0.8517\n",
            "Epoch 113/200\n",
            "117/117 [==============================] - 0s 4ms/step - loss: 0.3358 - accuracy: 0.8810 - val_loss: 0.3505 - val_accuracy: 0.8517\n",
            "Epoch 114/200\n",
            "117/117 [==============================] - 1s 4ms/step - loss: 0.3356 - accuracy: 0.8810 - val_loss: 0.3525 - val_accuracy: 0.8600\n",
            "Epoch 115/200\n",
            "117/117 [==============================] - 0s 4ms/step - loss: 0.3353 - accuracy: 0.8807 - val_loss: 0.3494 - val_accuracy: 0.8567\n",
            "Epoch 116/200\n",
            "117/117 [==============================] - 1s 4ms/step - loss: 0.3339 - accuracy: 0.8820 - val_loss: 0.3508 - val_accuracy: 0.8600\n",
            "Epoch 117/200\n",
            "117/117 [==============================] - 0s 4ms/step - loss: 0.3331 - accuracy: 0.8814 - val_loss: 0.3473 - val_accuracy: 0.8533\n",
            "Epoch 118/200\n",
            "117/117 [==============================] - 1s 4ms/step - loss: 0.3331 - accuracy: 0.8823 - val_loss: 0.3467 - val_accuracy: 0.8600\n",
            "Epoch 119/200\n",
            "117/117 [==============================] - 0s 4ms/step - loss: 0.3318 - accuracy: 0.8829 - val_loss: 0.3482 - val_accuracy: 0.8533\n",
            "Epoch 120/200\n",
            "117/117 [==============================] - 1s 4ms/step - loss: 0.3310 - accuracy: 0.8827 - val_loss: 0.3465 - val_accuracy: 0.8550\n",
            "Epoch 121/200\n",
            "117/117 [==============================] - 0s 4ms/step - loss: 0.3304 - accuracy: 0.8831 - val_loss: 0.3571 - val_accuracy: 0.8533\n",
            "Epoch 122/200\n",
            "117/117 [==============================] - 1s 4ms/step - loss: 0.3298 - accuracy: 0.8826 - val_loss: 0.3469 - val_accuracy: 0.8617\n",
            "Epoch 123/200\n",
            "117/117 [==============================] - 0s 4ms/step - loss: 0.3289 - accuracy: 0.8831 - val_loss: 0.3486 - val_accuracy: 0.8567\n",
            "Epoch 124/200\n",
            "117/117 [==============================] - 1s 4ms/step - loss: 0.3278 - accuracy: 0.8842 - val_loss: 0.3468 - val_accuracy: 0.8550\n",
            "Epoch 125/200\n",
            "117/117 [==============================] - 0s 4ms/step - loss: 0.3275 - accuracy: 0.8838 - val_loss: 0.3442 - val_accuracy: 0.8567\n",
            "Epoch 126/200\n",
            "117/117 [==============================] - 1s 4ms/step - loss: 0.3266 - accuracy: 0.8842 - val_loss: 0.3431 - val_accuracy: 0.8583\n",
            "Epoch 127/200\n",
            "117/117 [==============================] - 0s 4ms/step - loss: 0.3266 - accuracy: 0.8844 - val_loss: 0.3414 - val_accuracy: 0.8600\n",
            "Epoch 128/200\n",
            "117/117 [==============================] - 1s 4ms/step - loss: 0.3251 - accuracy: 0.8845 - val_loss: 0.3454 - val_accuracy: 0.8650\n",
            "Epoch 129/200\n",
            "117/117 [==============================] - 1s 4ms/step - loss: 0.3246 - accuracy: 0.8842 - val_loss: 0.3435 - val_accuracy: 0.8600\n",
            "Epoch 130/200\n",
            "117/117 [==============================] - 1s 4ms/step - loss: 0.3240 - accuracy: 0.8848 - val_loss: 0.3410 - val_accuracy: 0.8600\n",
            "Epoch 131/200\n",
            "117/117 [==============================] - 0s 4ms/step - loss: 0.3241 - accuracy: 0.8848 - val_loss: 0.3438 - val_accuracy: 0.8567\n",
            "Epoch 132/200\n",
            "117/117 [==============================] - 0s 4ms/step - loss: 0.3230 - accuracy: 0.8851 - val_loss: 0.3432 - val_accuracy: 0.8567\n",
            "Epoch 133/200\n",
            "117/117 [==============================] - 1s 4ms/step - loss: 0.3220 - accuracy: 0.8856 - val_loss: 0.3422 - val_accuracy: 0.8600\n",
            "Epoch 134/200\n",
            "117/117 [==============================] - 1s 4ms/step - loss: 0.3227 - accuracy: 0.8846 - val_loss: 0.3449 - val_accuracy: 0.8567\n",
            "Epoch 135/200\n",
            "117/117 [==============================] - 0s 4ms/step - loss: 0.3213 - accuracy: 0.8864 - val_loss: 0.3425 - val_accuracy: 0.8600\n",
            "Epoch 136/200\n",
            "117/117 [==============================] - 0s 4ms/step - loss: 0.3204 - accuracy: 0.8860 - val_loss: 0.3434 - val_accuracy: 0.8567\n",
            "Epoch 137/200\n",
            "117/117 [==============================] - 0s 4ms/step - loss: 0.3211 - accuracy: 0.8861 - val_loss: 0.3467 - val_accuracy: 0.8617\n",
            "Epoch 138/200\n",
            "117/117 [==============================] - 0s 4ms/step - loss: 0.3186 - accuracy: 0.8872 - val_loss: 0.3426 - val_accuracy: 0.8617\n",
            "Epoch 139/200\n",
            "117/117 [==============================] - 0s 4ms/step - loss: 0.3184 - accuracy: 0.8866 - val_loss: 0.3410 - val_accuracy: 0.8583\n",
            "Epoch 140/200\n",
            "117/117 [==============================] - 0s 4ms/step - loss: 0.3181 - accuracy: 0.8878 - val_loss: 0.3430 - val_accuracy: 0.8550\n",
            "Epoch 141/200\n",
            "117/117 [==============================] - 0s 4ms/step - loss: 0.3174 - accuracy: 0.8874 - val_loss: 0.3391 - val_accuracy: 0.8600\n",
            "Epoch 142/200\n",
            "117/117 [==============================] - 0s 4ms/step - loss: 0.3169 - accuracy: 0.8878 - val_loss: 0.3411 - val_accuracy: 0.8667\n",
            "Epoch 143/200\n",
            "117/117 [==============================] - 0s 4ms/step - loss: 0.3161 - accuracy: 0.8880 - val_loss: 0.3377 - val_accuracy: 0.8633\n",
            "Epoch 144/200\n",
            "117/117 [==============================] - 1s 4ms/step - loss: 0.3152 - accuracy: 0.8876 - val_loss: 0.3366 - val_accuracy: 0.8583\n",
            "Epoch 145/200\n",
            "117/117 [==============================] - 0s 4ms/step - loss: 0.3146 - accuracy: 0.8878 - val_loss: 0.3393 - val_accuracy: 0.8617\n",
            "Epoch 146/200\n",
            "117/117 [==============================] - 1s 4ms/step - loss: 0.3141 - accuracy: 0.8879 - val_loss: 0.3379 - val_accuracy: 0.8633\n",
            "Epoch 147/200\n",
            "117/117 [==============================] - 1s 4ms/step - loss: 0.3131 - accuracy: 0.8887 - val_loss: 0.3333 - val_accuracy: 0.8633\n",
            "Epoch 148/200\n",
            "117/117 [==============================] - 1s 4ms/step - loss: 0.3139 - accuracy: 0.8884 - val_loss: 0.3375 - val_accuracy: 0.8633\n",
            "Epoch 149/200\n",
            "117/117 [==============================] - 1s 4ms/step - loss: 0.3119 - accuracy: 0.8889 - val_loss: 0.3385 - val_accuracy: 0.8650\n",
            "Epoch 150/200\n",
            "117/117 [==============================] - 1s 4ms/step - loss: 0.3113 - accuracy: 0.8891 - val_loss: 0.3371 - val_accuracy: 0.8633\n",
            "Epoch 151/200\n",
            "117/117 [==============================] - 0s 4ms/step - loss: 0.3114 - accuracy: 0.8892 - val_loss: 0.3349 - val_accuracy: 0.8650\n",
            "Epoch 152/200\n",
            "117/117 [==============================] - 1s 4ms/step - loss: 0.3109 - accuracy: 0.8896 - val_loss: 0.3339 - val_accuracy: 0.8617\n",
            "Epoch 153/200\n",
            "117/117 [==============================] - 1s 4ms/step - loss: 0.3099 - accuracy: 0.8900 - val_loss: 0.3337 - val_accuracy: 0.8650\n",
            "Epoch 154/200\n",
            "117/117 [==============================] - 1s 4ms/step - loss: 0.3091 - accuracy: 0.8906 - val_loss: 0.3365 - val_accuracy: 0.8650\n",
            "Epoch 155/200\n",
            "117/117 [==============================] - 0s 4ms/step - loss: 0.3089 - accuracy: 0.8901 - val_loss: 0.3379 - val_accuracy: 0.8650\n",
            "Epoch 156/200\n",
            "117/117 [==============================] - 1s 4ms/step - loss: 0.3079 - accuracy: 0.8901 - val_loss: 0.3370 - val_accuracy: 0.8617\n",
            "Epoch 157/200\n",
            "117/117 [==============================] - 0s 4ms/step - loss: 0.3089 - accuracy: 0.8903 - val_loss: 0.3332 - val_accuracy: 0.8700\n",
            "Epoch 158/200\n",
            "117/117 [==============================] - 0s 4ms/step - loss: 0.3065 - accuracy: 0.8906 - val_loss: 0.3340 - val_accuracy: 0.8667\n",
            "Epoch 159/200\n",
            "117/117 [==============================] - 0s 4ms/step - loss: 0.3063 - accuracy: 0.8908 - val_loss: 0.3343 - val_accuracy: 0.8600\n",
            "Epoch 160/200\n",
            "117/117 [==============================] - 0s 4ms/step - loss: 0.3062 - accuracy: 0.8912 - val_loss: 0.3324 - val_accuracy: 0.8700\n",
            "Epoch 161/200\n",
            "117/117 [==============================] - 0s 4ms/step - loss: 0.3060 - accuracy: 0.8909 - val_loss: 0.3367 - val_accuracy: 0.8633\n",
            "Epoch 162/200\n",
            "117/117 [==============================] - 1s 4ms/step - loss: 0.3055 - accuracy: 0.8903 - val_loss: 0.3369 - val_accuracy: 0.8667\n",
            "Epoch 163/200\n",
            "117/117 [==============================] - 1s 4ms/step - loss: 0.3043 - accuracy: 0.8920 - val_loss: 0.3365 - val_accuracy: 0.8633\n",
            "Epoch 164/200\n",
            "117/117 [==============================] - 1s 4ms/step - loss: 0.3042 - accuracy: 0.8912 - val_loss: 0.3353 - val_accuracy: 0.8717\n",
            "Epoch 165/200\n",
            "117/117 [==============================] - 1s 4ms/step - loss: 0.3030 - accuracy: 0.8920 - val_loss: 0.3312 - val_accuracy: 0.8633\n",
            "Epoch 166/200\n",
            "117/117 [==============================] - 1s 4ms/step - loss: 0.3031 - accuracy: 0.8916 - val_loss: 0.3327 - val_accuracy: 0.8650\n",
            "Epoch 167/200\n",
            "117/117 [==============================] - 1s 4ms/step - loss: 0.3020 - accuracy: 0.8924 - val_loss: 0.3364 - val_accuracy: 0.8733\n",
            "Epoch 168/200\n",
            "117/117 [==============================] - 1s 5ms/step - loss: 0.3020 - accuracy: 0.8926 - val_loss: 0.3342 - val_accuracy: 0.8683\n",
            "Epoch 169/200\n",
            "117/117 [==============================] - 1s 4ms/step - loss: 0.3010 - accuracy: 0.8925 - val_loss: 0.3383 - val_accuracy: 0.8650\n",
            "Epoch 170/200\n",
            "117/117 [==============================] - 1s 4ms/step - loss: 0.3014 - accuracy: 0.8924 - val_loss: 0.3294 - val_accuracy: 0.8700\n",
            "Epoch 171/200\n",
            "117/117 [==============================] - 1s 4ms/step - loss: 0.3004 - accuracy: 0.8930 - val_loss: 0.3395 - val_accuracy: 0.8750\n",
            "Epoch 172/200\n",
            "117/117 [==============================] - 1s 4ms/step - loss: 0.3004 - accuracy: 0.8926 - val_loss: 0.3309 - val_accuracy: 0.8733\n",
            "Epoch 173/200\n",
            "117/117 [==============================] - 1s 4ms/step - loss: 0.3010 - accuracy: 0.8922 - val_loss: 0.3239 - val_accuracy: 0.8667\n",
            "Epoch 174/200\n",
            "117/117 [==============================] - 1s 4ms/step - loss: 0.2983 - accuracy: 0.8936 - val_loss: 0.3280 - val_accuracy: 0.8667\n",
            "Epoch 175/200\n",
            "117/117 [==============================] - 1s 4ms/step - loss: 0.2975 - accuracy: 0.8940 - val_loss: 0.3294 - val_accuracy: 0.8700\n",
            "Epoch 176/200\n",
            "117/117 [==============================] - 1s 4ms/step - loss: 0.2978 - accuracy: 0.8933 - val_loss: 0.3273 - val_accuracy: 0.8667\n",
            "Epoch 177/200\n",
            "117/117 [==============================] - 1s 4ms/step - loss: 0.2971 - accuracy: 0.8942 - val_loss: 0.3354 - val_accuracy: 0.8683\n",
            "Epoch 178/200\n",
            "117/117 [==============================] - 1s 4ms/step - loss: 0.2981 - accuracy: 0.8937 - val_loss: 0.3274 - val_accuracy: 0.8667\n",
            "Epoch 179/200\n",
            "117/117 [==============================] - 1s 4ms/step - loss: 0.2970 - accuracy: 0.8941 - val_loss: 0.3310 - val_accuracy: 0.8683\n",
            "Epoch 180/200\n",
            "117/117 [==============================] - 1s 4ms/step - loss: 0.2961 - accuracy: 0.8942 - val_loss: 0.3283 - val_accuracy: 0.8683\n",
            "Epoch 181/200\n",
            "117/117 [==============================] - 0s 4ms/step - loss: 0.2951 - accuracy: 0.8943 - val_loss: 0.3292 - val_accuracy: 0.8667\n",
            "Epoch 182/200\n",
            "117/117 [==============================] - 1s 4ms/step - loss: 0.2942 - accuracy: 0.8944 - val_loss: 0.3296 - val_accuracy: 0.8683\n",
            "Epoch 183/200\n",
            "117/117 [==============================] - 1s 5ms/step - loss: 0.2947 - accuracy: 0.8948 - val_loss: 0.3293 - val_accuracy: 0.8767\n",
            "Epoch 184/200\n",
            "117/117 [==============================] - 1s 4ms/step - loss: 0.2936 - accuracy: 0.8951 - val_loss: 0.3227 - val_accuracy: 0.8667\n",
            "Epoch 185/200\n",
            "117/117 [==============================] - 1s 4ms/step - loss: 0.2946 - accuracy: 0.8949 - val_loss: 0.3253 - val_accuracy: 0.8633\n",
            "Epoch 186/200\n",
            "117/117 [==============================] - 1s 4ms/step - loss: 0.2931 - accuracy: 0.8953 - val_loss: 0.3246 - val_accuracy: 0.8650\n",
            "Epoch 187/200\n",
            "117/117 [==============================] - 0s 4ms/step - loss: 0.2928 - accuracy: 0.8950 - val_loss: 0.3249 - val_accuracy: 0.8717\n",
            "Epoch 188/200\n",
            "117/117 [==============================] - 1s 4ms/step - loss: 0.2917 - accuracy: 0.8949 - val_loss: 0.3270 - val_accuracy: 0.8733\n",
            "Epoch 189/200\n",
            "117/117 [==============================] - 1s 4ms/step - loss: 0.2911 - accuracy: 0.8959 - val_loss: 0.3245 - val_accuracy: 0.8733\n",
            "Epoch 190/200\n",
            "117/117 [==============================] - 1s 4ms/step - loss: 0.2937 - accuracy: 0.8948 - val_loss: 0.3269 - val_accuracy: 0.8683\n",
            "Epoch 191/200\n",
            "117/117 [==============================] - 1s 4ms/step - loss: 0.2903 - accuracy: 0.8966 - val_loss: 0.3257 - val_accuracy: 0.8667\n",
            "Epoch 192/200\n",
            "117/117 [==============================] - 0s 4ms/step - loss: 0.2907 - accuracy: 0.8959 - val_loss: 0.3210 - val_accuracy: 0.8650\n",
            "Epoch 193/200\n",
            "117/117 [==============================] - 1s 4ms/step - loss: 0.2891 - accuracy: 0.8972 - val_loss: 0.3238 - val_accuracy: 0.8633\n",
            "Epoch 194/200\n",
            "117/117 [==============================] - 1s 4ms/step - loss: 0.2896 - accuracy: 0.8964 - val_loss: 0.3215 - val_accuracy: 0.8667\n",
            "Epoch 195/200\n",
            "117/117 [==============================] - 1s 4ms/step - loss: 0.2882 - accuracy: 0.8964 - val_loss: 0.3249 - val_accuracy: 0.8683\n",
            "Epoch 196/200\n",
            "117/117 [==============================] - 1s 4ms/step - loss: 0.2886 - accuracy: 0.8966 - val_loss: 0.3241 - val_accuracy: 0.8783\n",
            "Epoch 197/200\n",
            "117/117 [==============================] - 1s 4ms/step - loss: 0.2881 - accuracy: 0.8973 - val_loss: 0.3237 - val_accuracy: 0.8783\n",
            "Epoch 198/200\n",
            "117/117 [==============================] - 1s 4ms/step - loss: 0.2877 - accuracy: 0.8970 - val_loss: 0.3280 - val_accuracy: 0.8700\n",
            "Epoch 199/200\n",
            "117/117 [==============================] - 1s 4ms/step - loss: 0.2876 - accuracy: 0.8969 - val_loss: 0.3250 - val_accuracy: 0.8717\n",
            "Epoch 200/200\n",
            "117/117 [==============================] - 1s 4ms/step - loss: 0.2862 - accuracy: 0.8979 - val_loss: 0.3240 - val_accuracy: 0.8683\n"
          ]
        }
      ]
    },
    {
      "cell_type": "code",
      "source": [
        "# loss 값을 plot 해보겠습니다.\n",
        "y_vloss = history.history['val_loss']\n",
        "y_loss = history.history['loss']\n",
        "x_len = np.arange(len(y_loss))\n",
        "\n",
        "plt.plot(x_len, y_vloss, marker='.', c='red', label=\"Validation-set Loss\")\n",
        "plt.plot(x_len, y_loss, marker='.', c='blue', label=\"Train-set Loss\")\n",
        "plt.legend(loc='upper right')\n",
        "plt.grid()\n",
        "plt.title('Loss graph without dropout layer') \n",
        "plt.ylim(0,1)\n",
        "plt.xlabel('epoch')\n",
        "plt.ylabel('loss')\n",
        "plt.show()"
      ],
      "metadata": {
        "colab": {
          "base_uri": "https://localhost:8080/",
          "height": 295
        },
        "id": "dnpM6ZAt-mei",
        "outputId": "cf914f81-7b8d-4abd-d173-7d3c57e755c4"
      },
      "execution_count": 31,
      "outputs": [
        {
          "output_type": "display_data",
          "data": {
            "text/plain": [
              "<Figure size 432x288 with 1 Axes>"
            ],
            "image/png": "[encoded data removed]"
          },
          "metadata": {
            "needs_background": "light"
          }
        }
      ]
    },
    {
      "cell_type": "code",
      "source": [
        "# accuracy 값을 plot 해보겠습니다.\n",
        "y_vacc = history.history['val_accuracy']\n",
        "y_acc = history.history['accuracy']\n",
        "x_len = np.arange(len(y_acc))\n",
        "\n",
        "plt.plot(x_len, y_vacc, marker='.', c='red', label=\"Validation-set accuracy\")\n",
        "plt.plot(x_len, y_acc, marker='.', c='blue', label=\"Train-set accuracy\")\n",
        "plt.legend(loc='lower right')\n",
        "plt.grid()\n",
        "plt.ylim(0.5,1) \n",
        "plt.title('Accuracy graph without dropout layer') \n",
        "plt.xlabel('epoch')\n",
        "plt.ylabel('accuracy')\n",
        "plt.show()"
      ],
      "metadata": {
        "colab": {
          "base_uri": "https://localhost:8080/",
          "height": 295
        },
        "id": "CTTlBMse-p_L",
        "outputId": "1874d44a-5bc3-41ab-d893-5045f549f1ba"
      },
      "execution_count": 32,
      "outputs": [
        {
          "output_type": "display_data",
          "data": {
            "text/plain": [
              "<Figure size 432x288 with 1 Axes>"
            ],
            "image/png": "[encoded data removed]"
          },
          "metadata": {
            "needs_background": "light"
          }
        }
      ]
    },
    {
      "cell_type": "markdown",
      "source": [
        "위의 dropout layer가 없는 fully connected laye에서 200번 정도의 학습을 하니 train set의 accuracy는 올라가고, loss는 점점 떨어졌다. 그러나 validation set의 accuracy와 loss는 어느 정도 값에서 수렴함을 볼 수 있었다.\n",
        "\n",
        "이렇게 오버피팅을 만든 환경에서 Dropout layer를 추가한 뒤 나머지 환경은 같게 한 실험을 살펴보도록 하겠다."
      ],
      "metadata": {
        "id": "NJEymJRk9dcr"
      }
    },
    {
      "cell_type": "code",
      "source": [
        "model = keras.Sequential([\n",
        "    keras.layers.Flatten(input_shape=(28, 28)),\n",
        "    keras.layers.Dense(256, activation='relu'),\n",
        "    # 여기에 dropout layer를 추가해보았습니다. 나머지 layer는 위의 실습과 같습니다. \n",
        "    keras.layers.Dropout(0.5),\n",
        "    keras.layers.Dense(10, activation='softmax')\n",
        "])\n",
        "\n",
        "model.compile(optimizer='adam',loss='sparse_categorical_crossentropy',\n",
        "              metrics=['accuracy'])\n",
        "\n",
        "history= model.fit(X_train, y_train, epochs=200, batch_size=512, validation_data=(X_valid, y_valid))"
      ],
      "metadata": {
        "colab": {
          "base_uri": "https://localhost:8080/"
        },
        "id": "yxfDdjdy_MFH",
        "outputId": "86601182-0b37-42c4-de1c-e035b30dcd68"
      },
      "execution_count": 33,
      "outputs": [
        {
          "output_type": "stream",
          "name": "stdout",
          "text": [
            "Epoch 1/200\n",
            "117/117 [==============================] - 2s 12ms/step - loss: 2.0688 - accuracy: 0.4481 - val_loss: 1.6741 - val_accuracy: 0.5867\n",
            "Epoch 2/200\n",
            "117/117 [==============================] - 1s 4ms/step - loss: 1.4518 - accuracy: 0.5600 - val_loss: 1.2178 - val_accuracy: 0.6500\n",
            "Epoch 3/200\n",
            "117/117 [==============================] - 0s 4ms/step - loss: 1.1547 - accuracy: 0.6234 - val_loss: 1.0107 - val_accuracy: 0.7033\n",
            "Epoch 4/200\n",
            "117/117 [==============================] - 1s 4ms/step - loss: 0.9948 - accuracy: 0.6673 - val_loss: 0.8769 - val_accuracy: 0.7400\n",
            "Epoch 5/200\n",
            "117/117 [==============================] - 0s 4ms/step - loss: 0.8897 - accuracy: 0.6964 - val_loss: 0.7912 - val_accuracy: 0.7650\n",
            "Epoch 6/200\n",
            "117/117 [==============================] - 0s 4ms/step - loss: 0.8181 - accuracy: 0.7132 - val_loss: 0.7332 - val_accuracy: 0.7667\n",
            "Epoch 7/200\n",
            "117/117 [==============================] - 0s 4ms/step - loss: 0.7680 - accuracy: 0.7279 - val_loss: 0.6950 - val_accuracy: 0.7683\n",
            "Epoch 8/200\n",
            "117/117 [==============================] - 0s 4ms/step - loss: 0.7335 - accuracy: 0.7388 - val_loss: 0.6662 - val_accuracy: 0.7750\n",
            "Epoch 9/200\n",
            "117/117 [==============================] - 1s 4ms/step - loss: 0.7073 - accuracy: 0.7453 - val_loss: 0.6451 - val_accuracy: 0.7867\n",
            "Epoch 10/200\n",
            "117/117 [==============================] - 1s 4ms/step - loss: 0.6828 - accuracy: 0.7537 - val_loss: 0.6241 - val_accuracy: 0.7900\n",
            "Epoch 11/200\n",
            "117/117 [==============================] - 1s 4ms/step - loss: 0.6630 - accuracy: 0.7627 - val_loss: 0.6073 - val_accuracy: 0.7917\n",
            "Epoch 12/200\n",
            "117/117 [==============================] - 0s 4ms/step - loss: 0.6464 - accuracy: 0.7687 - val_loss: 0.5945 - val_accuracy: 0.7883\n",
            "Epoch 13/200\n",
            "117/117 [==============================] - 0s 4ms/step - loss: 0.6289 - accuracy: 0.7732 - val_loss: 0.5819 - val_accuracy: 0.7917\n",
            "Epoch 14/200\n",
            "117/117 [==============================] - 0s 4ms/step - loss: 0.6175 - accuracy: 0.7787 - val_loss: 0.5701 - val_accuracy: 0.8017\n",
            "Epoch 15/200\n",
            "117/117 [==============================] - 0s 4ms/step - loss: 0.6043 - accuracy: 0.7830 - val_loss: 0.5587 - val_accuracy: 0.8033\n",
            "Epoch 16/200\n",
            "117/117 [==============================] - 0s 4ms/step - loss: 0.5920 - accuracy: 0.7887 - val_loss: 0.5461 - val_accuracy: 0.8033\n",
            "Epoch 17/200\n",
            "117/117 [==============================] - 1s 4ms/step - loss: 0.5829 - accuracy: 0.7923 - val_loss: 0.5401 - val_accuracy: 0.8067\n",
            "Epoch 18/200\n",
            "117/117 [==============================] - 0s 4ms/step - loss: 0.5722 - accuracy: 0.7971 - val_loss: 0.5325 - val_accuracy: 0.8067\n",
            "Epoch 19/200\n",
            "117/117 [==============================] - 1s 4ms/step - loss: 0.5647 - accuracy: 0.7985 - val_loss: 0.5249 - val_accuracy: 0.8067\n",
            "Epoch 20/200\n",
            "117/117 [==============================] - 1s 4ms/step - loss: 0.5545 - accuracy: 0.8031 - val_loss: 0.5172 - val_accuracy: 0.8067\n",
            "Epoch 21/200\n",
            "117/117 [==============================] - 0s 4ms/step - loss: 0.5467 - accuracy: 0.8061 - val_loss: 0.5133 - val_accuracy: 0.8100\n",
            "Epoch 22/200\n",
            "117/117 [==============================] - 1s 4ms/step - loss: 0.5417 - accuracy: 0.8076 - val_loss: 0.5064 - val_accuracy: 0.8133\n",
            "Epoch 23/200\n",
            "117/117 [==============================] - 1s 4ms/step - loss: 0.5330 - accuracy: 0.8104 - val_loss: 0.4982 - val_accuracy: 0.8183\n",
            "Epoch 24/200\n",
            "117/117 [==============================] - 0s 4ms/step - loss: 0.5271 - accuracy: 0.8126 - val_loss: 0.4925 - val_accuracy: 0.8217\n",
            "Epoch 25/200\n",
            "117/117 [==============================] - 1s 4ms/step - loss: 0.5212 - accuracy: 0.8162 - val_loss: 0.4898 - val_accuracy: 0.8217\n",
            "Epoch 26/200\n",
            "117/117 [==============================] - 0s 4ms/step - loss: 0.5157 - accuracy: 0.8180 - val_loss: 0.4827 - val_accuracy: 0.8150\n",
            "Epoch 27/200\n",
            "117/117 [==============================] - 1s 4ms/step - loss: 0.5109 - accuracy: 0.8188 - val_loss: 0.4789 - val_accuracy: 0.8200\n",
            "Epoch 28/200\n",
            "117/117 [==============================] - 1s 4ms/step - loss: 0.5043 - accuracy: 0.8234 - val_loss: 0.4738 - val_accuracy: 0.8183\n",
            "Epoch 29/200\n",
            "117/117 [==============================] - 1s 4ms/step - loss: 0.5016 - accuracy: 0.8234 - val_loss: 0.4698 - val_accuracy: 0.8200\n",
            "Epoch 30/200\n",
            "117/117 [==============================] - 1s 4ms/step - loss: 0.4986 - accuracy: 0.8242 - val_loss: 0.4650 - val_accuracy: 0.8233\n",
            "Epoch 31/200\n",
            "117/117 [==============================] - 1s 5ms/step - loss: 0.4938 - accuracy: 0.8257 - val_loss: 0.4629 - val_accuracy: 0.8217\n",
            "Epoch 32/200\n",
            "117/117 [==============================] - 0s 4ms/step - loss: 0.4901 - accuracy: 0.8272 - val_loss: 0.4573 - val_accuracy: 0.8233\n",
            "Epoch 33/200\n",
            "117/117 [==============================] - 1s 4ms/step - loss: 0.4868 - accuracy: 0.8278 - val_loss: 0.4569 - val_accuracy: 0.8267\n",
            "Epoch 34/200\n",
            "117/117 [==============================] - 1s 4ms/step - loss: 0.4811 - accuracy: 0.8288 - val_loss: 0.4541 - val_accuracy: 0.8250\n",
            "Epoch 35/200\n",
            "117/117 [==============================] - 1s 4ms/step - loss: 0.4772 - accuracy: 0.8310 - val_loss: 0.4468 - val_accuracy: 0.8300\n",
            "Epoch 36/200\n",
            "117/117 [==============================] - 0s 4ms/step - loss: 0.4735 - accuracy: 0.8309 - val_loss: 0.4455 - val_accuracy: 0.8333\n",
            "Epoch 37/200\n",
            "117/117 [==============================] - 1s 4ms/step - loss: 0.4710 - accuracy: 0.8338 - val_loss: 0.4441 - val_accuracy: 0.8233\n",
            "Epoch 38/200\n",
            "117/117 [==============================] - 0s 4ms/step - loss: 0.4700 - accuracy: 0.8349 - val_loss: 0.4393 - val_accuracy: 0.8300\n",
            "Epoch 39/200\n",
            "117/117 [==============================] - 1s 4ms/step - loss: 0.4648 - accuracy: 0.8367 - val_loss: 0.4397 - val_accuracy: 0.8300\n",
            "Epoch 40/200\n",
            "117/117 [==============================] - 0s 4ms/step - loss: 0.4636 - accuracy: 0.8356 - val_loss: 0.4339 - val_accuracy: 0.8350\n",
            "Epoch 41/200\n",
            "117/117 [==============================] - 1s 4ms/step - loss: 0.4605 - accuracy: 0.8387 - val_loss: 0.4322 - val_accuracy: 0.8350\n",
            "Epoch 42/200\n",
            "117/117 [==============================] - 0s 4ms/step - loss: 0.4563 - accuracy: 0.8386 - val_loss: 0.4303 - val_accuracy: 0.8333\n",
            "Epoch 43/200\n",
            "117/117 [==============================] - 1s 4ms/step - loss: 0.4557 - accuracy: 0.8384 - val_loss: 0.4311 - val_accuracy: 0.8350\n",
            "Epoch 44/200\n",
            "117/117 [==============================] - 0s 4ms/step - loss: 0.4516 - accuracy: 0.8419 - val_loss: 0.4252 - val_accuracy: 0.8300\n",
            "Epoch 45/200\n",
            "117/117 [==============================] - 1s 4ms/step - loss: 0.4505 - accuracy: 0.8413 - val_loss: 0.4221 - val_accuracy: 0.8350\n",
            "Epoch 46/200\n",
            "117/117 [==============================] - 1s 7ms/step - loss: 0.4475 - accuracy: 0.8421 - val_loss: 0.4230 - val_accuracy: 0.8383\n",
            "Epoch 47/200\n",
            "117/117 [==============================] - 1s 8ms/step - loss: 0.4465 - accuracy: 0.8414 - val_loss: 0.4188 - val_accuracy: 0.8333\n",
            "Epoch 48/200\n",
            "117/117 [==============================] - 1s 8ms/step - loss: 0.4437 - accuracy: 0.8439 - val_loss: 0.4173 - val_accuracy: 0.8333\n",
            "Epoch 49/200\n",
            "117/117 [==============================] - 1s 6ms/step - loss: 0.4395 - accuracy: 0.8454 - val_loss: 0.4146 - val_accuracy: 0.8317\n",
            "Epoch 50/200\n",
            "117/117 [==============================] - 0s 4ms/step - loss: 0.4407 - accuracy: 0.8448 - val_loss: 0.4145 - val_accuracy: 0.8300\n",
            "Epoch 51/200\n",
            "117/117 [==============================] - 0s 4ms/step - loss: 0.4379 - accuracy: 0.8460 - val_loss: 0.4132 - val_accuracy: 0.8383\n",
            "Epoch 52/200\n",
            "117/117 [==============================] - 0s 4ms/step - loss: 0.4356 - accuracy: 0.8461 - val_loss: 0.4094 - val_accuracy: 0.8350\n",
            "Epoch 53/200\n",
            "117/117 [==============================] - 1s 4ms/step - loss: 0.4359 - accuracy: 0.8457 - val_loss: 0.4114 - val_accuracy: 0.8350\n",
            "Epoch 54/200\n",
            "117/117 [==============================] - 0s 4ms/step - loss: 0.4316 - accuracy: 0.8472 - val_loss: 0.4080 - val_accuracy: 0.8400\n",
            "Epoch 55/200\n",
            "117/117 [==============================] - 1s 4ms/step - loss: 0.4274 - accuracy: 0.8496 - val_loss: 0.4064 - val_accuracy: 0.8400\n",
            "Epoch 56/200\n",
            "117/117 [==============================] - 0s 4ms/step - loss: 0.4273 - accuracy: 0.8487 - val_loss: 0.4051 - val_accuracy: 0.8350\n",
            "Epoch 57/200\n",
            "117/117 [==============================] - 1s 4ms/step - loss: 0.4239 - accuracy: 0.8497 - val_loss: 0.4009 - val_accuracy: 0.8333\n",
            "Epoch 58/200\n",
            "117/117 [==============================] - 0s 4ms/step - loss: 0.4231 - accuracy: 0.8502 - val_loss: 0.3986 - val_accuracy: 0.8317\n",
            "Epoch 59/200\n",
            "117/117 [==============================] - 1s 4ms/step - loss: 0.4225 - accuracy: 0.8504 - val_loss: 0.3979 - val_accuracy: 0.8400\n",
            "Epoch 60/200\n",
            "117/117 [==============================] - 0s 4ms/step - loss: 0.4215 - accuracy: 0.8512 - val_loss: 0.3994 - val_accuracy: 0.8383\n",
            "Epoch 61/200\n",
            "117/117 [==============================] - 1s 6ms/step - loss: 0.4181 - accuracy: 0.8527 - val_loss: 0.3968 - val_accuracy: 0.8400\n",
            "Epoch 62/200\n",
            "117/117 [==============================] - 1s 7ms/step - loss: 0.4173 - accuracy: 0.8524 - val_loss: 0.3955 - val_accuracy: 0.8367\n",
            "Epoch 63/200\n",
            "117/117 [==============================] - 1s 9ms/step - loss: 0.4176 - accuracy: 0.8536 - val_loss: 0.3963 - val_accuracy: 0.8383\n",
            "Epoch 64/200\n",
            "117/117 [==============================] - 1s 9ms/step - loss: 0.4136 - accuracy: 0.8534 - val_loss: 0.3927 - val_accuracy: 0.8417\n",
            "Epoch 65/200\n",
            "117/117 [==============================] - 1s 11ms/step - loss: 0.4123 - accuracy: 0.8536 - val_loss: 0.3943 - val_accuracy: 0.8417\n",
            "Epoch 66/200\n",
            "117/117 [==============================] - 1s 9ms/step - loss: 0.4113 - accuracy: 0.8535 - val_loss: 0.3928 - val_accuracy: 0.8383\n",
            "Epoch 67/200\n",
            "117/117 [==============================] - 1s 8ms/step - loss: 0.4112 - accuracy: 0.8548 - val_loss: 0.3908 - val_accuracy: 0.8433\n",
            "Epoch 68/200\n",
            "117/117 [==============================] - 1s 8ms/step - loss: 0.4068 - accuracy: 0.8556 - val_loss: 0.3878 - val_accuracy: 0.8400\n",
            "Epoch 69/200\n",
            "117/117 [==============================] - 1s 5ms/step - loss: 0.4085 - accuracy: 0.8566 - val_loss: 0.3867 - val_accuracy: 0.8450\n",
            "Epoch 70/200\n",
            "117/117 [==============================] - 0s 4ms/step - loss: 0.4053 - accuracy: 0.8558 - val_loss: 0.3882 - val_accuracy: 0.8417\n",
            "Epoch 71/200\n",
            "117/117 [==============================] - 1s 4ms/step - loss: 0.4042 - accuracy: 0.8571 - val_loss: 0.3833 - val_accuracy: 0.8483\n",
            "Epoch 72/200\n",
            "117/117 [==============================] - 1s 4ms/step - loss: 0.4037 - accuracy: 0.8564 - val_loss: 0.3845 - val_accuracy: 0.8400\n",
            "Epoch 73/200\n",
            "117/117 [==============================] - 1s 4ms/step - loss: 0.4016 - accuracy: 0.8566 - val_loss: 0.3834 - val_accuracy: 0.8417\n",
            "Epoch 74/200\n",
            "117/117 [==============================] - 1s 4ms/step - loss: 0.4008 - accuracy: 0.8574 - val_loss: 0.3830 - val_accuracy: 0.8433\n",
            "Epoch 75/200\n",
            "117/117 [==============================] - 1s 4ms/step - loss: 0.3991 - accuracy: 0.8583 - val_loss: 0.3802 - val_accuracy: 0.8433\n",
            "Epoch 76/200\n",
            "117/117 [==============================] - 1s 4ms/step - loss: 0.3978 - accuracy: 0.8591 - val_loss: 0.3809 - val_accuracy: 0.8500\n",
            "Epoch 77/200\n",
            "117/117 [==============================] - 1s 4ms/step - loss: 0.3966 - accuracy: 0.8587 - val_loss: 0.3803 - val_accuracy: 0.8400\n",
            "Epoch 78/200\n",
            "117/117 [==============================] - 1s 4ms/step - loss: 0.3951 - accuracy: 0.8606 - val_loss: 0.3796 - val_accuracy: 0.8467\n",
            "Epoch 79/200\n",
            "117/117 [==============================] - 1s 4ms/step - loss: 0.3944 - accuracy: 0.8605 - val_loss: 0.3812 - val_accuracy: 0.8450\n",
            "Epoch 80/200\n",
            "117/117 [==============================] - 1s 4ms/step - loss: 0.3948 - accuracy: 0.8601 - val_loss: 0.3764 - val_accuracy: 0.8417\n",
            "Epoch 81/200\n",
            "117/117 [==============================] - 1s 4ms/step - loss: 0.3927 - accuracy: 0.8604 - val_loss: 0.3767 - val_accuracy: 0.8450\n",
            "Epoch 82/200\n",
            "117/117 [==============================] - 0s 4ms/step - loss: 0.3920 - accuracy: 0.8613 - val_loss: 0.3761 - val_accuracy: 0.8450\n",
            "Epoch 83/200\n",
            "117/117 [==============================] - 1s 4ms/step - loss: 0.3903 - accuracy: 0.8618 - val_loss: 0.3732 - val_accuracy: 0.8500\n",
            "Epoch 84/200\n",
            "117/117 [==============================] - 0s 4ms/step - loss: 0.3905 - accuracy: 0.8606 - val_loss: 0.3741 - val_accuracy: 0.8433\n",
            "Epoch 85/200\n",
            "117/117 [==============================] - 1s 4ms/step - loss: 0.3884 - accuracy: 0.8617 - val_loss: 0.3733 - val_accuracy: 0.8417\n",
            "Epoch 86/200\n",
            "117/117 [==============================] - 1s 4ms/step - loss: 0.3872 - accuracy: 0.8633 - val_loss: 0.3742 - val_accuracy: 0.8450\n",
            "Epoch 87/200\n",
            "117/117 [==============================] - 1s 4ms/step - loss: 0.3872 - accuracy: 0.8629 - val_loss: 0.3701 - val_accuracy: 0.8517\n",
            "Epoch 88/200\n",
            "117/117 [==============================] - 0s 4ms/step - loss: 0.3867 - accuracy: 0.8637 - val_loss: 0.3704 - val_accuracy: 0.8483\n",
            "Epoch 89/200\n",
            "117/117 [==============================] - 1s 4ms/step - loss: 0.3838 - accuracy: 0.8638 - val_loss: 0.3678 - val_accuracy: 0.8517\n",
            "Epoch 90/200\n",
            "117/117 [==============================] - 0s 4ms/step - loss: 0.3819 - accuracy: 0.8648 - val_loss: 0.3695 - val_accuracy: 0.8467\n",
            "Epoch 91/200\n",
            "117/117 [==============================] - 1s 5ms/step - loss: 0.3814 - accuracy: 0.8649 - val_loss: 0.3665 - val_accuracy: 0.8467\n",
            "Epoch 92/200\n",
            "117/117 [==============================] - 1s 4ms/step - loss: 0.3824 - accuracy: 0.8644 - val_loss: 0.3675 - val_accuracy: 0.8467\n",
            "Epoch 93/200\n",
            "117/117 [==============================] - 1s 4ms/step - loss: 0.3799 - accuracy: 0.8665 - val_loss: 0.3662 - val_accuracy: 0.8483\n",
            "Epoch 94/200\n",
            "117/117 [==============================] - 1s 4ms/step - loss: 0.3784 - accuracy: 0.8668 - val_loss: 0.3651 - val_accuracy: 0.8500\n",
            "Epoch 95/200\n",
            "117/117 [==============================] - 1s 4ms/step - loss: 0.3760 - accuracy: 0.8665 - val_loss: 0.3644 - val_accuracy: 0.8467\n",
            "Epoch 96/200\n",
            "117/117 [==============================] - 0s 4ms/step - loss: 0.3776 - accuracy: 0.8662 - val_loss: 0.3644 - val_accuracy: 0.8533\n",
            "Epoch 97/200\n",
            "117/117 [==============================] - 1s 4ms/step - loss: 0.3778 - accuracy: 0.8659 - val_loss: 0.3627 - val_accuracy: 0.8483\n",
            "Epoch 98/200\n",
            "117/117 [==============================] - 1s 4ms/step - loss: 0.3751 - accuracy: 0.8672 - val_loss: 0.3616 - val_accuracy: 0.8500\n",
            "Epoch 99/200\n",
            "117/117 [==============================] - 1s 4ms/step - loss: 0.3733 - accuracy: 0.8677 - val_loss: 0.3625 - val_accuracy: 0.8517\n",
            "Epoch 100/200\n",
            "117/117 [==============================] - 1s 4ms/step - loss: 0.3735 - accuracy: 0.8671 - val_loss: 0.3603 - val_accuracy: 0.8483\n",
            "Epoch 101/200\n",
            "117/117 [==============================] - 1s 4ms/step - loss: 0.3719 - accuracy: 0.8681 - val_loss: 0.3625 - val_accuracy: 0.8533\n",
            "Epoch 102/200\n",
            "117/117 [==============================] - 0s 4ms/step - loss: 0.3720 - accuracy: 0.8684 - val_loss: 0.3598 - val_accuracy: 0.8517\n",
            "Epoch 103/200\n",
            "117/117 [==============================] - 1s 4ms/step - loss: 0.3736 - accuracy: 0.8669 - val_loss: 0.3599 - val_accuracy: 0.8533\n",
            "Epoch 104/200\n",
            "117/117 [==============================] - 1s 4ms/step - loss: 0.3714 - accuracy: 0.8674 - val_loss: 0.3587 - val_accuracy: 0.8500\n",
            "Epoch 105/200\n",
            "117/117 [==============================] - 1s 5ms/step - loss: 0.3723 - accuracy: 0.8688 - val_loss: 0.3598 - val_accuracy: 0.8550\n",
            "Epoch 106/200\n",
            "117/117 [==============================] - 0s 4ms/step - loss: 0.3702 - accuracy: 0.8692 - val_loss: 0.3594 - val_accuracy: 0.8583\n",
            "Epoch 107/200\n",
            "117/117 [==============================] - 1s 4ms/step - loss: 0.3682 - accuracy: 0.8707 - val_loss: 0.3566 - val_accuracy: 0.8517\n",
            "Epoch 108/200\n",
            "117/117 [==============================] - 0s 4ms/step - loss: 0.3672 - accuracy: 0.8700 - val_loss: 0.3543 - val_accuracy: 0.8533\n",
            "Epoch 109/200\n",
            "117/117 [==============================] - 1s 4ms/step - loss: 0.3675 - accuracy: 0.8695 - val_loss: 0.3541 - val_accuracy: 0.8533\n",
            "Epoch 110/200\n",
            "117/117 [==============================] - 0s 4ms/step - loss: 0.3656 - accuracy: 0.8706 - val_loss: 0.3552 - val_accuracy: 0.8550\n",
            "Epoch 111/200\n",
            "117/117 [==============================] - 1s 4ms/step - loss: 0.3670 - accuracy: 0.8704 - val_loss: 0.3540 - val_accuracy: 0.8583\n",
            "Epoch 112/200\n",
            "117/117 [==============================] - 0s 4ms/step - loss: 0.3633 - accuracy: 0.8704 - val_loss: 0.3532 - val_accuracy: 0.8517\n",
            "Epoch 113/200\n",
            "117/117 [==============================] - 0s 4ms/step - loss: 0.3646 - accuracy: 0.8715 - val_loss: 0.3527 - val_accuracy: 0.8617\n",
            "Epoch 114/200\n",
            "117/117 [==============================] - 1s 4ms/step - loss: 0.3632 - accuracy: 0.8708 - val_loss: 0.3521 - val_accuracy: 0.8517\n",
            "Epoch 115/200\n",
            "117/117 [==============================] - 1s 4ms/step - loss: 0.3637 - accuracy: 0.8713 - val_loss: 0.3514 - val_accuracy: 0.8500\n",
            "Epoch 116/200\n",
            "117/117 [==============================] - 0s 4ms/step - loss: 0.3606 - accuracy: 0.8723 - val_loss: 0.3507 - val_accuracy: 0.8533\n",
            "Epoch 117/200\n",
            "117/117 [==============================] - 1s 4ms/step - loss: 0.3607 - accuracy: 0.8719 - val_loss: 0.3491 - val_accuracy: 0.8517\n",
            "Epoch 118/200\n",
            "117/117 [==============================] - 1s 4ms/step - loss: 0.3586 - accuracy: 0.8731 - val_loss: 0.3483 - val_accuracy: 0.8583\n",
            "Epoch 119/200\n",
            "117/117 [==============================] - 1s 4ms/step - loss: 0.3589 - accuracy: 0.8717 - val_loss: 0.3478 - val_accuracy: 0.8567\n",
            "Epoch 120/200\n",
            "117/117 [==============================] - 1s 4ms/step - loss: 0.3598 - accuracy: 0.8730 - val_loss: 0.3498 - val_accuracy: 0.8533\n",
            "Epoch 121/200\n",
            "117/117 [==============================] - 1s 4ms/step - loss: 0.3584 - accuracy: 0.8729 - val_loss: 0.3522 - val_accuracy: 0.8550\n",
            "Epoch 122/200\n",
            "117/117 [==============================] - 1s 4ms/step - loss: 0.3577 - accuracy: 0.8732 - val_loss: 0.3486 - val_accuracy: 0.8567\n",
            "Epoch 123/200\n",
            "117/117 [==============================] - 1s 5ms/step - loss: 0.3553 - accuracy: 0.8728 - val_loss: 0.3497 - val_accuracy: 0.8567\n",
            "Epoch 124/200\n",
            "117/117 [==============================] - 1s 4ms/step - loss: 0.3559 - accuracy: 0.8736 - val_loss: 0.3504 - val_accuracy: 0.8583\n",
            "Epoch 125/200\n",
            "117/117 [==============================] - 1s 4ms/step - loss: 0.3567 - accuracy: 0.8739 - val_loss: 0.3470 - val_accuracy: 0.8517\n",
            "Epoch 126/200\n",
            "117/117 [==============================] - 1s 4ms/step - loss: 0.3543 - accuracy: 0.8742 - val_loss: 0.3474 - val_accuracy: 0.8567\n",
            "Epoch 127/200\n",
            "117/117 [==============================] - 1s 4ms/step - loss: 0.3544 - accuracy: 0.8759 - val_loss: 0.3474 - val_accuracy: 0.8567\n",
            "Epoch 128/200\n",
            "117/117 [==============================] - 1s 4ms/step - loss: 0.3539 - accuracy: 0.8745 - val_loss: 0.3459 - val_accuracy: 0.8550\n",
            "Epoch 129/200\n",
            "117/117 [==============================] - 1s 4ms/step - loss: 0.3521 - accuracy: 0.8750 - val_loss: 0.3437 - val_accuracy: 0.8550\n",
            "Epoch 130/200\n",
            "117/117 [==============================] - 1s 4ms/step - loss: 0.3524 - accuracy: 0.8745 - val_loss: 0.3415 - val_accuracy: 0.8533\n",
            "Epoch 131/200\n",
            "117/117 [==============================] - 1s 4ms/step - loss: 0.3519 - accuracy: 0.8753 - val_loss: 0.3439 - val_accuracy: 0.8583\n",
            "Epoch 132/200\n",
            "117/117 [==============================] - 1s 4ms/step - loss: 0.3525 - accuracy: 0.8756 - val_loss: 0.3432 - val_accuracy: 0.8617\n",
            "Epoch 133/200\n",
            "117/117 [==============================] - 1s 4ms/step - loss: 0.3499 - accuracy: 0.8758 - val_loss: 0.3433 - val_accuracy: 0.8583\n",
            "Epoch 134/200\n",
            "117/117 [==============================] - 1s 4ms/step - loss: 0.3507 - accuracy: 0.8756 - val_loss: 0.3426 - val_accuracy: 0.8550\n",
            "Epoch 135/200\n",
            "117/117 [==============================] - 0s 4ms/step - loss: 0.3517 - accuracy: 0.8751 - val_loss: 0.3429 - val_accuracy: 0.8550\n",
            "Epoch 136/200\n",
            "117/117 [==============================] - 1s 4ms/step - loss: 0.3513 - accuracy: 0.8755 - val_loss: 0.3437 - val_accuracy: 0.8533\n",
            "Epoch 137/200\n",
            "117/117 [==============================] - 0s 4ms/step - loss: 0.3485 - accuracy: 0.8759 - val_loss: 0.3413 - val_accuracy: 0.8567\n",
            "Epoch 138/200\n",
            "117/117 [==============================] - 0s 4ms/step - loss: 0.3478 - accuracy: 0.8761 - val_loss: 0.3404 - val_accuracy: 0.8567\n",
            "Epoch 139/200\n",
            "117/117 [==============================] - 1s 4ms/step - loss: 0.3464 - accuracy: 0.8783 - val_loss: 0.3357 - val_accuracy: 0.8600\n",
            "Epoch 140/200\n",
            "117/117 [==============================] - 1s 4ms/step - loss: 0.3468 - accuracy: 0.8762 - val_loss: 0.3379 - val_accuracy: 0.8583\n",
            "Epoch 141/200\n",
            "117/117 [==============================] - 1s 4ms/step - loss: 0.3457 - accuracy: 0.8769 - val_loss: 0.3395 - val_accuracy: 0.8583\n",
            "Epoch 142/200\n",
            "117/117 [==============================] - 1s 4ms/step - loss: 0.3455 - accuracy: 0.8769 - val_loss: 0.3385 - val_accuracy: 0.8583\n",
            "Epoch 143/200\n",
            "117/117 [==============================] - 1s 4ms/step - loss: 0.3473 - accuracy: 0.8768 - val_loss: 0.3383 - val_accuracy: 0.8583\n",
            "Epoch 144/200\n",
            "117/117 [==============================] - 1s 5ms/step - loss: 0.3432 - accuracy: 0.8784 - val_loss: 0.3384 - val_accuracy: 0.8633\n",
            "Epoch 145/200\n",
            "117/117 [==============================] - 1s 4ms/step - loss: 0.3432 - accuracy: 0.8782 - val_loss: 0.3379 - val_accuracy: 0.8633\n",
            "Epoch 146/200\n",
            "117/117 [==============================] - 1s 4ms/step - loss: 0.3417 - accuracy: 0.8797 - val_loss: 0.3356 - val_accuracy: 0.8600\n",
            "Epoch 147/200\n",
            "117/117 [==============================] - 0s 4ms/step - loss: 0.3420 - accuracy: 0.8789 - val_loss: 0.3366 - val_accuracy: 0.8600\n",
            "Epoch 148/200\n",
            "117/117 [==============================] - 1s 4ms/step - loss: 0.3408 - accuracy: 0.8790 - val_loss: 0.3374 - val_accuracy: 0.8617\n",
            "Epoch 149/200\n",
            "117/117 [==============================] - 1s 4ms/step - loss: 0.3412 - accuracy: 0.8792 - val_loss: 0.3364 - val_accuracy: 0.8600\n",
            "Epoch 150/200\n",
            "117/117 [==============================] - 1s 4ms/step - loss: 0.3416 - accuracy: 0.8780 - val_loss: 0.3359 - val_accuracy: 0.8517\n",
            "Epoch 151/200\n",
            "117/117 [==============================] - 1s 4ms/step - loss: 0.3401 - accuracy: 0.8789 - val_loss: 0.3349 - val_accuracy: 0.8600\n",
            "Epoch 152/200\n",
            "117/117 [==============================] - 1s 4ms/step - loss: 0.3389 - accuracy: 0.8802 - val_loss: 0.3339 - val_accuracy: 0.8617\n",
            "Epoch 153/200\n",
            "117/117 [==============================] - 1s 4ms/step - loss: 0.3379 - accuracy: 0.8793 - val_loss: 0.3377 - val_accuracy: 0.8533\n",
            "Epoch 154/200\n",
            "117/117 [==============================] - 1s 4ms/step - loss: 0.3398 - accuracy: 0.8793 - val_loss: 0.3343 - val_accuracy: 0.8633\n",
            "Epoch 155/200\n",
            "117/117 [==============================] - 0s 4ms/step - loss: 0.3382 - accuracy: 0.8810 - val_loss: 0.3332 - val_accuracy: 0.8633\n",
            "Epoch 156/200\n",
            "117/117 [==============================] - 0s 4ms/step - loss: 0.3396 - accuracy: 0.8802 - val_loss: 0.3347 - val_accuracy: 0.8650\n",
            "Epoch 157/200\n",
            "117/117 [==============================] - 1s 4ms/step - loss: 0.3387 - accuracy: 0.8797 - val_loss: 0.3340 - val_accuracy: 0.8617\n",
            "Epoch 158/200\n",
            "117/117 [==============================] - 1s 4ms/step - loss: 0.3376 - accuracy: 0.8805 - val_loss: 0.3314 - val_accuracy: 0.8633\n",
            "Epoch 159/200\n",
            "117/117 [==============================] - 1s 4ms/step - loss: 0.3376 - accuracy: 0.8807 - val_loss: 0.3328 - val_accuracy: 0.8667\n",
            "Epoch 160/200\n",
            "117/117 [==============================] - 1s 4ms/step - loss: 0.3341 - accuracy: 0.8817 - val_loss: 0.3324 - val_accuracy: 0.8667\n",
            "Epoch 161/200\n",
            "117/117 [==============================] - 1s 4ms/step - loss: 0.3343 - accuracy: 0.8819 - val_loss: 0.3306 - val_accuracy: 0.8667\n",
            "Epoch 162/200\n",
            "117/117 [==============================] - 1s 4ms/step - loss: 0.3353 - accuracy: 0.8823 - val_loss: 0.3316 - val_accuracy: 0.8583\n",
            "Epoch 163/200\n",
            "117/117 [==============================] - 1s 4ms/step - loss: 0.3340 - accuracy: 0.8818 - val_loss: 0.3320 - val_accuracy: 0.8617\n",
            "Epoch 164/200\n",
            "117/117 [==============================] - 1s 5ms/step - loss: 0.3371 - accuracy: 0.8806 - val_loss: 0.3296 - val_accuracy: 0.8683\n",
            "Epoch 165/200\n",
            "117/117 [==============================] - 0s 4ms/step - loss: 0.3327 - accuracy: 0.8822 - val_loss: 0.3320 - val_accuracy: 0.8617\n",
            "Epoch 166/200\n",
            "117/117 [==============================] - 1s 4ms/step - loss: 0.3353 - accuracy: 0.8805 - val_loss: 0.3320 - val_accuracy: 0.8617\n",
            "Epoch 167/200\n",
            "117/117 [==============================] - 1s 4ms/step - loss: 0.3331 - accuracy: 0.8810 - val_loss: 0.3307 - val_accuracy: 0.8633\n",
            "Epoch 168/200\n",
            "117/117 [==============================] - 1s 4ms/step - loss: 0.3315 - accuracy: 0.8817 - val_loss: 0.3282 - val_accuracy: 0.8600\n",
            "Epoch 169/200\n",
            "117/117 [==============================] - 0s 4ms/step - loss: 0.3313 - accuracy: 0.8817 - val_loss: 0.3322 - val_accuracy: 0.8583\n",
            "Epoch 170/200\n",
            "117/117 [==============================] - 1s 4ms/step - loss: 0.3303 - accuracy: 0.8816 - val_loss: 0.3273 - val_accuracy: 0.8617\n",
            "Epoch 171/200\n",
            "117/117 [==============================] - 1s 4ms/step - loss: 0.3318 - accuracy: 0.8827 - val_loss: 0.3323 - val_accuracy: 0.8600\n",
            "Epoch 172/200\n",
            "117/117 [==============================] - 1s 5ms/step - loss: 0.3313 - accuracy: 0.8835 - val_loss: 0.3299 - val_accuracy: 0.8583\n",
            "Epoch 173/200\n",
            "117/117 [==============================] - 0s 4ms/step - loss: 0.3299 - accuracy: 0.8832 - val_loss: 0.3275 - val_accuracy: 0.8700\n",
            "Epoch 174/200\n",
            "117/117 [==============================] - 1s 4ms/step - loss: 0.3304 - accuracy: 0.8831 - val_loss: 0.3307 - val_accuracy: 0.8617\n",
            "Epoch 175/200\n",
            "117/117 [==============================] - 1s 4ms/step - loss: 0.3279 - accuracy: 0.8831 - val_loss: 0.3290 - val_accuracy: 0.8650\n",
            "Epoch 176/200\n",
            "117/117 [==============================] - 1s 4ms/step - loss: 0.3276 - accuracy: 0.8831 - val_loss: 0.3280 - val_accuracy: 0.8617\n",
            "Epoch 177/200\n",
            "117/117 [==============================] - 1s 4ms/step - loss: 0.3280 - accuracy: 0.8828 - val_loss: 0.3262 - val_accuracy: 0.8650\n",
            "Epoch 178/200\n",
            "117/117 [==============================] - 1s 4ms/step - loss: 0.3271 - accuracy: 0.8844 - val_loss: 0.3264 - val_accuracy: 0.8650\n",
            "Epoch 179/200\n",
            "117/117 [==============================] - 0s 4ms/step - loss: 0.3280 - accuracy: 0.8826 - val_loss: 0.3278 - val_accuracy: 0.8633\n",
            "Epoch 180/200\n",
            "117/117 [==============================] - 1s 4ms/step - loss: 0.3251 - accuracy: 0.8851 - val_loss: 0.3261 - val_accuracy: 0.8683\n",
            "Epoch 181/200\n",
            "117/117 [==============================] - 1s 4ms/step - loss: 0.3267 - accuracy: 0.8836 - val_loss: 0.3273 - val_accuracy: 0.8667\n",
            "Epoch 182/200\n",
            "117/117 [==============================] - 1s 4ms/step - loss: 0.3247 - accuracy: 0.8839 - val_loss: 0.3261 - val_accuracy: 0.8633\n",
            "Epoch 183/200\n",
            "117/117 [==============================] - 1s 5ms/step - loss: 0.3281 - accuracy: 0.8838 - val_loss: 0.3256 - val_accuracy: 0.8633\n",
            "Epoch 184/200\n",
            "117/117 [==============================] - 1s 4ms/step - loss: 0.3244 - accuracy: 0.8857 - val_loss: 0.3275 - val_accuracy: 0.8533\n",
            "Epoch 185/200\n",
            "117/117 [==============================] - 1s 5ms/step - loss: 0.3227 - accuracy: 0.8847 - val_loss: 0.3285 - val_accuracy: 0.8633\n",
            "Epoch 186/200\n",
            "117/117 [==============================] - 0s 4ms/step - loss: 0.3236 - accuracy: 0.8834 - val_loss: 0.3251 - val_accuracy: 0.8650\n",
            "Epoch 187/200\n",
            "117/117 [==============================] - 1s 4ms/step - loss: 0.3240 - accuracy: 0.8849 - val_loss: 0.3259 - val_accuracy: 0.8600\n",
            "Epoch 188/200\n",
            "117/117 [==============================] - 1s 4ms/step - loss: 0.3236 - accuracy: 0.8858 - val_loss: 0.3252 - val_accuracy: 0.8650\n",
            "Epoch 189/200\n",
            "117/117 [==============================] - 1s 4ms/step - loss: 0.3227 - accuracy: 0.8850 - val_loss: 0.3244 - val_accuracy: 0.8617\n",
            "Epoch 190/200\n",
            "117/117 [==============================] - 1s 4ms/step - loss: 0.3224 - accuracy: 0.8859 - val_loss: 0.3271 - val_accuracy: 0.8617\n",
            "Epoch 191/200\n",
            "117/117 [==============================] - 1s 4ms/step - loss: 0.3213 - accuracy: 0.8851 - val_loss: 0.3265 - val_accuracy: 0.8633\n",
            "Epoch 192/200\n",
            "117/117 [==============================] - 1s 4ms/step - loss: 0.3205 - accuracy: 0.8857 - val_loss: 0.3248 - val_accuracy: 0.8650\n",
            "Epoch 193/200\n",
            "117/117 [==============================] - 1s 4ms/step - loss: 0.3218 - accuracy: 0.8862 - val_loss: 0.3259 - val_accuracy: 0.8700\n",
            "Epoch 194/200\n",
            "117/117 [==============================] - 0s 4ms/step - loss: 0.3181 - accuracy: 0.8864 - val_loss: 0.3230 - val_accuracy: 0.8617\n",
            "Epoch 195/200\n",
            "117/117 [==============================] - 1s 5ms/step - loss: 0.3215 - accuracy: 0.8848 - val_loss: 0.3241 - val_accuracy: 0.8617\n",
            "Epoch 196/200\n",
            "117/117 [==============================] - 1s 4ms/step - loss: 0.3185 - accuracy: 0.8863 - val_loss: 0.3244 - val_accuracy: 0.8633\n",
            "Epoch 197/200\n",
            "117/117 [==============================] - 1s 5ms/step - loss: 0.3191 - accuracy: 0.8857 - val_loss: 0.3254 - val_accuracy: 0.8617\n",
            "Epoch 198/200\n",
            "117/117 [==============================] - 1s 4ms/step - loss: 0.3214 - accuracy: 0.8859 - val_loss: 0.3240 - val_accuracy: 0.8683\n",
            "Epoch 199/200\n",
            "117/117 [==============================] - 1s 4ms/step - loss: 0.3198 - accuracy: 0.8861 - val_loss: 0.3217 - val_accuracy: 0.8650\n",
            "Epoch 200/200\n",
            "117/117 [==============================] - 1s 5ms/step - loss: 0.3219 - accuracy: 0.8846 - val_loss: 0.3231 - val_accuracy: 0.8667\n"
          ]
        }
      ]
    },
    {
      "cell_type": "code",
      "source": [
        "# loss 값을 plot 해보겠습니다. \n",
        "y_vloss = history.history['val_loss']\n",
        "y_loss = history.history['loss']\n",
        "x_len = np.arange(len(y_loss))\n",
        "\n",
        "plt.plot(x_len, y_vloss, marker='.', c='red', label=\"Validation-set Loss\")\n",
        "plt.plot(x_len, y_loss, marker='.', c='blue', label=\"Train-set Loss\")\n",
        "plt.legend(loc='upper right')\n",
        "plt.grid()\n",
        "plt.ylim(0,1)\n",
        "plt.title('Loss graph with dropout layer') \n",
        "plt.xlabel('epoch')\n",
        "plt.ylabel('loss')\n",
        "plt.show()"
      ],
      "metadata": {
        "colab": {
          "base_uri": "https://localhost:8080/",
          "height": 295
        },
        "id": "2nsI5IpA_MIS",
        "outputId": "91f0dbf6-a040-4a3a-ad9f-9309d7f92eeb"
      },
      "execution_count": 34,
      "outputs": [
        {
          "output_type": "display_data",
          "data": {
            "text/plain": [
              "<Figure size 432x288 with 1 Axes>"
            ],
            "image/png": "[encoded data removed]"
          },
          "metadata": {
            "needs_background": "light"
          }
        }
      ]
    },
    {
      "cell_type": "code",
      "source": [
        "# accuracy 값을 plot 해보겠습니다. \n",
        "y_vacc = history.history['val_accuracy']\n",
        "y_acc = history.history['accuracy']\n",
        "x_len = np.arange(len(y_acc))\n",
        "\n",
        "plt.plot(x_len, y_vacc, marker='.', c='red', label=\"Validation-set accuracy\")\n",
        "plt.plot(x_len, y_acc, marker='.', c='blue', label=\"Train-set accuracy\")\n",
        "plt.legend(loc='lower right')\n",
        "plt.grid()\n",
        "plt.ylim(0.5,1) \n",
        "plt.title('Accuracy graph with dropout layer') \n",
        "plt.xlabel('epoch')\n",
        "plt.ylabel('accuracy')\n",
        "plt.show()"
      ],
      "metadata": {
        "colab": {
          "base_uri": "https://localhost:8080/",
          "height": 295
        },
        "id": "xiFifWEH_MLF",
        "outputId": "e173c3a5-1c83-42a7-918e-eb55f8f771b7"
      },
      "execution_count": 35,
      "outputs": [
        {
          "output_type": "display_data",
          "data": {
            "text/plain": [
              "<Figure size 432x288 with 1 Axes>"
            ],
            "image/png": "[encoded data removed]"
          },
          "metadata": {
            "needs_background": "light"
          }
        }
      ]
    },
    {
      "cell_type": "markdown",
      "source": [
        "좋은 데이터를 가지고 오버피팅을 만드는 환경이 조금 어렵긴 했지만, Dropout layer 하나만으로도 오버피팅을 막고, 두 데이터 셋이 정확도도 비슷하게 나옴을 확인했다. 사실 더 복잡한 네트워크나, 더 어려운 데이터의 경우에는 이러한 오버피팅이 더 자주 있는 일이므로, Dropout layer를 추가하는 경우가 많다. 하지만, 이 또한 확률 값이 파라미터로 들어가므로, 어떠한 값을 선택하느냐는 데이터와 네트워크에 따라 달린 일이다.\n",
        "\n"
      ],
      "metadata": {
        "id": "6VzUahW99dfm"
      }
    },
    {
      "cell_type": "markdown",
      "source": [
        "### Batch Normalization"
      ],
      "metadata": {
        "id": "2aXR-_T19diw"
      }
    },
    {
      "cell_type": "markdown",
      "source": [
        "Batch Normalization은 gradient vanishing explode 문제를 해결하는 방법이다."
      ],
      "metadata": {
        "id": "bkKnVm9A9dly"
      }
    },
    {
      "cell_type": "markdown",
      "source": [
        "Batch Normalization에서 중요하는 점은 E이 추가되었다는 점이다. 이 부분으로 인해 normalize 과정에서 gradient가 사라지거나(vanishing), 폭등하는(explode) 것을 막을 수 있다. E 부분만 제외하면, 기존의 z-score로 normalize하는 과정과 같지만, 이 부분을 추가하는 것만으로도 오버피팅이나 학습이 잘되지 않는 것을 막을 수 있게 된다."
      ],
      "metadata": {
        "id": "SuVeAYE79dpG"
      }
    },
    {
      "cell_type": "markdown",
      "source": [
        "#### 실습"
      ],
      "metadata": {
        "id": "NU1DrlZM9duF"
      }
    },
    {
      "cell_type": "markdown",
      "source": [
        "아무것도 하지 않은 fully connected layer와 Batch Normalization layer를 추가한 두 실험을 비교하고자 한다. 중점적으로 봐야 할 내용은 정확도 비교와 속도의 차이이다."
      ],
      "metadata": {
        "id": "ZRm9fGz-9dxP"
      }
    },
    {
      "cell_type": "code",
      "source": [
        "import tensorflow as tf\n",
        "from tensorflow import keras\n",
        "import numpy as np\n",
        "import matplotlib.pyplot as plt\n",
        "\n",
        "fashion_mnist = keras.datasets.fashion_mnist\n",
        "print('=3')"
      ],
      "metadata": {
        "colab": {
          "base_uri": "https://localhost:8080/"
        },
        "id": "j4vOlSKV9ce8",
        "outputId": "e678feff-580b-42f5-db7d-f0cf76ffe378"
      },
      "execution_count": 36,
      "outputs": [
        {
          "output_type": "stream",
          "name": "stdout",
          "text": [
            "=3\n"
          ]
        }
      ]
    },
    {
      "cell_type": "markdown",
      "source": [
        "이미지 데이터인 fashion mnist 데이터 셋을 불러오겠다. 총 10개의 클래스로 나누어져 있다."
      ],
      "metadata": {
        "id": "UPWZS-zuBeX6"
      }
    },
    {
      "cell_type": "code",
      "source": [
        "(train_images, train_labels), (test_images, test_labels) = fashion_mnist.load_data()\n",
        "class_names = ['T-shirt/top', 'Trouser', 'Pullover', 'Dress', 'Coat',\n",
        "               'Sandal', 'Shirt', 'Sneaker', 'Bag', 'Ankle boot']\n",
        "\n",
        "train_images = train_images / 255.0\n",
        "test_images = test_images / 255.0"
      ],
      "metadata": {
        "id": "vpKfhE5lBcvT"
      },
      "execution_count": 37,
      "outputs": []
    },
    {
      "cell_type": "markdown",
      "source": [
        "이미지 트레이닝하기 위해서 train:valid를 7:3으로 분리하고, Dense layer를 쌓아서 트레이닝 해보겠다."
      ],
      "metadata": {
        "id": "Zccb79YjBo3z"
      }
    },
    {
      "cell_type": "code",
      "source": [
        "from sklearn.model_selection import train_test_split\n",
        "\n",
        "X_train, X_valid, y_train, y_valid = train_test_split(train_images, train_labels, test_size=0.3, random_state=101)\n",
        "\n",
        "model = keras.Sequential([\n",
        "    keras.layers.Flatten(input_shape=(28, 28)),\n",
        "    keras.layers.Dense(128, activation='relu'),\n",
        "    keras.layers.Dense(10, activation='softmax')\n",
        "])\n",
        "\n",
        "model.compile(optimizer='adam',loss='sparse_categorical_crossentropy',\n",
        "              metrics=['accuracy'])\n",
        "\n",
        "history= model.fit(X_train, y_train, epochs=20, batch_size=2048, validation_data=(X_valid, y_valid))"
      ],
      "metadata": {
        "colab": {
          "base_uri": "https://localhost:8080/"
        },
        "id": "Ac83S2K7BmiX",
        "outputId": "77ef1adf-ade7-4cb6-aea0-d55d095e4ffc"
      },
      "execution_count": 38,
      "outputs": [
        {
          "output_type": "stream",
          "name": "stdout",
          "text": [
            "Epoch 1/20\n",
            "21/21 [==============================] - 1s 31ms/step - loss: 1.1980 - accuracy: 0.6115 - val_loss: 0.7448 - val_accuracy: 0.7378\n",
            "Epoch 2/20\n",
            "21/21 [==============================] - 0s 21ms/step - loss: 0.6577 - accuracy: 0.7758 - val_loss: 0.5959 - val_accuracy: 0.8019\n",
            "Epoch 3/20\n",
            "21/21 [==============================] - 0s 21ms/step - loss: 0.5583 - accuracy: 0.8132 - val_loss: 0.5421 - val_accuracy: 0.8174\n",
            "Epoch 4/20\n",
            "21/21 [==============================] - 0s 13ms/step - loss: 0.5125 - accuracy: 0.8277 - val_loss: 0.5024 - val_accuracy: 0.8299\n",
            "Epoch 5/20\n",
            "21/21 [==============================] - 0s 9ms/step - loss: 0.4829 - accuracy: 0.8378 - val_loss: 0.4787 - val_accuracy: 0.8377\n",
            "Epoch 6/20\n",
            "21/21 [==============================] - 0s 10ms/step - loss: 0.4628 - accuracy: 0.8429 - val_loss: 0.4676 - val_accuracy: 0.8406\n",
            "Epoch 7/20\n",
            "21/21 [==============================] - 0s 9ms/step - loss: 0.4489 - accuracy: 0.8475 - val_loss: 0.4527 - val_accuracy: 0.8444\n",
            "Epoch 8/20\n",
            "21/21 [==============================] - 0s 10ms/step - loss: 0.4333 - accuracy: 0.8527 - val_loss: 0.4404 - val_accuracy: 0.8479\n",
            "Epoch 9/20\n",
            "21/21 [==============================] - 0s 9ms/step - loss: 0.4239 - accuracy: 0.8564 - val_loss: 0.4335 - val_accuracy: 0.8514\n",
            "Epoch 10/20\n",
            "21/21 [==============================] - 0s 10ms/step - loss: 0.4133 - accuracy: 0.8587 - val_loss: 0.4283 - val_accuracy: 0.8532\n",
            "Epoch 11/20\n",
            "21/21 [==============================] - 0s 10ms/step - loss: 0.4035 - accuracy: 0.8613 - val_loss: 0.4178 - val_accuracy: 0.8568\n",
            "Epoch 12/20\n",
            "21/21 [==============================] - 0s 9ms/step - loss: 0.3970 - accuracy: 0.8626 - val_loss: 0.4134 - val_accuracy: 0.8587\n",
            "Epoch 13/20\n",
            "21/21 [==============================] - 0s 10ms/step - loss: 0.3877 - accuracy: 0.8676 - val_loss: 0.4135 - val_accuracy: 0.8554\n",
            "Epoch 14/20\n",
            "21/21 [==============================] - 0s 9ms/step - loss: 0.3853 - accuracy: 0.8668 - val_loss: 0.4024 - val_accuracy: 0.8592\n",
            "Epoch 15/20\n",
            "21/21 [==============================] - 0s 9ms/step - loss: 0.3738 - accuracy: 0.8715 - val_loss: 0.4050 - val_accuracy: 0.8587\n",
            "Epoch 16/20\n",
            "21/21 [==============================] - 0s 9ms/step - loss: 0.3684 - accuracy: 0.8733 - val_loss: 0.3934 - val_accuracy: 0.8644\n",
            "Epoch 17/20\n",
            "21/21 [==============================] - 0s 10ms/step - loss: 0.3631 - accuracy: 0.8750 - val_loss: 0.3971 - val_accuracy: 0.8614\n",
            "Epoch 18/20\n",
            "21/21 [==============================] - 0s 10ms/step - loss: 0.3593 - accuracy: 0.8770 - val_loss: 0.3832 - val_accuracy: 0.8643\n",
            "Epoch 19/20\n",
            "21/21 [==============================] - 0s 8ms/step - loss: 0.3503 - accuracy: 0.8795 - val_loss: 0.3827 - val_accuracy: 0.8666\n",
            "Epoch 20/20\n",
            "21/21 [==============================] - 0s 8ms/step - loss: 0.3491 - accuracy: 0.8796 - val_loss: 0.3804 - val_accuracy: 0.8644\n"
          ]
        }
      ]
    },
    {
      "cell_type": "code",
      "source": [
        "# loss 값을 plot 해보겠습니다. \n",
        "y_vloss = history.history['val_loss']\n",
        "y_loss = history.history['loss']\n",
        "x_len = np.arange(len(y_loss))\n",
        "\n",
        "plt.plot(x_len, y_vloss, marker='.', c='red', label=\"Validation-set Loss\")\n",
        "plt.plot(x_len, y_loss, marker='.', c='blue', label=\"Train-set Loss\")\n",
        "plt.legend(loc='upper right')\n",
        "plt.grid()\n",
        "plt.ylim(0,1)\n",
        "plt.title('Loss graph without batch normalization') \n",
        "plt.xlabel('epoch')\n",
        "plt.ylabel('loss')\n",
        "plt.show()"
      ],
      "metadata": {
        "colab": {
          "base_uri": "https://localhost:8080/",
          "height": 295
        },
        "id": "UGNBqBcNByFh",
        "outputId": "190df154-c2b7-4581-f9d3-1d0b13ba01d9"
      },
      "execution_count": 39,
      "outputs": [
        {
          "output_type": "display_data",
          "data": {
            "text/plain": [
              "<Figure size 432x288 with 1 Axes>"
            ],
            "image/png": "[encoded data removed]"
          },
          "metadata": {
            "needs_background": "light"
          }
        }
      ]
    },
    {
      "cell_type": "code",
      "source": [
        "# accuracy 값을 plot 해보겠습니다. \n",
        "y_vacc = history.history['val_accuracy']\n",
        "y_acc = history.history['accuracy']\n",
        "x_len = np.arange(len(y_acc))\n",
        "\n",
        "plt.plot(x_len, y_vacc, marker='.', c='red', label=\"Validation-set accuracy\")\n",
        "plt.plot(x_len, y_acc, marker='.', c='blue', label=\"Train-set accuracy\")\n",
        "plt.legend(loc='lower right')\n",
        "plt.grid()\n",
        "plt.ylim(0.5,1)\n",
        "plt.title('Accuracy graph without batch normalization') \n",
        "plt.xlabel('epoch')\n",
        "plt.ylabel('accuracy')\n",
        "plt.show()"
      ],
      "metadata": {
        "colab": {
          "base_uri": "https://localhost:8080/",
          "height": 295
        },
        "id": "-dxPenWdB3nW",
        "outputId": "8ff19378-d545-4bd8-9d73-fc14c683a21d"
      },
      "execution_count": 40,
      "outputs": [
        {
          "output_type": "display_data",
          "data": {
            "text/plain": [
              "<Figure size 432x288 with 1 Axes>"
            ],
            "image/png": "[encoded data removed]"
          },
          "metadata": {
            "needs_background": "light"
          }
        }
      ]
    },
    {
      "cell_type": "markdown",
      "source": [
        "이제 BatchNormalization layer를 추가해보자."
      ],
      "metadata": {
        "id": "FLqS2Ot5B9Ik"
      }
    },
    {
      "cell_type": "code",
      "source": [
        "model = keras.Sequential([\n",
        "    keras.layers.Flatten(input_shape=(28, 28)),\n",
        "    keras.layers.Dense(128, activation='relu'),\n",
        "    #여기에 batchnormalization layer를 추가해보았습니다. 나머지 layer는 위의 실습과 같습니다.\n",
        "    keras.layers.BatchNormalization(),\n",
        "    keras.layers.Dense(10, activation='softmax')\n",
        "])\n",
        "\n",
        "model.compile(optimizer='adam',loss='sparse_categorical_crossentropy',\n",
        "              metrics=['accuracy'])\n",
        "\n",
        "history= model.fit(X_train, y_train, epochs=20, batch_size=2048, validation_data=(X_valid, y_valid))"
      ],
      "metadata": {
        "colab": {
          "base_uri": "https://localhost:8080/"
        },
        "id": "Q9vpLrVGB6jP",
        "outputId": "c192bfc3-b43a-4e1f-855d-2954d002cb45"
      },
      "execution_count": 41,
      "outputs": [
        {
          "output_type": "stream",
          "name": "stdout",
          "text": [
            "Epoch 1/20\n",
            "21/21 [==============================] - 2s 20ms/step - loss: 0.9378 - accuracy: 0.6858 - val_loss: 1.0719 - val_accuracy: 0.6620\n",
            "Epoch 2/20\n",
            "21/21 [==============================] - 0s 11ms/step - loss: 0.5217 - accuracy: 0.8231 - val_loss: 0.8360 - val_accuracy: 0.7649\n",
            "Epoch 3/20\n",
            "21/21 [==============================] - 0s 10ms/step - loss: 0.4531 - accuracy: 0.8458 - val_loss: 0.7485 - val_accuracy: 0.7981\n",
            "Epoch 4/20\n",
            "21/21 [==============================] - 0s 10ms/step - loss: 0.4149 - accuracy: 0.8576 - val_loss: 0.6938 - val_accuracy: 0.8095\n",
            "Epoch 5/20\n",
            "21/21 [==============================] - 0s 10ms/step - loss: 0.3867 - accuracy: 0.8670 - val_loss: 0.6360 - val_accuracy: 0.8272\n",
            "Epoch 6/20\n",
            "21/21 [==============================] - 0s 9ms/step - loss: 0.3659 - accuracy: 0.8733 - val_loss: 0.5802 - val_accuracy: 0.8487\n",
            "Epoch 7/20\n",
            "21/21 [==============================] - 0s 9ms/step - loss: 0.3484 - accuracy: 0.8785 - val_loss: 0.5438 - val_accuracy: 0.8537\n",
            "Epoch 8/20\n",
            "21/21 [==============================] - 0s 10ms/step - loss: 0.3328 - accuracy: 0.8830 - val_loss: 0.5214 - val_accuracy: 0.8512\n",
            "Epoch 9/20\n",
            "21/21 [==============================] - 0s 10ms/step - loss: 0.3191 - accuracy: 0.8878 - val_loss: 0.4955 - val_accuracy: 0.8619\n",
            "Epoch 10/20\n",
            "21/21 [==============================] - 0s 10ms/step - loss: 0.3076 - accuracy: 0.8925 - val_loss: 0.4677 - val_accuracy: 0.8613\n",
            "Epoch 11/20\n",
            "21/21 [==============================] - 0s 11ms/step - loss: 0.2972 - accuracy: 0.8966 - val_loss: 0.4454 - val_accuracy: 0.8638\n",
            "Epoch 12/20\n",
            "21/21 [==============================] - 0s 10ms/step - loss: 0.2862 - accuracy: 0.8994 - val_loss: 0.4316 - val_accuracy: 0.8619\n",
            "Epoch 13/20\n",
            "21/21 [==============================] - 0s 10ms/step - loss: 0.2782 - accuracy: 0.9020 - val_loss: 0.4206 - val_accuracy: 0.8586\n",
            "Epoch 14/20\n",
            "21/21 [==============================] - 0s 10ms/step - loss: 0.2714 - accuracy: 0.9027 - val_loss: 0.3962 - val_accuracy: 0.8713\n",
            "Epoch 15/20\n",
            "21/21 [==============================] - 0s 10ms/step - loss: 0.2626 - accuracy: 0.9067 - val_loss: 0.3913 - val_accuracy: 0.8682\n",
            "Epoch 16/20\n",
            "21/21 [==============================] - 0s 10ms/step - loss: 0.2526 - accuracy: 0.9105 - val_loss: 0.3683 - val_accuracy: 0.8746\n",
            "Epoch 17/20\n",
            "21/21 [==============================] - 0s 10ms/step - loss: 0.2441 - accuracy: 0.9126 - val_loss: 0.3647 - val_accuracy: 0.8736\n",
            "Epoch 18/20\n",
            "21/21 [==============================] - 0s 11ms/step - loss: 0.2392 - accuracy: 0.9167 - val_loss: 0.3558 - val_accuracy: 0.8717\n",
            "Epoch 19/20\n",
            "21/21 [==============================] - 0s 10ms/step - loss: 0.2312 - accuracy: 0.9180 - val_loss: 0.3514 - val_accuracy: 0.8747\n",
            "Epoch 20/20\n",
            "21/21 [==============================] - 0s 9ms/step - loss: 0.2232 - accuracy: 0.9215 - val_loss: 0.3514 - val_accuracy: 0.8767\n"
          ]
        }
      ]
    },
    {
      "cell_type": "code",
      "source": [
        "# loss 값을 plot 해보겠습니다. \n",
        "y_vloss = history.history['val_loss']\n",
        "y_loss = history.history['loss']\n",
        "x_len = np.arange(len(y_loss))\n",
        "\n",
        "plt.plot(x_len, y_vloss, marker='.', c='red', label=\"Validation-set Loss\")\n",
        "plt.plot(x_len, y_loss, marker='.', c='blue', label=\"Train-set Loss\")\n",
        "plt.legend(loc='upper right')\n",
        "plt.grid()\n",
        "plt.ylim(0,1)\n",
        "plt.title('Loss graph with batch normalization') \n",
        "plt.xlabel('epoch')\n",
        "plt.ylabel('loss')\n",
        "plt.show()"
      ],
      "metadata": {
        "colab": {
          "base_uri": "https://localhost:8080/",
          "height": 295
        },
        "id": "JGB8yrqfCC77",
        "outputId": "745c1ece-6e19-494b-8448-13cd29b91dc0"
      },
      "execution_count": 42,
      "outputs": [
        {
          "output_type": "display_data",
          "data": {
            "text/plain": [
              "<Figure size 432x288 with 1 Axes>"
            ],
            "image/png": "[encoded data removed]"
          },
          "metadata": {
            "needs_background": "light"
          }
        }
      ]
    },
    {
      "cell_type": "code",
      "source": [
        "# accuracy 값을 plot 해보겠습니다. \n",
        "y_vacc = history.history['val_accuracy']\n",
        "y_acc = history.history['accuracy']\n",
        "x_len = np.arange(len(y_acc))\n",
        "\n",
        "plt.plot(x_len, y_vacc, marker='.', c='red', label=\"Validation-set accuracy\")\n",
        "plt.plot(x_len, y_acc, marker='.', c='blue', label=\"Train-set accuracy\")\n",
        "plt.legend(loc='lower right')\n",
        "plt.grid()\n",
        "plt.ylim(0.5,1) \n",
        "plt.title('Accurcy graph with batch normalization') \n",
        "plt.xlabel('epoch')\n",
        "plt.ylabel('accuracy')\n",
        "plt.show()"
      ],
      "metadata": {
        "colab": {
          "base_uri": "https://localhost:8080/",
          "height": 295
        },
        "id": "sOJqsJXhCHNt",
        "outputId": "4765b3ec-590a-496b-ea7b-5c18d49bc97a"
      },
      "execution_count": 43,
      "outputs": [
        {
          "output_type": "display_data",
          "data": {
            "text/plain": [
              "<Figure size 432x288 with 1 Axes>"
            ],
            "image/png": "[encoded data removed]"
          },
          "metadata": {
            "needs_background": "light"
          }
        }
      ]
    },
    {
      "cell_type": "markdown",
      "source": [
        "기존의 fully connected layer도 낮지 않은 결과를 가져오지만, Batch Normalization을 추가하니 좀 더 빠르게 정확도 상승이 있음을 확인할 수 있었다. 또한 loss 함수의 감소도 더 빨라짐을 확인할 수 있었다. 즉 Batch Normalization으로 인해 이미지가 정규화되면서 좀 더 고른 분포를 가지기도 하며, 앞서 설명한 E부분으로 인해 안정적인 학습이 가능해진다."
      ],
      "metadata": {
        "id": "RdINKWlcCMn7"
      }
    }
  ]
}